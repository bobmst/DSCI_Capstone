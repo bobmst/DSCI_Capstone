{
 "cells": [
  {
   "cell_type": "code",
   "execution_count": 1,
   "outputs": [],
   "source": [
    "import os\n",
    "import time\n",
    "from pprint import pprint\n",
    "from tqdm import tqdm\n",
    "\n",
    "import numpy as np\n",
    "import torch\n",
    "import torch.nn as nn\n",
    "import torch.nn.functional as F\n",
    "import random\n",
    "\n",
    "if torch.cuda.is_available():\n",
    "    torch.backends.cudnn.deterministic = True\n",
    "\n",
    "\n",
    "from util import *\n",
    "import pandas as pd"
   ],
   "metadata": {
    "collapsed": false
   }
  },
  {
   "cell_type": "code",
   "execution_count": 2,
   "outputs": [],
   "source": [
    "from docopt import docopt\n",
    "import os\n",
    "from pathlib import Path\n",
    "import importlib\n",
    "import logging\n",
    "import yaml\n",
    "\n",
    "from torch.utils.data import DataLoader\n",
    "import torch.nn as nn\n",
    "import torch.optim as optim\n",
    "\n",
    "from util import *\n",
    "from data_prepare import DataPrep\n",
    "from models_cnn import VoiceDataset\n"
   ],
   "metadata": {
    "collapsed": false
   }
  },
  {
   "cell_type": "code",
   "execution_count": 6,
   "outputs": [],
   "source": [
    "with open(\"params_lstm.yml\", 'r') as file:\n",
    "    params = yaml.safe_load(file)\n",
    "\n",
    "algo = params[\"algorithm\"]\n",
    "batch_size = int(algo[\"params\"][\"batch_size\"])\n",
    "n_epochs = int(algo[\"params\"][\"epochs\"])\n",
    "patience = int(algo[\"params\"][\"patience\"])\n",
    "learning_rate = float(algo[\"params\"][\"learning_rate\"])\n"
   ],
   "metadata": {
    "collapsed": false
   }
  },
  {
   "cell_type": "code",
   "execution_count": 7,
   "outputs": [
    {
     "data": {
      "text/plain": "{'name': {'CNNLSTMNet': {'num_filters_conv1': 64,\n   'num_filters_conv2': 128,\n   'num_filters_conv3': 256,\n   'num_filters_conv4': 512,\n   'hidden_size_lstm': 64,\n   'dropout_rate': 0.5,\n   'num_classes': 200}},\n 'params': {'batch_size': 64,\n  'cv': False,\n  'epochs': 50,\n  'learning_rate': 0.001,\n  'patience': 100},\n 'save_path': 'model.pt'}"
     },
     "execution_count": 7,
     "metadata": {},
     "output_type": "execute_result"
    }
   ],
   "source": [
    "algo"
   ],
   "metadata": {
    "collapsed": false
   }
  },
  {
   "cell_type": "code",
   "execution_count": 8,
   "outputs": [
    {
     "name": "stderr",
     "output_type": "stream",
     "text": [
      "100it [00:01, 58.67it/s]\n"
     ]
    },
    {
     "name": "stdout",
     "output_type": "stream",
     "text": [
      "X shape: (49664, 17, 216)\n",
      "y shape: (49664,)\n",
      "labels shape: (49664,)\n",
      "=====================================\n",
      "Number of unique speakers: 200\n",
      "Number of unique classes: 200\n",
      "Unique classes: [  0   1   2   3   4   5   6   7   8   9  10  11  12  13  14  15  16  17\n",
      "  18  19  20  21  22  23  24  25  26  27  28  29  30  31  32  33  34  35\n",
      "  36  37  38  39  40  41  42  43  44  45  46  47  48  49  50  51  52  53\n",
      "  54  55  56  57  58  59  60  61  62  63  64  65  66  67  68  69  70  71\n",
      "  72  73  74  75  76  77  78  79  80  81  82  83  84  85  86  87  88  89\n",
      "  90  91  92  93  94  95  96  97  98  99 100 101 102 103 104 105 106 107\n",
      " 108 109 110 111 112 113 114 115 116 117 118 119 120 121 122 123 124 125\n",
      " 126 127 128 129 130 131 132 133 134 135 136 137 138 139 140 141 142 143\n",
      " 144 145 146 147 148 149 150 151 152 153 154 155 156 157 158 159 160 161\n",
      " 162 163 164 165 166 167 168 169 170 171 172 173 174 175 176 177 178 179\n",
      " 180 181 182 183 184 185 186 187 188 189 190 191 192 193 194 195 196 197\n",
      " 198 199]\n"
     ]
    }
   ],
   "source": [
    "# Get data\n",
    "from sklearn.model_selection import train_test_split\n",
    "data = DataPrep(\"data/preprocessed/train_len5_mfcc\", \"data/preprocessed/df_index_train.pkl\")\n",
    "data.load()\n",
    "data.get_data_info()\n",
    "X, y, labels = data.get_data(labels=True)\n",
    "\n",
    "# Prepare data for training\n",
    "X_train, X_val, y_train, y_val = train_test_split(X, y, test_size=0.2, random_state=42)\n",
    "\n",
    "# Create VoiceDataset object\n",
    "train_dataset = VoiceDataset(X_train, y_train)\n",
    "val_dataset = VoiceDataset(X_val, y_val)\n",
    "\n",
    "# Create DataLoader\n",
    "train_loader = DataLoader(train_dataset, batch_size=batch_size, shuffle=True)\n",
    "val_loader = DataLoader(val_dataset, batch_size=batch_size, shuffle=True)\n",
    "\n"
   ],
   "metadata": {
    "collapsed": false
   }
  },
  {
   "cell_type": "code",
   "execution_count": 9,
   "outputs": [
    {
     "ename": "NameError",
     "evalue": "name 'get_model' is not defined",
     "output_type": "error",
     "traceback": [
      "\u001B[0;31m---------------------------------------------------------------------------\u001B[0m",
      "\u001B[0;31mNameError\u001B[0m                                 Traceback (most recent call last)",
      "Cell \u001B[0;32mIn[9], line 2\u001B[0m\n\u001B[1;32m      1\u001B[0m device \u001B[38;5;241m=\u001B[39m get_cuda_device()\n\u001B[0;32m----> 2\u001B[0m model \u001B[38;5;241m=\u001B[39m \u001B[43mget_model\u001B[49m(algo)\n\u001B[1;32m      3\u001B[0m model \u001B[38;5;241m=\u001B[39m model\u001B[38;5;241m.\u001B[39mto(device)\n",
      "\u001B[0;31mNameError\u001B[0m: name 'get_model' is not defined"
     ]
    }
   ],
   "source": [
    "device = get_cuda_device()\n"
   ],
   "metadata": {
    "collapsed": false
   }
  },
  {
   "cell_type": "code",
   "execution_count": 10,
   "outputs": [],
   "source": [
    "def get_model(algo):\n",
    "    NAME = list(algo[\"name\"].keys())[0]\n",
    "    module = importlib.import_module(\"models_cnn\")\n",
    "\n",
    "    if \"num_classes\" in algo[\"name\"][NAME]:\n",
    "        model = getattr(module, NAME)(**algo[\"name\"][NAME])\n",
    "\n",
    "    return model"
   ],
   "metadata": {
    "collapsed": false
   }
  },
  {
   "cell_type": "code",
   "execution_count": 11,
   "outputs": [
    {
     "data": {
      "text/plain": "CNNLSTMNet(\n  (conv1): Conv1d(1, 64, kernel_size=(5,), stride=(1,), padding=(2,))\n  (relu1): ReLU()\n  (pool1): MaxPool1d(kernel_size=2, stride=2, padding=0, dilation=1, ceil_mode=False)\n  (dropout1): Dropout(p=0.5, inplace=False)\n  (conv2): Conv1d(64, 128, kernel_size=(5,), stride=(1,), padding=(2,))\n  (relu2): ReLU()\n  (pool2): MaxPool1d(kernel_size=2, stride=2, padding=0, dilation=1, ceil_mode=False)\n  (dropout2): Dropout(p=0.5, inplace=False)\n  (conv3): Conv1d(128, 256, kernel_size=(5,), stride=(1,), padding=(2,))\n  (relu3): ReLU()\n  (pool3): MaxPool1d(kernel_size=2, stride=2, padding=0, dilation=1, ceil_mode=False)\n  (dropout3): Dropout(p=0.5, inplace=False)\n  (conv4): Conv1d(256, 512, kernel_size=(5,), stride=(1,), padding=(2,))\n  (relu4): ReLU()\n  (pool4): MaxPool1d(kernel_size=2, stride=2, padding=0, dilation=1, ceil_mode=False)\n  (dropout4): Dropout(p=0.5, inplace=False)\n  (lstm): LSTM(95744, 64, num_layers=3, batch_first=True, bidirectional=True)\n  (fc1): Linear(in_features=384, out_features=192, bias=True)\n  (relu5): ReLU()\n  (fc2): Linear(in_features=192, out_features=16, bias=True)\n  (fc3): Linear(in_features=16, out_features=200, bias=True)\n)"
     },
     "execution_count": 11,
     "metadata": {},
     "output_type": "execute_result"
    }
   ],
   "source": [
    "get_model(algo)"
   ],
   "metadata": {
    "collapsed": false
   }
  },
  {
   "cell_type": "code",
   "execution_count": 351,
   "outputs": [
    {
     "data": {
      "text/plain": "device(type='cpu')"
     },
     "execution_count": 351,
     "metadata": {},
     "output_type": "execute_result"
    }
   ],
   "source": [
    "device = torch.device(\"cuda\" if torch.cuda.is_available() else \"cpu\")\n",
    "device"
   ],
   "metadata": {
    "collapsed": false
   }
  },
  {
   "cell_type": "code",
   "execution_count": 363,
   "outputs": [
    {
     "name": "stderr",
     "output_type": "stream",
     "text": [
      "100it [00:01, 66.52it/s]\n"
     ]
    },
    {
     "name": "stdout",
     "output_type": "stream",
     "text": [
      "X shape: (3840, 17, 216)\n",
      "y shape: (3840,)\n",
      "labels shape: (3840,)\n",
      "=====================================\n",
      "Number of unique speakers: 15\n",
      "Number of unique classes: 15\n",
      "Unique classes: [ 0.  1.  2.  3.  4.  5.  6.  7.  8.  9. 10. 11. 12. 13. 14.]\n"
     ]
    }
   ],
   "source": [
    "from data_prepare import *\n",
    "\n",
    "FILE_DIR = Path(DATA_ADDRESS) / \"VOiCES_devkit\"\n",
    "TRAIN_DIR = Path(DATA_ADDRESS) / \"preprocessed/train\"\n",
    "INDEX_DIR = Path(DATA_ADDRESS) / \"preprocessed\"\n",
    "\n",
    "data = DataPrep(FILE_DIR, TRAIN_DIR, INDEX_DIR, 15)\n",
    "data.load()\n",
    "data.get_data_info()\n",
    "\n",
    "X, y, labels = data.get_data(labels=True)"
   ],
   "metadata": {
    "collapsed": false
   }
  },
  {
   "cell_type": "code",
   "execution_count": 408,
   "outputs": [],
   "source": [
    "def get_cuda_device():\n",
    "    import torch\n",
    "    # Check if GPUs are available\n",
    "    if torch.cuda.is_available():\n",
    "        # Set the default device to GPU\n",
    "        torch.cuda.set_device(0)  # Specify the GPU device index if using multiple GPUs\n",
    "        device = torch.device('cuda')\n",
    "    else:\n",
    "        # Set the default device to CPU\n",
    "        # torch.set_default_tensor_type('torch.FloatTensor')\n",
    "        device = torch.device('cpu')\n",
    "\n",
    "    return device\n"
   ],
   "metadata": {
    "collapsed": false
   }
  },
  {
   "cell_type": "code",
   "execution_count": 1,
   "outputs": [
    {
     "name": "stderr",
     "output_type": "stream",
     "text": [
      "100it [00:00, 137.71it/s]\n"
     ]
    },
    {
     "name": "stdout",
     "output_type": "stream",
     "text": [
      "X shape: (3840, 17, 216)\n",
      "y shape: (3840,)\n",
      "labels shape: (3840,)\n",
      "=====================================\n",
      "Number of unique speakers: 15\n",
      "Number of unique classes: 15\n",
      "Unique classes: [ 0.  1.  2.  3.  4.  5.  6.  7.  8.  9. 10. 11. 12. 13. 14.]\n"
     ]
    }
   ],
   "source": [
    "from data_prepare import *\n",
    "\n",
    "from sklearn.model_selection import train_test_split\n",
    "from util import *\n",
    "\n",
    "FILE_DIR = Path(DATA_ADDRESS) / \"VOiCES_devkit\"\n",
    "TRAIN_DIR = Path(DATA_ADDRESS) / \"preprocessed/train\"\n",
    "INDEX_DIR = Path(DATA_ADDRESS) / \"preprocessed\"\n",
    "\n",
    "data = DataPrep(FILE_DIR, TRAIN_DIR, INDEX_DIR, 15)\n",
    "data.load()\n",
    "data.get_data_info()\n",
    "\n",
    "X, y, labels = data.get_data(labels=True)\n",
    "\n",
    "# Create\n",
    "device = get_cuda_device()\n",
    "X_train, X_val, y_train, y_val = train_test_split(X, y, test_size=0.2, random_state=2024)\n",
    "\n",
    "# Create VoiceDataset object\n",
    "train_dataset = VoiceDataset(X, y)\n",
    "val_dataset = VoiceDataset(X_val, y_val)\n",
    "\n",
    "# Create DataLoader\n",
    "train_loader = DataLoader(train_dataset, batch_size=32, shuffle=True)\n",
    "val_loader = DataLoader(val_dataset, batch_size=32, shuffle=True)\n"
   ],
   "metadata": {
    "collapsed": false
   }
  },
  {
   "cell_type": "code",
   "execution_count": 2,
   "outputs": [],
   "source": [
    "model = AudioCNN(num_classes=15)"
   ],
   "metadata": {
    "collapsed": false
   }
  },
  {
   "cell_type": "code",
   "execution_count": 4,
   "outputs": [],
   "source": [
    "model2 = BaseCNN(num_classes=15)"
   ],
   "metadata": {
    "collapsed": false
   }
  },
  {
   "cell_type": "code",
   "execution_count": 7,
   "outputs": [
    {
     "data": {
      "text/plain": "{'algorithm': {'name': {'BaseCNN': {'num_classes': 20}},\n  'params': {'batch_size': 32,\n   'cv': False,\n   'epochs': 5,\n   'learning_rate': 0.001,\n   'patients': 15},\n  'save_path': 'model.pt'}}"
     },
     "execution_count": 7,
     "metadata": {},
     "output_type": "execute_result"
    }
   ],
   "source": [
    "import yaml\n",
    "with open('params.yml', 'r') as file:\n",
    "    params = yaml.safe_load(file)\n",
    "\n",
    "params"
   ],
   "metadata": {
    "collapsed": false
   }
  },
  {
   "cell_type": "code",
   "execution_count": 2,
   "outputs": [],
   "source": [
    "from train_cnn import *"
   ],
   "metadata": {
    "collapsed": false
   }
  },
  {
   "cell_type": "code",
   "execution_count": 3,
   "outputs": [
    {
     "data": {
      "text/plain": "{'name': {'BaseCNN': {'num_classes': 15}},\n 'params': {'batch_size': 32,\n  'cv': False,\n  'epochs': 5,\n  'learning_rate': 0.001,\n  'patients': 15},\n 'save_path': 'model.pt'}"
     },
     "execution_count": 3,
     "metadata": {},
     "output_type": "execute_result"
    }
   ],
   "source": [
    "params[\"algorithm\"]"
   ],
   "metadata": {
    "collapsed": false
   }
  },
  {
   "cell_type": "code",
   "execution_count": 8,
   "outputs": [],
   "source": [
    "tmp = get_model(params[\"algorithm\"])"
   ],
   "metadata": {
    "collapsed": false
   }
  },
  {
   "cell_type": "code",
   "execution_count": 13,
   "outputs": [
    {
     "data": {
      "text/plain": "{'batch_size': 32,\n 'cv': False,\n 'epochs': 5,\n 'learning_rate': 0.001,\n 'patients': 15}"
     },
     "execution_count": 13,
     "metadata": {},
     "output_type": "execute_result"
    }
   ],
   "source": [
    "params[\"algorithm\"][\"params\"]"
   ],
   "metadata": {
    "collapsed": false
   }
  },
  {
   "cell_type": "code",
   "execution_count": 400,
   "outputs": [],
   "source": [
    "from sklearn.model_selection import GroupKFold, KFold\n",
    "\n",
    "# Define the number of folds and batch size\n",
    "k_folds = 5\n",
    "batch_size = 32\n",
    "\n",
    "# Define the device (CPU or GPU)\n",
    "device = torch.device(\"cuda\" if torch.cuda.is_available() else \"cpu\")\n",
    "\n",
    "# Initialize the k-fold cross validation\n",
    "# may consider group-k-fold for the distractor type in the next interation\n",
    "kf = KFold(n_splits=k_folds)"
   ],
   "metadata": {
    "collapsed": false
   }
  },
  {
   "cell_type": "code",
   "execution_count": 401,
   "outputs": [
    {
     "name": "stdout",
     "output_type": "stream",
     "text": [
      "Fold 1\n",
      "-------\n",
      "Train indices length: 3072\n",
      "Test indices length: 768\n"
     ]
    }
   ],
   "source": [
    "for fold, (train_idx, test_idx) in enumerate(kf.split(X, y)):\n",
    "    print(f\"Fold {fold + 1}\")\n",
    "    print(\"-------\")\n",
    "    print(f\"Train indices length: {len(train_idx)}\")\n",
    "    print(f\"Test indices length: {len(test_idx)}\")\n",
    "\n",
    "    # Define the data loaders for the current fold\n",
    "    train_loader = DataLoader(\n",
    "        dataset=X,\n",
    "        batch_size=batch_size,\n",
    "        sampler=torch.utils.data.SubsetRandomSampler(train_idx),\n",
    "    )\n",
    "    test_loader = DataLoader(\n",
    "        dataset=X,\n",
    "        batch_size=batch_size,\n",
    "        sampler=torch.utils.data.SubsetRandomSampler(test_idx),\n",
    "    )\n",
    "\n",
    "    # X_train = X[train_idx]\n",
    "    # y_train = y[train_idx]\n",
    "    # labels_train = labels[train_idx]\n",
    "    #\n",
    "    # X_test = X[test_idx]\n",
    "    # y_test = y[test_idx]\n",
    "    # labels_test = labels[test_idx]\n",
    "\n",
    "    # Initialize the model and optimizer\n",
    "    model = Net().to(device)\n",
    "    optimizer = optim.SGD(model.parameters(), lr=0.01, momentum=0.5)\n",
    "\n",
    "\n",
    "    # Train the model on the current fold\n",
    "    for epoch in range(1, 11):\n",
    "        train(model, device, train_loader, optimizer, epoch)\n",
    "\n",
    "    break"
   ],
   "metadata": {
    "collapsed": false
   }
  },
  {
   "cell_type": "code",
   "execution_count": 402,
   "outputs": [
    {
     "data": {
      "text/plain": "(3072, 17, 216)"
     },
     "execution_count": 402,
     "metadata": {},
     "output_type": "execute_result"
    }
   ],
   "source": [
    "X_train.shape"
   ],
   "metadata": {
    "collapsed": false
   }
  },
  {
   "cell_type": "code",
   "execution_count": 403,
   "outputs": [
    {
     "data": {
      "text/plain": "{0.0,\n 1.0,\n 2.0,\n 3.0,\n 4.0,\n 5.0,\n 6.0,\n 7.0,\n 8.0,\n 9.0,\n 10.0,\n 11.0,\n 12.0,\n 13.0,\n 14.0}"
     },
     "execution_count": 403,
     "metadata": {},
     "output_type": "execute_result"
    }
   ],
   "source": [
    "set(y_train)"
   ],
   "metadata": {
    "collapsed": false
   }
  },
  {
   "cell_type": "code",
   "execution_count": 404,
   "outputs": [
    {
     "data": {
      "text/plain": "{0.0, 1.0, 2.0, 3.0, 4.0, 6.0, 7.0, 8.0, 9.0, 10.0, 11.0, 12.0, 13.0, 14.0}"
     },
     "execution_count": 404,
     "metadata": {},
     "output_type": "execute_result"
    }
   ],
   "source": [
    "set(y_test)"
   ],
   "metadata": {
    "collapsed": false
   }
  },
  {
   "cell_type": "code",
   "execution_count": 405,
   "outputs": [
    {
     "data": {
      "text/plain": "{'0242',\n '0248',\n '1926',\n '2573',\n '3521',\n '3835',\n '4064',\n '4160',\n '5189',\n '5583',\n '5968',\n '6395',\n '7498',\n '8266',\n '8575'}"
     },
     "execution_count": 405,
     "metadata": {},
     "output_type": "execute_result"
    }
   ],
   "source": [
    "set(labels_train)"
   ],
   "metadata": {
    "collapsed": false
   }
  },
  {
   "cell_type": "code",
   "execution_count": 406,
   "outputs": [
    {
     "data": {
      "text/plain": "{'0242',\n '0248',\n '1926',\n '2573',\n '3521',\n '3835',\n '4064',\n '4160',\n '5189',\n '5583',\n '5968',\n '6395',\n '7498',\n '8266'}"
     },
     "execution_count": 406,
     "metadata": {},
     "output_type": "execute_result"
    }
   ],
   "source": [
    "set(labels_test)"
   ],
   "metadata": {
    "collapsed": false
   }
  },
  {
   "cell_type": "code",
   "execution_count": 345,
   "outputs": [
    {
     "data": {
      "text/plain": "3840"
     },
     "execution_count": 345,
     "metadata": {},
     "output_type": "execute_result"
    }
   ],
   "source": [
    "torch.tensor(X, dtype=torch.float)\n",
    "torch.tensor(y, dtype=torch.long)\n",
    "len(y)"
   ],
   "metadata": {
    "collapsed": false
   }
  },
  {
   "cell_type": "code",
   "execution_count": 348,
   "outputs": [],
   "source": [
    "voice = VoiceDataset(X, y)\n",
    "x1, y1= voice.__getitem__(0)"
   ],
   "metadata": {
    "collapsed": false
   }
  },
  {
   "cell_type": "code",
   "execution_count": 350,
   "outputs": [
    {
     "data": {
      "text/plain": "tensor(10)"
     },
     "execution_count": 350,
     "metadata": {},
     "output_type": "execute_result"
    }
   ],
   "source": [
    "y1"
   ],
   "metadata": {
    "collapsed": false
   }
  },
  {
   "cell_type": "code",
   "execution_count": 330,
   "outputs": [],
   "source": [
    "import numpy as np\n",
    "import os\n",
    "from util import *\n",
    "import pandas as pd\n",
    "from pathlib import Path\n",
    "\n",
    "FILE_DIR = Path(DATA_ADDRESS) / \"VOiCES_devkit\"\n",
    "TRAIN_DIR = Path(DATA_ADDRESS) / \"preprocessed/train\"\n",
    "INDEX_DIR = Path(DATA_ADDRESS) / \"preprocessed\"\n",
    "\n",
    "def prepare_index_data(path, num_classes=None):\n",
    "    \"\"\"\n",
    "    Prepare the index data\n",
    "    :param path\n",
    "    :param num_classes (optional): specify an integer to add a column to subset the data to randomly selected N\n",
    "    speakers (speakerN (0/1), speakerN_class (0-N-1)\n",
    "    :return: 2 dataframes (df_index_reference, df_files_to_load)\n",
    "    \"\"\"\n",
    "    df_index = pd.read_pickle(path)\n",
    "\n",
    "    # create a column in train for count of speakers repeats\n",
    "    df_index = df_index.merge(df_index.groupby('speaker').size().reset_index\n",
    "                                          (name='n_samples_per_speaker'), on='speaker', how='left')\n",
    "\n",
    "    # select unique speaker-pkl_filename\n",
    "    df_index['pkl_filename'] = df_index['pkl_file_dir'].apply(lambda x: Path(x).name)\n",
    "    df_index_unique = df_index[[\"file_index\", 'speaker', 'pkl_filename', 'n_samples_per_speaker']].drop_duplicates()\n",
    "\n",
    "    # make sure the pkl filenames are loaded in the same order as in df_index_train\n",
    "    df_files_to_load = df_index_unique[[\"pkl_filename\"]].drop_duplicates()\n",
    "    df_files_to_load = df_files_to_load.reset_index().sort_values(by='index').reset_index(drop=True)\n",
    "\n",
    "    df_index_reference = df_index_unique.merge(df_files_to_load, on='pkl_filename',\n",
    "                                                           how='left').sort_values \\\n",
    "        (by=['index', 'file_index']) \\\n",
    "        .reset_index(drop=True)\n",
    "\n",
    "    df_index_reference[\"speaker_full_array_index\"] = np.array(range(len(df_index_reference)))\n",
    "    df_index_reference[\"pkl_filename_index\"] = df_index_reference[\"index\"]\n",
    "    df_index_reference = df_index_reference[['file_index', 'pkl_filename', 'pkl_filename_index',\n",
    "                                             'n_samples_per_speaker', 'speaker',\n",
    "                                             'speaker_full_array_index']]\n",
    "\n",
    "    # prepare labels\n",
    "    speaker_map = {speaker: i for i, speaker in enumerate(df_index_reference[\"speaker\"].unique())}\n",
    "    df_index_reference['speaker_class'] = df_index_reference['speaker'].map(speaker_map)\n",
    "\n",
    "    if num_classes:\n",
    "        speakers = df_index_reference[df_index_reference['n_samples_per_speaker'] == 256]['speaker'].sample(\n",
    "            num_classes, random_state=2024).values\n",
    "\n",
    "        df_index_reference[f\"speaker{num_classes}\"] = df_index_reference['speaker'].apply(\n",
    "            lambda x: 1 if x in speakers else 0)\n",
    "\n",
    "        speaker_map = {speaker: i for i, speaker in enumerate(speakers)}\n",
    "        df_index_reference[f\"speaker{num_classes}_class\"] = df_index_reference['speaker'].map(speaker_map)\n",
    "\n",
    "    return df_index_reference, df_files_to_load\n",
    "\n",
    "def load_data(df_index_reference, df_files_to_load, input_dir, num_classes=None, verbose=False):\n",
    "    \"\"\"\n",
    "    Load the data\n",
    "    :param df_index_reference: output of prepare_index_data\n",
    "    :param df_files_to_load: output of prepare_index_data\n",
    "    :param input_dir: directory to pkl files location\n",
    "    :param num_classes: specify an integer to subset the data to randomly selected N speakers in prepare_index_data (\n",
    "    must be the same as num_classes in prepare_index_data)\n",
    "    :param verbose: print the filename being loaded\n",
    "    :return: X, y, labels (speaker IDs)\n",
    "    \"\"\"\n",
    "    if not isinstance(input_dir, Path):\n",
    "        input_dir = Path(input_dir)\n",
    "    X_ls = []\n",
    "    filenames = []\n",
    "    for index, row in tqdm(df_files_to_load.iterrows()):\n",
    "        filename = row['pkl_filename']\n",
    "        if verbose:\n",
    "            print(\"Loading: \", filename)\n",
    "        x = load_pickle(input_dir / filename)\n",
    "        X_ls.append(x)\n",
    "        filenames.append(filename)\n",
    "    X = np.concatenate(X_ls, axis=0)\n",
    "\n",
    "    labels = df_index_reference[\"speaker\"].values\n",
    "    y = df_index_reference[\"speaker_class\"].values\n",
    "\n",
    "    if num_classes:\n",
    "        # subset to speaker15=1 and make sure it's sorted by how files will be loaded\n",
    "        df_index_reference_sub =df_index_reference[df_index_reference[f\"speaker{num_classes}\"] == 1].sort_values\\\n",
    "            (by=[\"pkl_filename_index\",\"pkl_filename\"]).copy()\n",
    "\n",
    "\n",
    "        X = X[df_index_reference_sub[\"speaker_full_array_index\"].values]\n",
    "\n",
    "        labels = df_index_reference_sub[\"speaker\"].values\n",
    "        y = df_index_reference_sub[f\"speaker{num_classes}_class\"].values\n",
    "\n",
    "    return X, y, labels\n"
   ],
   "metadata": {
    "collapsed": false
   }
  },
  {
   "cell_type": "code",
   "execution_count": 331,
   "outputs": [
    {
     "name": "stderr",
     "output_type": "stream",
     "text": [
      "100it [00:00, 190.91it/s]\n"
     ]
    },
    {
     "name": "stdout",
     "output_type": "stream",
     "text": [
      "X shape: (3840, 17, 216)\n",
      "y shape: (3840,)\n",
      "labels shape: (3840,)\n"
     ]
    }
   ],
   "source": [
    "df_index_reference, df_files_to_load = prepare_index_data(INDEX_DIR / \"df_index_train.pkl\", 15)\n",
    "X, y, labels = load_data(df_index_reference, df_files_to_load, TRAIN_DIR, 15)\n",
    "\n",
    "print(f\"X shape: {X.shape}\")\n",
    "print(f\"y shape: {y.shape}\")\n",
    "print(f\"labels shape: {labels.shape}\")\n"
   ],
   "metadata": {
    "collapsed": false
   }
  },
  {
   "cell_type": "code",
   "execution_count": 3,
   "outputs": [
    {
     "data": {
      "text/plain": "100"
     },
     "execution_count": 3,
     "metadata": {},
     "output_type": "execute_result"
    }
   ],
   "source": [
    "files = os.listdir(TRAIN_DIR)\n",
    "len(files)"
   ],
   "metadata": {
    "collapsed": false
   }
  },
  {
   "cell_type": "code",
   "execution_count": 227,
   "outputs": [],
   "source": [
    "df_index_train = pd.read_pickle(DATA_ADDRESS+\"preprocessed/df_index_train.pkl\")\n",
    "df_index_test = pd.read_pickle(DATA_ADDRESS+\"preprocessed/df_index_test.pkl\")"
   ],
   "metadata": {
    "collapsed": false
   }
  },
  {
   "cell_type": "code",
   "execution_count": 228,
   "outputs": [],
   "source": [
    "# create a column in train for count of speakers repeats\n",
    "df_index_train = df_index_train.merge(df_index_train.groupby('speaker').size().reset_index\n",
    "                                    (name='n_samples_per_speaker'), on='speaker', how='left')"
   ],
   "metadata": {
    "collapsed": false
   }
  },
  {
   "cell_type": "code",
   "execution_count": 229,
   "outputs": [
    {
     "data": {
      "text/plain": "       file_index  old_index                             origin_folder  \\\n0               0         30  distant-16k/speech/train/rm4/musi/sp1121   \n1               1         31  distant-16k/speech/train/rm4/musi/sp1121   \n2               2         32  distant-16k/speech/train/rm4/musi/sp1121   \n3               3         33  distant-16k/speech/train/rm4/musi/sp1121   \n4               4         34  distant-16k/speech/train/rm4/musi/sp1121   \n...           ...        ...                                       ...   \n49659         159      74443  distant-16k/speech/train/rm3/tele/sp2764   \n49660         160      74444  distant-16k/speech/train/rm3/tele/sp2764   \n49661         161      74445  distant-16k/speech/train/rm3/tele/sp2764   \n49662         162      74446  distant-16k/speech/train/rm3/tele/sp2764   \n49663         163      74447  distant-16k/speech/train/rm3/tele/sp2764   \n\n      speaker distractor room category  \\\n0        1121       musi  rm4    train   \n1        1121       musi  rm4    train   \n2        1121       musi  rm4    train   \n3        1121       musi  rm4    train   \n4        1121       musi  rm4    train   \n...       ...        ...  ...      ...   \n49659    2764       tele  rm3    train   \n49660    2764       tele  rm3    train   \n49661    2764       tele  rm3    train   \n49662    2764       tele  rm3    train   \n49663    2764       tele  rm3    train   \n\n                                                filename  \\\n0      5seconds-16k/speech/train/rm4/musi/sp1121/Lab4...   \n1      5seconds-16k/speech/train/rm4/musi/sp1121/Lab4...   \n2      5seconds-16k/speech/train/rm4/musi/sp1121/Lab4...   \n3      5seconds-16k/speech/train/rm4/musi/sp1121/Lab4...   \n4      5seconds-16k/speech/train/rm4/musi/sp1121/Lab4...   \n...                                                  ...   \n49659  5seconds-16k/speech/train/rm3/tele/sp2764/Lab4...   \n49660  5seconds-16k/speech/train/rm3/tele/sp2764/Lab4...   \n49661  5seconds-16k/speech/train/rm3/tele/sp2764/Lab4...   \n49662  5seconds-16k/speech/train/rm3/tele/sp2764/Lab4...   \n49663  5seconds-16k/speech/train/rm3/tele/sp2764/Lab4...   \n\n                                            pkl_file_dir  \\\n0      preprocessed/train/mfcc_len5_fft2048_mels128_m...   \n1      preprocessed/train/mfcc_len5_fft2048_mels128_m...   \n2      preprocessed/train/mfcc_len5_fft2048_mels128_m...   \n3      preprocessed/train/mfcc_len5_fft2048_mels128_m...   \n4      preprocessed/train/mfcc_len5_fft2048_mels128_m...   \n...                                                  ...   \n49659  preprocessed/train/mfcc_len5_fft2048_mels128_m...   \n49660  preprocessed/train/mfcc_len5_fft2048_mels128_m...   \n49661  preprocessed/train/mfcc_len5_fft2048_mels128_m...   \n49662  preprocessed/train/mfcc_len5_fft2048_mels128_m...   \n49663  preprocessed/train/mfcc_len5_fft2048_mels128_m...   \n\n       n_samples_per_speaker  \n0                        256  \n1                        256  \n2                        256  \n3                        256  \n4                        256  \n...                      ...  \n49659                    256  \n49660                    256  \n49661                    256  \n49662                    256  \n49663                    256  \n\n[49664 rows x 10 columns]",
      "text/html": "<div>\n<style scoped>\n    .dataframe tbody tr th:only-of-type {\n        vertical-align: middle;\n    }\n\n    .dataframe tbody tr th {\n        vertical-align: top;\n    }\n\n    .dataframe thead th {\n        text-align: right;\n    }\n</style>\n<table border=\"1\" class=\"dataframe\">\n  <thead>\n    <tr style=\"text-align: right;\">\n      <th></th>\n      <th>file_index</th>\n      <th>old_index</th>\n      <th>origin_folder</th>\n      <th>speaker</th>\n      <th>distractor</th>\n      <th>room</th>\n      <th>category</th>\n      <th>filename</th>\n      <th>pkl_file_dir</th>\n      <th>n_samples_per_speaker</th>\n    </tr>\n  </thead>\n  <tbody>\n    <tr>\n      <th>0</th>\n      <td>0</td>\n      <td>30</td>\n      <td>distant-16k/speech/train/rm4/musi/sp1121</td>\n      <td>1121</td>\n      <td>musi</td>\n      <td>rm4</td>\n      <td>train</td>\n      <td>5seconds-16k/speech/train/rm4/musi/sp1121/Lab4...</td>\n      <td>preprocessed/train/mfcc_len5_fft2048_mels128_m...</td>\n      <td>256</td>\n    </tr>\n    <tr>\n      <th>1</th>\n      <td>1</td>\n      <td>31</td>\n      <td>distant-16k/speech/train/rm4/musi/sp1121</td>\n      <td>1121</td>\n      <td>musi</td>\n      <td>rm4</td>\n      <td>train</td>\n      <td>5seconds-16k/speech/train/rm4/musi/sp1121/Lab4...</td>\n      <td>preprocessed/train/mfcc_len5_fft2048_mels128_m...</td>\n      <td>256</td>\n    </tr>\n    <tr>\n      <th>2</th>\n      <td>2</td>\n      <td>32</td>\n      <td>distant-16k/speech/train/rm4/musi/sp1121</td>\n      <td>1121</td>\n      <td>musi</td>\n      <td>rm4</td>\n      <td>train</td>\n      <td>5seconds-16k/speech/train/rm4/musi/sp1121/Lab4...</td>\n      <td>preprocessed/train/mfcc_len5_fft2048_mels128_m...</td>\n      <td>256</td>\n    </tr>\n    <tr>\n      <th>3</th>\n      <td>3</td>\n      <td>33</td>\n      <td>distant-16k/speech/train/rm4/musi/sp1121</td>\n      <td>1121</td>\n      <td>musi</td>\n      <td>rm4</td>\n      <td>train</td>\n      <td>5seconds-16k/speech/train/rm4/musi/sp1121/Lab4...</td>\n      <td>preprocessed/train/mfcc_len5_fft2048_mels128_m...</td>\n      <td>256</td>\n    </tr>\n    <tr>\n      <th>4</th>\n      <td>4</td>\n      <td>34</td>\n      <td>distant-16k/speech/train/rm4/musi/sp1121</td>\n      <td>1121</td>\n      <td>musi</td>\n      <td>rm4</td>\n      <td>train</td>\n      <td>5seconds-16k/speech/train/rm4/musi/sp1121/Lab4...</td>\n      <td>preprocessed/train/mfcc_len5_fft2048_mels128_m...</td>\n      <td>256</td>\n    </tr>\n    <tr>\n      <th>...</th>\n      <td>...</td>\n      <td>...</td>\n      <td>...</td>\n      <td>...</td>\n      <td>...</td>\n      <td>...</td>\n      <td>...</td>\n      <td>...</td>\n      <td>...</td>\n      <td>...</td>\n    </tr>\n    <tr>\n      <th>49659</th>\n      <td>159</td>\n      <td>74443</td>\n      <td>distant-16k/speech/train/rm3/tele/sp2764</td>\n      <td>2764</td>\n      <td>tele</td>\n      <td>rm3</td>\n      <td>train</td>\n      <td>5seconds-16k/speech/train/rm3/tele/sp2764/Lab4...</td>\n      <td>preprocessed/train/mfcc_len5_fft2048_mels128_m...</td>\n      <td>256</td>\n    </tr>\n    <tr>\n      <th>49660</th>\n      <td>160</td>\n      <td>74444</td>\n      <td>distant-16k/speech/train/rm3/tele/sp2764</td>\n      <td>2764</td>\n      <td>tele</td>\n      <td>rm3</td>\n      <td>train</td>\n      <td>5seconds-16k/speech/train/rm3/tele/sp2764/Lab4...</td>\n      <td>preprocessed/train/mfcc_len5_fft2048_mels128_m...</td>\n      <td>256</td>\n    </tr>\n    <tr>\n      <th>49661</th>\n      <td>161</td>\n      <td>74445</td>\n      <td>distant-16k/speech/train/rm3/tele/sp2764</td>\n      <td>2764</td>\n      <td>tele</td>\n      <td>rm3</td>\n      <td>train</td>\n      <td>5seconds-16k/speech/train/rm3/tele/sp2764/Lab4...</td>\n      <td>preprocessed/train/mfcc_len5_fft2048_mels128_m...</td>\n      <td>256</td>\n    </tr>\n    <tr>\n      <th>49662</th>\n      <td>162</td>\n      <td>74446</td>\n      <td>distant-16k/speech/train/rm3/tele/sp2764</td>\n      <td>2764</td>\n      <td>tele</td>\n      <td>rm3</td>\n      <td>train</td>\n      <td>5seconds-16k/speech/train/rm3/tele/sp2764/Lab4...</td>\n      <td>preprocessed/train/mfcc_len5_fft2048_mels128_m...</td>\n      <td>256</td>\n    </tr>\n    <tr>\n      <th>49663</th>\n      <td>163</td>\n      <td>74447</td>\n      <td>distant-16k/speech/train/rm3/tele/sp2764</td>\n      <td>2764</td>\n      <td>tele</td>\n      <td>rm3</td>\n      <td>train</td>\n      <td>5seconds-16k/speech/train/rm3/tele/sp2764/Lab4...</td>\n      <td>preprocessed/train/mfcc_len5_fft2048_mels128_m...</td>\n      <td>256</td>\n    </tr>\n  </tbody>\n</table>\n<p>49664 rows × 10 columns</p>\n</div>"
     },
     "execution_count": 229,
     "metadata": {},
     "output_type": "execute_result"
    }
   ],
   "source": [
    "df_index_train"
   ],
   "metadata": {
    "collapsed": false
   }
  },
  {
   "cell_type": "code",
   "execution_count": 300,
   "outputs": [
    {
     "data": {
      "text/plain": "       file_index  old_index                             origin_folder  \\\n0               0         30  distant-16k/speech/train/rm4/musi/sp1121   \n1               1         31  distant-16k/speech/train/rm4/musi/sp1121   \n2               2         32  distant-16k/speech/train/rm4/musi/sp1121   \n3               3         33  distant-16k/speech/train/rm4/musi/sp1121   \n4               4         34  distant-16k/speech/train/rm4/musi/sp1121   \n...           ...        ...                                       ...   \n49659         159      74443  distant-16k/speech/train/rm3/tele/sp2764   \n49660         160      74444  distant-16k/speech/train/rm3/tele/sp2764   \n49661         161      74445  distant-16k/speech/train/rm3/tele/sp2764   \n49662         162      74446  distant-16k/speech/train/rm3/tele/sp2764   \n49663         163      74447  distant-16k/speech/train/rm3/tele/sp2764   \n\n      speaker distractor room category  \\\n0        1121       musi  rm4    train   \n1        1121       musi  rm4    train   \n2        1121       musi  rm4    train   \n3        1121       musi  rm4    train   \n4        1121       musi  rm4    train   \n...       ...        ...  ...      ...   \n49659    2764       tele  rm3    train   \n49660    2764       tele  rm3    train   \n49661    2764       tele  rm3    train   \n49662    2764       tele  rm3    train   \n49663    2764       tele  rm3    train   \n\n                                                filename  \\\n0      5seconds-16k/speech/train/rm4/musi/sp1121/Lab4...   \n1      5seconds-16k/speech/train/rm4/musi/sp1121/Lab4...   \n2      5seconds-16k/speech/train/rm4/musi/sp1121/Lab4...   \n3      5seconds-16k/speech/train/rm4/musi/sp1121/Lab4...   \n4      5seconds-16k/speech/train/rm4/musi/sp1121/Lab4...   \n...                                                  ...   \n49659  5seconds-16k/speech/train/rm3/tele/sp2764/Lab4...   \n49660  5seconds-16k/speech/train/rm3/tele/sp2764/Lab4...   \n49661  5seconds-16k/speech/train/rm3/tele/sp2764/Lab4...   \n49662  5seconds-16k/speech/train/rm3/tele/sp2764/Lab4...   \n49663  5seconds-16k/speech/train/rm3/tele/sp2764/Lab4...   \n\n                                            pkl_file_dir  \\\n0      preprocessed/train/mfcc_len5_fft2048_mels128_m...   \n1      preprocessed/train/mfcc_len5_fft2048_mels128_m...   \n2      preprocessed/train/mfcc_len5_fft2048_mels128_m...   \n3      preprocessed/train/mfcc_len5_fft2048_mels128_m...   \n4      preprocessed/train/mfcc_len5_fft2048_mels128_m...   \n...                                                  ...   \n49659  preprocessed/train/mfcc_len5_fft2048_mels128_m...   \n49660  preprocessed/train/mfcc_len5_fft2048_mels128_m...   \n49661  preprocessed/train/mfcc_len5_fft2048_mels128_m...   \n49662  preprocessed/train/mfcc_len5_fft2048_mels128_m...   \n49663  preprocessed/train/mfcc_len5_fft2048_mels128_m...   \n\n       n_samples_per_speaker                                      pkl_filename  \n0                        256        mfcc_len5_fft2048_mels128_mfcc17_0-499.pkl  \n1                        256        mfcc_len5_fft2048_mels128_mfcc17_0-499.pkl  \n2                        256        mfcc_len5_fft2048_mels128_mfcc17_0-499.pkl  \n3                        256        mfcc_len5_fft2048_mels128_mfcc17_0-499.pkl  \n4                        256        mfcc_len5_fft2048_mels128_mfcc17_0-499.pkl  \n...                      ...                                               ...  \n49659                    256  mfcc_len5_fft2048_mels128_mfcc17_49500-49663.pkl  \n49660                    256  mfcc_len5_fft2048_mels128_mfcc17_49500-49663.pkl  \n49661                    256  mfcc_len5_fft2048_mels128_mfcc17_49500-49663.pkl  \n49662                    256  mfcc_len5_fft2048_mels128_mfcc17_49500-49663.pkl  \n49663                    256  mfcc_len5_fft2048_mels128_mfcc17_49500-49663.pkl  \n\n[49664 rows x 11 columns]",
      "text/html": "<div>\n<style scoped>\n    .dataframe tbody tr th:only-of-type {\n        vertical-align: middle;\n    }\n\n    .dataframe tbody tr th {\n        vertical-align: top;\n    }\n\n    .dataframe thead th {\n        text-align: right;\n    }\n</style>\n<table border=\"1\" class=\"dataframe\">\n  <thead>\n    <tr style=\"text-align: right;\">\n      <th></th>\n      <th>file_index</th>\n      <th>old_index</th>\n      <th>origin_folder</th>\n      <th>speaker</th>\n      <th>distractor</th>\n      <th>room</th>\n      <th>category</th>\n      <th>filename</th>\n      <th>pkl_file_dir</th>\n      <th>n_samples_per_speaker</th>\n      <th>pkl_filename</th>\n    </tr>\n  </thead>\n  <tbody>\n    <tr>\n      <th>0</th>\n      <td>0</td>\n      <td>30</td>\n      <td>distant-16k/speech/train/rm4/musi/sp1121</td>\n      <td>1121</td>\n      <td>musi</td>\n      <td>rm4</td>\n      <td>train</td>\n      <td>5seconds-16k/speech/train/rm4/musi/sp1121/Lab4...</td>\n      <td>preprocessed/train/mfcc_len5_fft2048_mels128_m...</td>\n      <td>256</td>\n      <td>mfcc_len5_fft2048_mels128_mfcc17_0-499.pkl</td>\n    </tr>\n    <tr>\n      <th>1</th>\n      <td>1</td>\n      <td>31</td>\n      <td>distant-16k/speech/train/rm4/musi/sp1121</td>\n      <td>1121</td>\n      <td>musi</td>\n      <td>rm4</td>\n      <td>train</td>\n      <td>5seconds-16k/speech/train/rm4/musi/sp1121/Lab4...</td>\n      <td>preprocessed/train/mfcc_len5_fft2048_mels128_m...</td>\n      <td>256</td>\n      <td>mfcc_len5_fft2048_mels128_mfcc17_0-499.pkl</td>\n    </tr>\n    <tr>\n      <th>2</th>\n      <td>2</td>\n      <td>32</td>\n      <td>distant-16k/speech/train/rm4/musi/sp1121</td>\n      <td>1121</td>\n      <td>musi</td>\n      <td>rm4</td>\n      <td>train</td>\n      <td>5seconds-16k/speech/train/rm4/musi/sp1121/Lab4...</td>\n      <td>preprocessed/train/mfcc_len5_fft2048_mels128_m...</td>\n      <td>256</td>\n      <td>mfcc_len5_fft2048_mels128_mfcc17_0-499.pkl</td>\n    </tr>\n    <tr>\n      <th>3</th>\n      <td>3</td>\n      <td>33</td>\n      <td>distant-16k/speech/train/rm4/musi/sp1121</td>\n      <td>1121</td>\n      <td>musi</td>\n      <td>rm4</td>\n      <td>train</td>\n      <td>5seconds-16k/speech/train/rm4/musi/sp1121/Lab4...</td>\n      <td>preprocessed/train/mfcc_len5_fft2048_mels128_m...</td>\n      <td>256</td>\n      <td>mfcc_len5_fft2048_mels128_mfcc17_0-499.pkl</td>\n    </tr>\n    <tr>\n      <th>4</th>\n      <td>4</td>\n      <td>34</td>\n      <td>distant-16k/speech/train/rm4/musi/sp1121</td>\n      <td>1121</td>\n      <td>musi</td>\n      <td>rm4</td>\n      <td>train</td>\n      <td>5seconds-16k/speech/train/rm4/musi/sp1121/Lab4...</td>\n      <td>preprocessed/train/mfcc_len5_fft2048_mels128_m...</td>\n      <td>256</td>\n      <td>mfcc_len5_fft2048_mels128_mfcc17_0-499.pkl</td>\n    </tr>\n    <tr>\n      <th>...</th>\n      <td>...</td>\n      <td>...</td>\n      <td>...</td>\n      <td>...</td>\n      <td>...</td>\n      <td>...</td>\n      <td>...</td>\n      <td>...</td>\n      <td>...</td>\n      <td>...</td>\n      <td>...</td>\n    </tr>\n    <tr>\n      <th>49659</th>\n      <td>159</td>\n      <td>74443</td>\n      <td>distant-16k/speech/train/rm3/tele/sp2764</td>\n      <td>2764</td>\n      <td>tele</td>\n      <td>rm3</td>\n      <td>train</td>\n      <td>5seconds-16k/speech/train/rm3/tele/sp2764/Lab4...</td>\n      <td>preprocessed/train/mfcc_len5_fft2048_mels128_m...</td>\n      <td>256</td>\n      <td>mfcc_len5_fft2048_mels128_mfcc17_49500-49663.pkl</td>\n    </tr>\n    <tr>\n      <th>49660</th>\n      <td>160</td>\n      <td>74444</td>\n      <td>distant-16k/speech/train/rm3/tele/sp2764</td>\n      <td>2764</td>\n      <td>tele</td>\n      <td>rm3</td>\n      <td>train</td>\n      <td>5seconds-16k/speech/train/rm3/tele/sp2764/Lab4...</td>\n      <td>preprocessed/train/mfcc_len5_fft2048_mels128_m...</td>\n      <td>256</td>\n      <td>mfcc_len5_fft2048_mels128_mfcc17_49500-49663.pkl</td>\n    </tr>\n    <tr>\n      <th>49661</th>\n      <td>161</td>\n      <td>74445</td>\n      <td>distant-16k/speech/train/rm3/tele/sp2764</td>\n      <td>2764</td>\n      <td>tele</td>\n      <td>rm3</td>\n      <td>train</td>\n      <td>5seconds-16k/speech/train/rm3/tele/sp2764/Lab4...</td>\n      <td>preprocessed/train/mfcc_len5_fft2048_mels128_m...</td>\n      <td>256</td>\n      <td>mfcc_len5_fft2048_mels128_mfcc17_49500-49663.pkl</td>\n    </tr>\n    <tr>\n      <th>49662</th>\n      <td>162</td>\n      <td>74446</td>\n      <td>distant-16k/speech/train/rm3/tele/sp2764</td>\n      <td>2764</td>\n      <td>tele</td>\n      <td>rm3</td>\n      <td>train</td>\n      <td>5seconds-16k/speech/train/rm3/tele/sp2764/Lab4...</td>\n      <td>preprocessed/train/mfcc_len5_fft2048_mels128_m...</td>\n      <td>256</td>\n      <td>mfcc_len5_fft2048_mels128_mfcc17_49500-49663.pkl</td>\n    </tr>\n    <tr>\n      <th>49663</th>\n      <td>163</td>\n      <td>74447</td>\n      <td>distant-16k/speech/train/rm3/tele/sp2764</td>\n      <td>2764</td>\n      <td>tele</td>\n      <td>rm3</td>\n      <td>train</td>\n      <td>5seconds-16k/speech/train/rm3/tele/sp2764/Lab4...</td>\n      <td>preprocessed/train/mfcc_len5_fft2048_mels128_m...</td>\n      <td>256</td>\n      <td>mfcc_len5_fft2048_mels128_mfcc17_49500-49663.pkl</td>\n    </tr>\n  </tbody>\n</table>\n<p>49664 rows × 11 columns</p>\n</div>"
     },
     "execution_count": 300,
     "metadata": {},
     "output_type": "execute_result"
    }
   ],
   "source": [
    "df_index_train"
   ],
   "metadata": {
    "collapsed": false
   }
  },
  {
   "cell_type": "code",
   "execution_count": 258,
   "outputs": [
    {
     "data": {
      "text/plain": "       file_index speaker                                      pkl_filename  \\\n0               0    1121        mfcc_len5_fft2048_mels128_mfcc17_0-499.pkl   \n1               1    1121        mfcc_len5_fft2048_mels128_mfcc17_0-499.pkl   \n2               2    1121        mfcc_len5_fft2048_mels128_mfcc17_0-499.pkl   \n3               3    1121        mfcc_len5_fft2048_mels128_mfcc17_0-499.pkl   \n4               4    1121        mfcc_len5_fft2048_mels128_mfcc17_0-499.pkl   \n...           ...     ...                                               ...   \n49659         159    2764  mfcc_len5_fft2048_mels128_mfcc17_49500-49663.pkl   \n49660         160    2764  mfcc_len5_fft2048_mels128_mfcc17_49500-49663.pkl   \n49661         161    2764  mfcc_len5_fft2048_mels128_mfcc17_49500-49663.pkl   \n49662         162    2764  mfcc_len5_fft2048_mels128_mfcc17_49500-49663.pkl   \n49663         163    2764  mfcc_len5_fft2048_mels128_mfcc17_49500-49663.pkl   \n\n       n_samples_per_speaker  \n0                        256  \n1                        256  \n2                        256  \n3                        256  \n4                        256  \n...                      ...  \n49659                    256  \n49660                    256  \n49661                    256  \n49662                    256  \n49663                    256  \n\n[49664 rows x 4 columns]",
      "text/html": "<div>\n<style scoped>\n    .dataframe tbody tr th:only-of-type {\n        vertical-align: middle;\n    }\n\n    .dataframe tbody tr th {\n        vertical-align: top;\n    }\n\n    .dataframe thead th {\n        text-align: right;\n    }\n</style>\n<table border=\"1\" class=\"dataframe\">\n  <thead>\n    <tr style=\"text-align: right;\">\n      <th></th>\n      <th>file_index</th>\n      <th>speaker</th>\n      <th>pkl_filename</th>\n      <th>n_samples_per_speaker</th>\n    </tr>\n  </thead>\n  <tbody>\n    <tr>\n      <th>0</th>\n      <td>0</td>\n      <td>1121</td>\n      <td>mfcc_len5_fft2048_mels128_mfcc17_0-499.pkl</td>\n      <td>256</td>\n    </tr>\n    <tr>\n      <th>1</th>\n      <td>1</td>\n      <td>1121</td>\n      <td>mfcc_len5_fft2048_mels128_mfcc17_0-499.pkl</td>\n      <td>256</td>\n    </tr>\n    <tr>\n      <th>2</th>\n      <td>2</td>\n      <td>1121</td>\n      <td>mfcc_len5_fft2048_mels128_mfcc17_0-499.pkl</td>\n      <td>256</td>\n    </tr>\n    <tr>\n      <th>3</th>\n      <td>3</td>\n      <td>1121</td>\n      <td>mfcc_len5_fft2048_mels128_mfcc17_0-499.pkl</td>\n      <td>256</td>\n    </tr>\n    <tr>\n      <th>4</th>\n      <td>4</td>\n      <td>1121</td>\n      <td>mfcc_len5_fft2048_mels128_mfcc17_0-499.pkl</td>\n      <td>256</td>\n    </tr>\n    <tr>\n      <th>...</th>\n      <td>...</td>\n      <td>...</td>\n      <td>...</td>\n      <td>...</td>\n    </tr>\n    <tr>\n      <th>49659</th>\n      <td>159</td>\n      <td>2764</td>\n      <td>mfcc_len5_fft2048_mels128_mfcc17_49500-49663.pkl</td>\n      <td>256</td>\n    </tr>\n    <tr>\n      <th>49660</th>\n      <td>160</td>\n      <td>2764</td>\n      <td>mfcc_len5_fft2048_mels128_mfcc17_49500-49663.pkl</td>\n      <td>256</td>\n    </tr>\n    <tr>\n      <th>49661</th>\n      <td>161</td>\n      <td>2764</td>\n      <td>mfcc_len5_fft2048_mels128_mfcc17_49500-49663.pkl</td>\n      <td>256</td>\n    </tr>\n    <tr>\n      <th>49662</th>\n      <td>162</td>\n      <td>2764</td>\n      <td>mfcc_len5_fft2048_mels128_mfcc17_49500-49663.pkl</td>\n      <td>256</td>\n    </tr>\n    <tr>\n      <th>49663</th>\n      <td>163</td>\n      <td>2764</td>\n      <td>mfcc_len5_fft2048_mels128_mfcc17_49500-49663.pkl</td>\n      <td>256</td>\n    </tr>\n  </tbody>\n</table>\n<p>49664 rows × 4 columns</p>\n</div>"
     },
     "execution_count": 258,
     "metadata": {},
     "output_type": "execute_result"
    }
   ],
   "source": [
    "# select unique speaker-pkl_filename\n",
    "df_index_train['pkl_filename'] = df_index_train['pkl_file_dir'].apply(lambda x: Path(x).name)\n",
    "df_index_train_unique = df_index_train[[\"file_index\", 'speaker', 'pkl_filename', \"n_samples_per_speaker\"]].drop_duplicates()\n",
    "df_index_train_unique"
   ],
   "metadata": {
    "collapsed": false
   }
  },
  {
   "cell_type": "code",
   "execution_count": 261,
   "outputs": [
    {
     "data": {
      "text/plain": "n_samples_per_speaker\n256    41728\n224     5824\n192     1344\n320      320\n160      320\n128      128\nName: count, dtype: int64"
     },
     "execution_count": 261,
     "metadata": {},
     "output_type": "execute_result"
    }
   ],
   "source": [
    "df_index_train_unique[\"n_samples_per_speaker\"].value_counts()"
   ],
   "metadata": {
    "collapsed": false
   }
  },
  {
   "cell_type": "code",
   "execution_count": 262,
   "outputs": [],
   "source": [
    "# make sure the pkl filenames are loaded in the same order as in df_index_train\n",
    "df_files_to_load = df_index_train_unique[[\"pkl_filename\"]].drop_duplicates()\n",
    "df_files_to_load = df_files_to_load.reset_index().sort_values(by='index').reset_index(drop=True)"
   ],
   "metadata": {
    "collapsed": false
   }
  },
  {
   "cell_type": "code",
   "execution_count": 263,
   "outputs": [
    {
     "data": {
      "text/plain": "    index                                      pkl_filename\n0       0        mfcc_len5_fft2048_mels128_mfcc17_0-499.pkl\n1     500      mfcc_len5_fft2048_mels128_mfcc17_500-999.pkl\n2    1000    mfcc_len5_fft2048_mels128_mfcc17_1000-1499.pkl\n3    1500    mfcc_len5_fft2048_mels128_mfcc17_1500-1999.pkl\n4    2000    mfcc_len5_fft2048_mels128_mfcc17_2000-2499.pkl\n..    ...                                               ...\n95  47500  mfcc_len5_fft2048_mels128_mfcc17_47500-47999.pkl\n96  48000  mfcc_len5_fft2048_mels128_mfcc17_48000-48499.pkl\n97  48500  mfcc_len5_fft2048_mels128_mfcc17_48500-48999.pkl\n98  49000  mfcc_len5_fft2048_mels128_mfcc17_49000-49499.pkl\n99  49500  mfcc_len5_fft2048_mels128_mfcc17_49500-49663.pkl\n\n[100 rows x 2 columns]",
      "text/html": "<div>\n<style scoped>\n    .dataframe tbody tr th:only-of-type {\n        vertical-align: middle;\n    }\n\n    .dataframe tbody tr th {\n        vertical-align: top;\n    }\n\n    .dataframe thead th {\n        text-align: right;\n    }\n</style>\n<table border=\"1\" class=\"dataframe\">\n  <thead>\n    <tr style=\"text-align: right;\">\n      <th></th>\n      <th>index</th>\n      <th>pkl_filename</th>\n    </tr>\n  </thead>\n  <tbody>\n    <tr>\n      <th>0</th>\n      <td>0</td>\n      <td>mfcc_len5_fft2048_mels128_mfcc17_0-499.pkl</td>\n    </tr>\n    <tr>\n      <th>1</th>\n      <td>500</td>\n      <td>mfcc_len5_fft2048_mels128_mfcc17_500-999.pkl</td>\n    </tr>\n    <tr>\n      <th>2</th>\n      <td>1000</td>\n      <td>mfcc_len5_fft2048_mels128_mfcc17_1000-1499.pkl</td>\n    </tr>\n    <tr>\n      <th>3</th>\n      <td>1500</td>\n      <td>mfcc_len5_fft2048_mels128_mfcc17_1500-1999.pkl</td>\n    </tr>\n    <tr>\n      <th>4</th>\n      <td>2000</td>\n      <td>mfcc_len5_fft2048_mels128_mfcc17_2000-2499.pkl</td>\n    </tr>\n    <tr>\n      <th>...</th>\n      <td>...</td>\n      <td>...</td>\n    </tr>\n    <tr>\n      <th>95</th>\n      <td>47500</td>\n      <td>mfcc_len5_fft2048_mels128_mfcc17_47500-47999.pkl</td>\n    </tr>\n    <tr>\n      <th>96</th>\n      <td>48000</td>\n      <td>mfcc_len5_fft2048_mels128_mfcc17_48000-48499.pkl</td>\n    </tr>\n    <tr>\n      <th>97</th>\n      <td>48500</td>\n      <td>mfcc_len5_fft2048_mels128_mfcc17_48500-48999.pkl</td>\n    </tr>\n    <tr>\n      <th>98</th>\n      <td>49000</td>\n      <td>mfcc_len5_fft2048_mels128_mfcc17_49000-49499.pkl</td>\n    </tr>\n    <tr>\n      <th>99</th>\n      <td>49500</td>\n      <td>mfcc_len5_fft2048_mels128_mfcc17_49500-49663.pkl</td>\n    </tr>\n  </tbody>\n</table>\n<p>100 rows × 2 columns</p>\n</div>"
     },
     "execution_count": 263,
     "metadata": {},
     "output_type": "execute_result"
    }
   ],
   "source": [
    "df_files_to_load"
   ],
   "metadata": {
    "collapsed": false
   }
  },
  {
   "cell_type": "code",
   "execution_count": 240,
   "outputs": [
    {
     "name": "stderr",
     "output_type": "stream",
     "text": [
      "100it [00:00, 147.45it/s]\n"
     ]
    }
   ],
   "source": [
    "def load_data(df, input_dir, verbose=False):\n",
    "    if not isinstance(input_dir, Path):\n",
    "        input_dir = Path(input_dir)\n",
    "    X_ls = []\n",
    "    filenames = []\n",
    "    for index, row in tqdm(df.iterrows()):\n",
    "        filename = row['pkl_filename']\n",
    "        if verbose:\n",
    "            print(\"Loading: \", filename)\n",
    "        x = load_pickle(os.path.join(input_dir, filename))\n",
    "        X_ls.append(x)\n",
    "        filenames.append(filename)\n",
    "    X = np.concatenate(X_ls, axis=0)\n",
    "    return X, filenames\n",
    "\n",
    "X, filenames = load_data(df_files_to_load, TRAIN_DIR)"
   ],
   "metadata": {
    "collapsed": false
   }
  },
  {
   "cell_type": "code",
   "execution_count": 264,
   "outputs": [
    {
     "data": {
      "text/plain": "       file_index speaker                                      pkl_filename  \\\n0               0    1121        mfcc_len5_fft2048_mels128_mfcc17_0-499.pkl   \n1               1    1121        mfcc_len5_fft2048_mels128_mfcc17_0-499.pkl   \n2               2    1121        mfcc_len5_fft2048_mels128_mfcc17_0-499.pkl   \n3               3    1121        mfcc_len5_fft2048_mels128_mfcc17_0-499.pkl   \n4               4    1121        mfcc_len5_fft2048_mels128_mfcc17_0-499.pkl   \n...           ...     ...                                               ...   \n49659         159    2764  mfcc_len5_fft2048_mels128_mfcc17_49500-49663.pkl   \n49660         160    2764  mfcc_len5_fft2048_mels128_mfcc17_49500-49663.pkl   \n49661         161    2764  mfcc_len5_fft2048_mels128_mfcc17_49500-49663.pkl   \n49662         162    2764  mfcc_len5_fft2048_mels128_mfcc17_49500-49663.pkl   \n49663         163    2764  mfcc_len5_fft2048_mels128_mfcc17_49500-49663.pkl   \n\n       n_samples_per_speaker  index  \n0                        256      0  \n1                        256      0  \n2                        256      0  \n3                        256      0  \n4                        256      0  \n...                      ...    ...  \n49659                    256  49500  \n49660                    256  49500  \n49661                    256  49500  \n49662                    256  49500  \n49663                    256  49500  \n\n[49664 rows x 5 columns]",
      "text/html": "<div>\n<style scoped>\n    .dataframe tbody tr th:only-of-type {\n        vertical-align: middle;\n    }\n\n    .dataframe tbody tr th {\n        vertical-align: top;\n    }\n\n    .dataframe thead th {\n        text-align: right;\n    }\n</style>\n<table border=\"1\" class=\"dataframe\">\n  <thead>\n    <tr style=\"text-align: right;\">\n      <th></th>\n      <th>file_index</th>\n      <th>speaker</th>\n      <th>pkl_filename</th>\n      <th>n_samples_per_speaker</th>\n      <th>index</th>\n    </tr>\n  </thead>\n  <tbody>\n    <tr>\n      <th>0</th>\n      <td>0</td>\n      <td>1121</td>\n      <td>mfcc_len5_fft2048_mels128_mfcc17_0-499.pkl</td>\n      <td>256</td>\n      <td>0</td>\n    </tr>\n    <tr>\n      <th>1</th>\n      <td>1</td>\n      <td>1121</td>\n      <td>mfcc_len5_fft2048_mels128_mfcc17_0-499.pkl</td>\n      <td>256</td>\n      <td>0</td>\n    </tr>\n    <tr>\n      <th>2</th>\n      <td>2</td>\n      <td>1121</td>\n      <td>mfcc_len5_fft2048_mels128_mfcc17_0-499.pkl</td>\n      <td>256</td>\n      <td>0</td>\n    </tr>\n    <tr>\n      <th>3</th>\n      <td>3</td>\n      <td>1121</td>\n      <td>mfcc_len5_fft2048_mels128_mfcc17_0-499.pkl</td>\n      <td>256</td>\n      <td>0</td>\n    </tr>\n    <tr>\n      <th>4</th>\n      <td>4</td>\n      <td>1121</td>\n      <td>mfcc_len5_fft2048_mels128_mfcc17_0-499.pkl</td>\n      <td>256</td>\n      <td>0</td>\n    </tr>\n    <tr>\n      <th>...</th>\n      <td>...</td>\n      <td>...</td>\n      <td>...</td>\n      <td>...</td>\n      <td>...</td>\n    </tr>\n    <tr>\n      <th>49659</th>\n      <td>159</td>\n      <td>2764</td>\n      <td>mfcc_len5_fft2048_mels128_mfcc17_49500-49663.pkl</td>\n      <td>256</td>\n      <td>49500</td>\n    </tr>\n    <tr>\n      <th>49660</th>\n      <td>160</td>\n      <td>2764</td>\n      <td>mfcc_len5_fft2048_mels128_mfcc17_49500-49663.pkl</td>\n      <td>256</td>\n      <td>49500</td>\n    </tr>\n    <tr>\n      <th>49661</th>\n      <td>161</td>\n      <td>2764</td>\n      <td>mfcc_len5_fft2048_mels128_mfcc17_49500-49663.pkl</td>\n      <td>256</td>\n      <td>49500</td>\n    </tr>\n    <tr>\n      <th>49662</th>\n      <td>162</td>\n      <td>2764</td>\n      <td>mfcc_len5_fft2048_mels128_mfcc17_49500-49663.pkl</td>\n      <td>256</td>\n      <td>49500</td>\n    </tr>\n    <tr>\n      <th>49663</th>\n      <td>163</td>\n      <td>2764</td>\n      <td>mfcc_len5_fft2048_mels128_mfcc17_49500-49663.pkl</td>\n      <td>256</td>\n      <td>49500</td>\n    </tr>\n  </tbody>\n</table>\n<p>49664 rows × 5 columns</p>\n</div>"
     },
     "execution_count": 264,
     "metadata": {},
     "output_type": "execute_result"
    }
   ],
   "source": [
    "df_index_train_reference = df_index_train_unique.merge(df_files_to_load, on='pkl_filename', how='left').sort_values\\\n",
    "    (by=['index', 'file_index'])\\\n",
    "    .reset_index(drop=True)\n",
    "\n",
    "df_index_train_reference"
   ],
   "metadata": {
    "collapsed": false
   }
  },
  {
   "cell_type": "code",
   "execution_count": 265,
   "outputs": [],
   "source": [
    "df_index_train_reference[\"speaker_index\"] = np.array(range(len(df_index_train_reference)))\n",
    "df_index_train_reference = df_index_train_reference[['file_index', 'pkl_filename', 'n_samples_per_speaker', 'speaker', 'speaker_index']]"
   ],
   "metadata": {
    "collapsed": false
   }
  },
  {
   "cell_type": "code",
   "execution_count": 266,
   "outputs": [
    {
     "data": {
      "text/plain": "       file_index                                      pkl_filename  \\\n0               0        mfcc_len5_fft2048_mels128_mfcc17_0-499.pkl   \n1               1        mfcc_len5_fft2048_mels128_mfcc17_0-499.pkl   \n2               2        mfcc_len5_fft2048_mels128_mfcc17_0-499.pkl   \n3               3        mfcc_len5_fft2048_mels128_mfcc17_0-499.pkl   \n4               4        mfcc_len5_fft2048_mels128_mfcc17_0-499.pkl   \n...           ...                                               ...   \n49659         159  mfcc_len5_fft2048_mels128_mfcc17_49500-49663.pkl   \n49660         160  mfcc_len5_fft2048_mels128_mfcc17_49500-49663.pkl   \n49661         161  mfcc_len5_fft2048_mels128_mfcc17_49500-49663.pkl   \n49662         162  mfcc_len5_fft2048_mels128_mfcc17_49500-49663.pkl   \n49663         163  mfcc_len5_fft2048_mels128_mfcc17_49500-49663.pkl   \n\n       n_samples_per_speaker speaker  speaker_index  \n0                        256    1121              0  \n1                        256    1121              1  \n2                        256    1121              2  \n3                        256    1121              3  \n4                        256    1121              4  \n...                      ...     ...            ...  \n49659                    256    2764          49659  \n49660                    256    2764          49660  \n49661                    256    2764          49661  \n49662                    256    2764          49662  \n49663                    256    2764          49663  \n\n[49664 rows x 5 columns]",
      "text/html": "<div>\n<style scoped>\n    .dataframe tbody tr th:only-of-type {\n        vertical-align: middle;\n    }\n\n    .dataframe tbody tr th {\n        vertical-align: top;\n    }\n\n    .dataframe thead th {\n        text-align: right;\n    }\n</style>\n<table border=\"1\" class=\"dataframe\">\n  <thead>\n    <tr style=\"text-align: right;\">\n      <th></th>\n      <th>file_index</th>\n      <th>pkl_filename</th>\n      <th>n_samples_per_speaker</th>\n      <th>speaker</th>\n      <th>speaker_index</th>\n    </tr>\n  </thead>\n  <tbody>\n    <tr>\n      <th>0</th>\n      <td>0</td>\n      <td>mfcc_len5_fft2048_mels128_mfcc17_0-499.pkl</td>\n      <td>256</td>\n      <td>1121</td>\n      <td>0</td>\n    </tr>\n    <tr>\n      <th>1</th>\n      <td>1</td>\n      <td>mfcc_len5_fft2048_mels128_mfcc17_0-499.pkl</td>\n      <td>256</td>\n      <td>1121</td>\n      <td>1</td>\n    </tr>\n    <tr>\n      <th>2</th>\n      <td>2</td>\n      <td>mfcc_len5_fft2048_mels128_mfcc17_0-499.pkl</td>\n      <td>256</td>\n      <td>1121</td>\n      <td>2</td>\n    </tr>\n    <tr>\n      <th>3</th>\n      <td>3</td>\n      <td>mfcc_len5_fft2048_mels128_mfcc17_0-499.pkl</td>\n      <td>256</td>\n      <td>1121</td>\n      <td>3</td>\n    </tr>\n    <tr>\n      <th>4</th>\n      <td>4</td>\n      <td>mfcc_len5_fft2048_mels128_mfcc17_0-499.pkl</td>\n      <td>256</td>\n      <td>1121</td>\n      <td>4</td>\n    </tr>\n    <tr>\n      <th>...</th>\n      <td>...</td>\n      <td>...</td>\n      <td>...</td>\n      <td>...</td>\n      <td>...</td>\n    </tr>\n    <tr>\n      <th>49659</th>\n      <td>159</td>\n      <td>mfcc_len5_fft2048_mels128_mfcc17_49500-49663.pkl</td>\n      <td>256</td>\n      <td>2764</td>\n      <td>49659</td>\n    </tr>\n    <tr>\n      <th>49660</th>\n      <td>160</td>\n      <td>mfcc_len5_fft2048_mels128_mfcc17_49500-49663.pkl</td>\n      <td>256</td>\n      <td>2764</td>\n      <td>49660</td>\n    </tr>\n    <tr>\n      <th>49661</th>\n      <td>161</td>\n      <td>mfcc_len5_fft2048_mels128_mfcc17_49500-49663.pkl</td>\n      <td>256</td>\n      <td>2764</td>\n      <td>49661</td>\n    </tr>\n    <tr>\n      <th>49662</th>\n      <td>162</td>\n      <td>mfcc_len5_fft2048_mels128_mfcc17_49500-49663.pkl</td>\n      <td>256</td>\n      <td>2764</td>\n      <td>49662</td>\n    </tr>\n    <tr>\n      <th>49663</th>\n      <td>163</td>\n      <td>mfcc_len5_fft2048_mels128_mfcc17_49500-49663.pkl</td>\n      <td>256</td>\n      <td>2764</td>\n      <td>49663</td>\n    </tr>\n  </tbody>\n</table>\n<p>49664 rows × 5 columns</p>\n</div>"
     },
     "execution_count": 266,
     "metadata": {},
     "output_type": "execute_result"
    }
   ],
   "source": [
    "df_index_train_reference"
   ],
   "metadata": {
    "collapsed": false
   }
  },
  {
   "cell_type": "code",
   "execution_count": 280,
   "outputs": [
    {
     "data": {
      "text/plain": "       file_index                                      pkl_filename  \\\n0               0        mfcc_len5_fft2048_mels128_mfcc17_0-499.pkl   \n1               1        mfcc_len5_fft2048_mels128_mfcc17_0-499.pkl   \n2               2        mfcc_len5_fft2048_mels128_mfcc17_0-499.pkl   \n3               3        mfcc_len5_fft2048_mels128_mfcc17_0-499.pkl   \n4               4        mfcc_len5_fft2048_mels128_mfcc17_0-499.pkl   \n...           ...                                               ...   \n49659         159  mfcc_len5_fft2048_mels128_mfcc17_49500-49663.pkl   \n49660         160  mfcc_len5_fft2048_mels128_mfcc17_49500-49663.pkl   \n49661         161  mfcc_len5_fft2048_mels128_mfcc17_49500-49663.pkl   \n49662         162  mfcc_len5_fft2048_mels128_mfcc17_49500-49663.pkl   \n49663         163  mfcc_len5_fft2048_mels128_mfcc17_49500-49663.pkl   \n\n       n_samples_per_speaker speaker  speaker_index  speaker15  \\\n0                        256    1121              0          0   \n1                        256    1121              1          0   \n2                        256    1121              2          0   \n3                        256    1121              3          0   \n4                        256    1121              4          0   \n...                      ...     ...            ...        ...   \n49659                    256    2764          49659          0   \n49660                    256    2764          49660          0   \n49661                    256    2764          49661          0   \n49662                    256    2764          49662          0   \n49663                    256    2764          49663          0   \n\n       speaker15_class  \n0                  NaN  \n1                  NaN  \n2                  NaN  \n3                  NaN  \n4                  NaN  \n...                ...  \n49659              NaN  \n49660              NaN  \n49661              NaN  \n49662              NaN  \n49663              NaN  \n\n[49664 rows x 7 columns]",
      "text/html": "<div>\n<style scoped>\n    .dataframe tbody tr th:only-of-type {\n        vertical-align: middle;\n    }\n\n    .dataframe tbody tr th {\n        vertical-align: top;\n    }\n\n    .dataframe thead th {\n        text-align: right;\n    }\n</style>\n<table border=\"1\" class=\"dataframe\">\n  <thead>\n    <tr style=\"text-align: right;\">\n      <th></th>\n      <th>file_index</th>\n      <th>pkl_filename</th>\n      <th>n_samples_per_speaker</th>\n      <th>speaker</th>\n      <th>speaker_index</th>\n      <th>speaker15</th>\n      <th>speaker15_class</th>\n    </tr>\n  </thead>\n  <tbody>\n    <tr>\n      <th>0</th>\n      <td>0</td>\n      <td>mfcc_len5_fft2048_mels128_mfcc17_0-499.pkl</td>\n      <td>256</td>\n      <td>1121</td>\n      <td>0</td>\n      <td>0</td>\n      <td>NaN</td>\n    </tr>\n    <tr>\n      <th>1</th>\n      <td>1</td>\n      <td>mfcc_len5_fft2048_mels128_mfcc17_0-499.pkl</td>\n      <td>256</td>\n      <td>1121</td>\n      <td>1</td>\n      <td>0</td>\n      <td>NaN</td>\n    </tr>\n    <tr>\n      <th>2</th>\n      <td>2</td>\n      <td>mfcc_len5_fft2048_mels128_mfcc17_0-499.pkl</td>\n      <td>256</td>\n      <td>1121</td>\n      <td>2</td>\n      <td>0</td>\n      <td>NaN</td>\n    </tr>\n    <tr>\n      <th>3</th>\n      <td>3</td>\n      <td>mfcc_len5_fft2048_mels128_mfcc17_0-499.pkl</td>\n      <td>256</td>\n      <td>1121</td>\n      <td>3</td>\n      <td>0</td>\n      <td>NaN</td>\n    </tr>\n    <tr>\n      <th>4</th>\n      <td>4</td>\n      <td>mfcc_len5_fft2048_mels128_mfcc17_0-499.pkl</td>\n      <td>256</td>\n      <td>1121</td>\n      <td>4</td>\n      <td>0</td>\n      <td>NaN</td>\n    </tr>\n    <tr>\n      <th>...</th>\n      <td>...</td>\n      <td>...</td>\n      <td>...</td>\n      <td>...</td>\n      <td>...</td>\n      <td>...</td>\n      <td>...</td>\n    </tr>\n    <tr>\n      <th>49659</th>\n      <td>159</td>\n      <td>mfcc_len5_fft2048_mels128_mfcc17_49500-49663.pkl</td>\n      <td>256</td>\n      <td>2764</td>\n      <td>49659</td>\n      <td>0</td>\n      <td>NaN</td>\n    </tr>\n    <tr>\n      <th>49660</th>\n      <td>160</td>\n      <td>mfcc_len5_fft2048_mels128_mfcc17_49500-49663.pkl</td>\n      <td>256</td>\n      <td>2764</td>\n      <td>49660</td>\n      <td>0</td>\n      <td>NaN</td>\n    </tr>\n    <tr>\n      <th>49661</th>\n      <td>161</td>\n      <td>mfcc_len5_fft2048_mels128_mfcc17_49500-49663.pkl</td>\n      <td>256</td>\n      <td>2764</td>\n      <td>49661</td>\n      <td>0</td>\n      <td>NaN</td>\n    </tr>\n    <tr>\n      <th>49662</th>\n      <td>162</td>\n      <td>mfcc_len5_fft2048_mels128_mfcc17_49500-49663.pkl</td>\n      <td>256</td>\n      <td>2764</td>\n      <td>49662</td>\n      <td>0</td>\n      <td>NaN</td>\n    </tr>\n    <tr>\n      <th>49663</th>\n      <td>163</td>\n      <td>mfcc_len5_fft2048_mels128_mfcc17_49500-49663.pkl</td>\n      <td>256</td>\n      <td>2764</td>\n      <td>49663</td>\n      <td>0</td>\n      <td>NaN</td>\n    </tr>\n  </tbody>\n</table>\n<p>49664 rows × 7 columns</p>\n</div>"
     },
     "execution_count": 280,
     "metadata": {},
     "output_type": "execute_result"
    }
   ],
   "source": [
    "label = df_index_train_reference['speaker'].values\n",
    "\n",
    "# select 15 random speakers whose count of samples 256 and create a column (speaker15 for 0/1)\n",
    "speakers = df_index_train_reference[df_index_train_reference['n_samples_per_speaker']==256]['speaker'].sample(15,random_state=2024).values\n",
    "\n",
    "df_index_train_reference['speaker15'] = df_index_train_reference['speaker'].apply(lambda x: 1 if x in speakers else 0)\n",
    "\n",
    "df_index_train_reference"
   ],
   "metadata": {
    "collapsed": false
   }
  },
  {
   "cell_type": "code",
   "execution_count": 285,
   "outputs": [],
   "source": [
    "# map values 0-len(speakers) for classes\n",
    "speaker_map = {speaker: i for i, speaker in enumerate(speakers)}\n",
    "# add as a column to df_index_train_reference\n",
    "df_index_train_reference['speaker15_class'] = df_index_train_reference['speaker'].map(speaker_map)"
   ],
   "metadata": {
    "collapsed": false
   }
  },
  {
   "cell_type": "code",
   "execution_count": 285,
   "outputs": [],
   "source": [],
   "metadata": {
    "collapsed": false
   }
  },
  {
   "cell_type": "code",
   "execution_count": 286,
   "outputs": [
    {
     "data": {
      "text/plain": "       file_index                                      pkl_filename  \\\n0               0        mfcc_len5_fft2048_mels128_mfcc17_0-499.pkl   \n1               1        mfcc_len5_fft2048_mels128_mfcc17_0-499.pkl   \n2               2        mfcc_len5_fft2048_mels128_mfcc17_0-499.pkl   \n3               3        mfcc_len5_fft2048_mels128_mfcc17_0-499.pkl   \n4               4        mfcc_len5_fft2048_mels128_mfcc17_0-499.pkl   \n...           ...                                               ...   \n49659         159  mfcc_len5_fft2048_mels128_mfcc17_49500-49663.pkl   \n49660         160  mfcc_len5_fft2048_mels128_mfcc17_49500-49663.pkl   \n49661         161  mfcc_len5_fft2048_mels128_mfcc17_49500-49663.pkl   \n49662         162  mfcc_len5_fft2048_mels128_mfcc17_49500-49663.pkl   \n49663         163  mfcc_len5_fft2048_mels128_mfcc17_49500-49663.pkl   \n\n       n_samples_per_speaker speaker  speaker_index  speaker15  \\\n0                        256    1121              0          0   \n1                        256    1121              1          0   \n2                        256    1121              2          0   \n3                        256    1121              3          0   \n4                        256    1121              4          0   \n...                      ...     ...            ...        ...   \n49659                    256    2764          49659          0   \n49660                    256    2764          49660          0   \n49661                    256    2764          49661          0   \n49662                    256    2764          49662          0   \n49663                    256    2764          49663          0   \n\n       speaker15_class  speaker_class  \n0                  NaN              0  \n1                  NaN              0  \n2                  NaN              0  \n3                  NaN              0  \n4                  NaN              0  \n...                ...            ...  \n49659              NaN             28  \n49660              NaN             28  \n49661              NaN             28  \n49662              NaN             28  \n49663              NaN             28  \n\n[49664 rows x 8 columns]",
      "text/html": "<div>\n<style scoped>\n    .dataframe tbody tr th:only-of-type {\n        vertical-align: middle;\n    }\n\n    .dataframe tbody tr th {\n        vertical-align: top;\n    }\n\n    .dataframe thead th {\n        text-align: right;\n    }\n</style>\n<table border=\"1\" class=\"dataframe\">\n  <thead>\n    <tr style=\"text-align: right;\">\n      <th></th>\n      <th>file_index</th>\n      <th>pkl_filename</th>\n      <th>n_samples_per_speaker</th>\n      <th>speaker</th>\n      <th>speaker_index</th>\n      <th>speaker15</th>\n      <th>speaker15_class</th>\n      <th>speaker_class</th>\n    </tr>\n  </thead>\n  <tbody>\n    <tr>\n      <th>0</th>\n      <td>0</td>\n      <td>mfcc_len5_fft2048_mels128_mfcc17_0-499.pkl</td>\n      <td>256</td>\n      <td>1121</td>\n      <td>0</td>\n      <td>0</td>\n      <td>NaN</td>\n      <td>0</td>\n    </tr>\n    <tr>\n      <th>1</th>\n      <td>1</td>\n      <td>mfcc_len5_fft2048_mels128_mfcc17_0-499.pkl</td>\n      <td>256</td>\n      <td>1121</td>\n      <td>1</td>\n      <td>0</td>\n      <td>NaN</td>\n      <td>0</td>\n    </tr>\n    <tr>\n      <th>2</th>\n      <td>2</td>\n      <td>mfcc_len5_fft2048_mels128_mfcc17_0-499.pkl</td>\n      <td>256</td>\n      <td>1121</td>\n      <td>2</td>\n      <td>0</td>\n      <td>NaN</td>\n      <td>0</td>\n    </tr>\n    <tr>\n      <th>3</th>\n      <td>3</td>\n      <td>mfcc_len5_fft2048_mels128_mfcc17_0-499.pkl</td>\n      <td>256</td>\n      <td>1121</td>\n      <td>3</td>\n      <td>0</td>\n      <td>NaN</td>\n      <td>0</td>\n    </tr>\n    <tr>\n      <th>4</th>\n      <td>4</td>\n      <td>mfcc_len5_fft2048_mels128_mfcc17_0-499.pkl</td>\n      <td>256</td>\n      <td>1121</td>\n      <td>4</td>\n      <td>0</td>\n      <td>NaN</td>\n      <td>0</td>\n    </tr>\n    <tr>\n      <th>...</th>\n      <td>...</td>\n      <td>...</td>\n      <td>...</td>\n      <td>...</td>\n      <td>...</td>\n      <td>...</td>\n      <td>...</td>\n      <td>...</td>\n    </tr>\n    <tr>\n      <th>49659</th>\n      <td>159</td>\n      <td>mfcc_len5_fft2048_mels128_mfcc17_49500-49663.pkl</td>\n      <td>256</td>\n      <td>2764</td>\n      <td>49659</td>\n      <td>0</td>\n      <td>NaN</td>\n      <td>28</td>\n    </tr>\n    <tr>\n      <th>49660</th>\n      <td>160</td>\n      <td>mfcc_len5_fft2048_mels128_mfcc17_49500-49663.pkl</td>\n      <td>256</td>\n      <td>2764</td>\n      <td>49660</td>\n      <td>0</td>\n      <td>NaN</td>\n      <td>28</td>\n    </tr>\n    <tr>\n      <th>49661</th>\n      <td>161</td>\n      <td>mfcc_len5_fft2048_mels128_mfcc17_49500-49663.pkl</td>\n      <td>256</td>\n      <td>2764</td>\n      <td>49661</td>\n      <td>0</td>\n      <td>NaN</td>\n      <td>28</td>\n    </tr>\n    <tr>\n      <th>49662</th>\n      <td>162</td>\n      <td>mfcc_len5_fft2048_mels128_mfcc17_49500-49663.pkl</td>\n      <td>256</td>\n      <td>2764</td>\n      <td>49662</td>\n      <td>0</td>\n      <td>NaN</td>\n      <td>28</td>\n    </tr>\n    <tr>\n      <th>49663</th>\n      <td>163</td>\n      <td>mfcc_len5_fft2048_mels128_mfcc17_49500-49663.pkl</td>\n      <td>256</td>\n      <td>2764</td>\n      <td>49663</td>\n      <td>0</td>\n      <td>NaN</td>\n      <td>28</td>\n    </tr>\n  </tbody>\n</table>\n<p>49664 rows × 8 columns</p>\n</div>"
     },
     "execution_count": 286,
     "metadata": {},
     "output_type": "execute_result"
    }
   ],
   "source": [
    "speaker_map = {speaker: i for i, speaker in enumerate(df_index_train_reference[\"speaker\"].unique())}\n",
    "\n",
    "df_index_train_reference['speaker_class'] = df_index_train_reference['speaker'].map(speaker_map)\n",
    "\n",
    "df_index_train_reference"
   ],
   "metadata": {
    "collapsed": false
   }
  },
  {
   "cell_type": "code",
   "execution_count": 275,
   "outputs": [
    {
     "data": {
      "text/plain": "       file_index                                      pkl_filename  \\\n0               0        mfcc_len5_fft2048_mels128_mfcc17_0-499.pkl   \n1               1        mfcc_len5_fft2048_mels128_mfcc17_0-499.pkl   \n2               2        mfcc_len5_fft2048_mels128_mfcc17_0-499.pkl   \n3               3        mfcc_len5_fft2048_mels128_mfcc17_0-499.pkl   \n4               4        mfcc_len5_fft2048_mels128_mfcc17_0-499.pkl   \n...           ...                                               ...   \n49659         159  mfcc_len5_fft2048_mels128_mfcc17_49500-49663.pkl   \n49660         160  mfcc_len5_fft2048_mels128_mfcc17_49500-49663.pkl   \n49661         161  mfcc_len5_fft2048_mels128_mfcc17_49500-49663.pkl   \n49662         162  mfcc_len5_fft2048_mels128_mfcc17_49500-49663.pkl   \n49663         163  mfcc_len5_fft2048_mels128_mfcc17_49500-49663.pkl   \n\n       n_samples_per_speaker speaker  speaker_index  speaker15  \\\n0                        256    1121              0          0   \n1                        256    1121              1          0   \n2                        256    1121              2          0   \n3                        256    1121              3          0   \n4                        256    1121              4          0   \n...                      ...     ...            ...        ...   \n49659                    256    2764          49659          0   \n49660                    256    2764          49660          0   \n49661                    256    2764          49661          0   \n49662                    256    2764          49662          0   \n49663                    256    2764          49663          0   \n\n       speaker15_class  \n0                  NaN  \n1                  NaN  \n2                  NaN  \n3                  NaN  \n4                  NaN  \n...                ...  \n49659              NaN  \n49660              NaN  \n49661              NaN  \n49662              NaN  \n49663              NaN  \n\n[49664 rows x 7 columns]",
      "text/html": "<div>\n<style scoped>\n    .dataframe tbody tr th:only-of-type {\n        vertical-align: middle;\n    }\n\n    .dataframe tbody tr th {\n        vertical-align: top;\n    }\n\n    .dataframe thead th {\n        text-align: right;\n    }\n</style>\n<table border=\"1\" class=\"dataframe\">\n  <thead>\n    <tr style=\"text-align: right;\">\n      <th></th>\n      <th>file_index</th>\n      <th>pkl_filename</th>\n      <th>n_samples_per_speaker</th>\n      <th>speaker</th>\n      <th>speaker_index</th>\n      <th>speaker15</th>\n      <th>speaker15_class</th>\n    </tr>\n  </thead>\n  <tbody>\n    <tr>\n      <th>0</th>\n      <td>0</td>\n      <td>mfcc_len5_fft2048_mels128_mfcc17_0-499.pkl</td>\n      <td>256</td>\n      <td>1121</td>\n      <td>0</td>\n      <td>0</td>\n      <td>NaN</td>\n    </tr>\n    <tr>\n      <th>1</th>\n      <td>1</td>\n      <td>mfcc_len5_fft2048_mels128_mfcc17_0-499.pkl</td>\n      <td>256</td>\n      <td>1121</td>\n      <td>1</td>\n      <td>0</td>\n      <td>NaN</td>\n    </tr>\n    <tr>\n      <th>2</th>\n      <td>2</td>\n      <td>mfcc_len5_fft2048_mels128_mfcc17_0-499.pkl</td>\n      <td>256</td>\n      <td>1121</td>\n      <td>2</td>\n      <td>0</td>\n      <td>NaN</td>\n    </tr>\n    <tr>\n      <th>3</th>\n      <td>3</td>\n      <td>mfcc_len5_fft2048_mels128_mfcc17_0-499.pkl</td>\n      <td>256</td>\n      <td>1121</td>\n      <td>3</td>\n      <td>0</td>\n      <td>NaN</td>\n    </tr>\n    <tr>\n      <th>4</th>\n      <td>4</td>\n      <td>mfcc_len5_fft2048_mels128_mfcc17_0-499.pkl</td>\n      <td>256</td>\n      <td>1121</td>\n      <td>4</td>\n      <td>0</td>\n      <td>NaN</td>\n    </tr>\n    <tr>\n      <th>...</th>\n      <td>...</td>\n      <td>...</td>\n      <td>...</td>\n      <td>...</td>\n      <td>...</td>\n      <td>...</td>\n      <td>...</td>\n    </tr>\n    <tr>\n      <th>49659</th>\n      <td>159</td>\n      <td>mfcc_len5_fft2048_mels128_mfcc17_49500-49663.pkl</td>\n      <td>256</td>\n      <td>2764</td>\n      <td>49659</td>\n      <td>0</td>\n      <td>NaN</td>\n    </tr>\n    <tr>\n      <th>49660</th>\n      <td>160</td>\n      <td>mfcc_len5_fft2048_mels128_mfcc17_49500-49663.pkl</td>\n      <td>256</td>\n      <td>2764</td>\n      <td>49660</td>\n      <td>0</td>\n      <td>NaN</td>\n    </tr>\n    <tr>\n      <th>49661</th>\n      <td>161</td>\n      <td>mfcc_len5_fft2048_mels128_mfcc17_49500-49663.pkl</td>\n      <td>256</td>\n      <td>2764</td>\n      <td>49661</td>\n      <td>0</td>\n      <td>NaN</td>\n    </tr>\n    <tr>\n      <th>49662</th>\n      <td>162</td>\n      <td>mfcc_len5_fft2048_mels128_mfcc17_49500-49663.pkl</td>\n      <td>256</td>\n      <td>2764</td>\n      <td>49662</td>\n      <td>0</td>\n      <td>NaN</td>\n    </tr>\n    <tr>\n      <th>49663</th>\n      <td>163</td>\n      <td>mfcc_len5_fft2048_mels128_mfcc17_49500-49663.pkl</td>\n      <td>256</td>\n      <td>2764</td>\n      <td>49663</td>\n      <td>0</td>\n      <td>NaN</td>\n    </tr>\n  </tbody>\n</table>\n<p>49664 rows × 7 columns</p>\n</div>"
     },
     "execution_count": 275,
     "metadata": {},
     "output_type": "execute_result"
    }
   ],
   "source": [
    "df_index_train_reference"
   ],
   "metadata": {
    "collapsed": false
   }
  },
  {
   "cell_type": "code",
   "execution_count": 252,
   "outputs": [
    {
     "name": "stdout",
     "output_type": "stream",
     "text": [
      "0 1121\n",
      "1 1121\n",
      "2 1121\n",
      "3 1121\n",
      "4 1121\n",
      "5 1121\n",
      "6 1121\n",
      "7 1121\n",
      "8 1121\n",
      "9 1121\n",
      "10 1121\n",
      "11 1121\n",
      "12 1121\n",
      "13 1121\n",
      "14 1121\n",
      "15 1121\n",
      "16 6848\n",
      "17 6848\n",
      "18 6848\n",
      "19 6848\n",
      "20 6848\n",
      "21 6848\n",
      "22 6848\n",
      "23 6848\n",
      "24 6848\n",
      "25 6848\n",
      "26 6848\n",
      "27 6848\n",
      "28 6848\n",
      "29 6848\n",
      "30 6848\n",
      "31 6848\n",
      "32 7095\n",
      "33 7095\n",
      "34 7095\n",
      "35 7095\n",
      "36 7095\n",
      "37 7095\n",
      "38 7095\n",
      "39 7095\n",
      "40 7095\n",
      "41 7095\n",
      "42 7095\n",
      "43 7095\n",
      "44 7095\n",
      "45 7095\n",
      "46 5789\n",
      "47 5789\n",
      "48 5789\n",
      "49 5789\n",
      "50 5789\n",
      "51 5789\n",
      "52 5789\n",
      "53 5789\n",
      "54 5789\n",
      "55 5789\n",
      "56 5789\n",
      "57 5789\n",
      "58 5789\n",
      "59 5789\n",
      "60 5789\n",
      "61 5789\n",
      "62 1050\n",
      "63 1050\n",
      "64 1050\n",
      "65 1050\n",
      "66 1050\n",
      "67 1050\n",
      "68 1050\n",
      "69 1050\n",
      "70 1050\n",
      "71 1050\n",
      "72 1050\n",
      "73 1050\n",
      "74 1050\n",
      "75 1050\n",
      "76 6788\n",
      "77 6788\n",
      "78 6788\n",
      "79 6788\n",
      "80 6788\n",
      "81 6788\n",
      "82 6788\n",
      "83 6788\n",
      "84 6788\n",
      "85 6788\n",
      "86 6788\n",
      "87 6788\n",
      "88 6788\n",
      "89 6788\n",
      "90 6788\n",
      "91 6788\n",
      "92 0032\n",
      "93 0032\n",
      "94 0032\n",
      "95 0032\n",
      "96 0032\n",
      "97 0032\n",
      "98 0032\n",
      "99 0032\n",
      "100 0032\n",
      "101 0032\n",
      "102 0032\n",
      "103 0032\n",
      "104 0032\n",
      "105 0032\n",
      "106 0032\n",
      "107 0032\n",
      "108 4331\n",
      "109 4331\n",
      "110 4331\n",
      "111 4331\n",
      "112 4331\n",
      "113 4331\n",
      "114 4331\n",
      "115 4331\n",
      "116 4331\n",
      "117 4331\n",
      "118 4331\n",
      "119 4331\n",
      "120 4331\n",
      "121 4331\n",
      "122 4331\n",
      "123 4331\n",
      "124 0032\n",
      "125 0032\n",
      "126 0032\n",
      "127 0032\n",
      "128 0032\n",
      "129 0032\n",
      "130 0032\n",
      "131 0032\n",
      "132 0032\n",
      "133 0032\n",
      "134 0032\n",
      "135 0032\n",
      "136 0032\n",
      "137 0032\n",
      "138 0032\n",
      "139 0032\n",
      "140 8152\n",
      "141 8152\n",
      "142 8152\n",
      "143 8152\n",
      "144 8152\n",
      "145 8152\n",
      "146 8152\n",
      "147 8152\n",
      "148 8152\n",
      "149 8152\n",
      "150 8152\n",
      "151 8152\n",
      "152 8152\n",
      "153 8152\n",
      "154 8152\n",
      "155 8152\n",
      "156 3235\n",
      "157 3235\n",
      "158 3235\n",
      "159 3235\n",
      "160 3235\n",
      "161 3235\n",
      "162 3235\n",
      "163 3235\n",
      "164 3235\n",
      "165 3235\n",
      "166 3235\n",
      "167 3235\n",
      "168 3235\n",
      "169 3235\n",
      "170 3235\n",
      "171 3235\n",
      "172 4116\n",
      "173 4116\n",
      "174 4116\n",
      "175 4116\n",
      "176 4116\n",
      "177 4116\n",
      "178 4116\n",
      "179 4116\n",
      "180 4116\n",
      "181 4116\n",
      "182 4116\n",
      "183 4116\n",
      "184 4116\n",
      "185 4116\n",
      "186 4116\n",
      "187 4116\n",
      "188 3994\n",
      "189 3994\n",
      "190 3994\n",
      "191 3994\n",
      "192 3994\n",
      "193 3994\n",
      "194 3994\n",
      "195 3994\n",
      "196 3994\n",
      "197 3994\n",
      "198 3994\n",
      "199 3994\n"
     ]
    }
   ],
   "source": [
    "for y, label in zip(y, label):\n",
    "    print(y, label) # something is off with labels"
   ],
   "metadata": {
    "collapsed": false
   }
  },
  {
   "cell_type": "code",
   "execution_count": null,
   "outputs": [],
   "source": [
    "# load everything to X and then the same y for speaker IDS\n",
    "X = load_train(TRAIN_DIR, files)"
   ],
   "metadata": {
    "collapsed": false
   }
  },
  {
   "cell_type": "code",
   "execution_count": 25,
   "outputs": [
    {
     "name": "stderr",
     "output_type": "stream",
     "text": [
      "2024-02-12 01:12:54.109351: I tensorflow/core/platform/cpu_feature_guard.cc:182] This TensorFlow binary is optimized to use available CPU instructions in performance-critical operations.\n",
      "To enable the following instructions: AVX2 AVX512F AVX512_VNNI FMA, in other operations, rebuild TensorFlow with the appropriate compiler flags.\n"
     ]
    },
    {
     "data": {
      "text/plain": "SeedSequence(\n    entropy=2024,\n)"
     },
     "execution_count": 25,
     "metadata": {},
     "output_type": "execute_result"
    }
   ],
   "source": [
    "# select 15 random speakers whose count of samples is at least 256\n",
    "import seedbank\n",
    "seedbank.initialize(2024)"
   ],
   "metadata": {
    "collapsed": false
   }
  },
  {
   "cell_type": "code",
   "execution_count": 54,
   "outputs": [],
   "source": [
    "speakers = df_index_train[df_index_train['n_samples_per_speaker']==256]['speaker'].sample(15, random_state=2024)\n",
    "\n",
    "speakers = speakers.reset_index(drop=True).reset_index()\n",
    "speakers = speakers.rename(columns={'index':'label'})\n"
   ],
   "metadata": {
    "collapsed": false
   }
  },
  {
   "cell_type": "code",
   "execution_count": 56,
   "outputs": [
    {
     "data": {
      "text/plain": "    label speaker\n0       0    8266\n1       1    6395\n2       2    1926\n3       3    5968\n4       4    2573\n5       5    8575\n6       6    5583\n7       7    5189\n8       8    0242\n9       9    4064\n10     10    3521\n11     11    0248\n12     12    4160\n13     13    7498\n14     14    3835",
      "text/html": "<div>\n<style scoped>\n    .dataframe tbody tr th:only-of-type {\n        vertical-align: middle;\n    }\n\n    .dataframe tbody tr th {\n        vertical-align: top;\n    }\n\n    .dataframe thead th {\n        text-align: right;\n    }\n</style>\n<table border=\"1\" class=\"dataframe\">\n  <thead>\n    <tr style=\"text-align: right;\">\n      <th></th>\n      <th>label</th>\n      <th>speaker</th>\n    </tr>\n  </thead>\n  <tbody>\n    <tr>\n      <th>0</th>\n      <td>0</td>\n      <td>8266</td>\n    </tr>\n    <tr>\n      <th>1</th>\n      <td>1</td>\n      <td>6395</td>\n    </tr>\n    <tr>\n      <th>2</th>\n      <td>2</td>\n      <td>1926</td>\n    </tr>\n    <tr>\n      <th>3</th>\n      <td>3</td>\n      <td>5968</td>\n    </tr>\n    <tr>\n      <th>4</th>\n      <td>4</td>\n      <td>2573</td>\n    </tr>\n    <tr>\n      <th>5</th>\n      <td>5</td>\n      <td>8575</td>\n    </tr>\n    <tr>\n      <th>6</th>\n      <td>6</td>\n      <td>5583</td>\n    </tr>\n    <tr>\n      <th>7</th>\n      <td>7</td>\n      <td>5189</td>\n    </tr>\n    <tr>\n      <th>8</th>\n      <td>8</td>\n      <td>0242</td>\n    </tr>\n    <tr>\n      <th>9</th>\n      <td>9</td>\n      <td>4064</td>\n    </tr>\n    <tr>\n      <th>10</th>\n      <td>10</td>\n      <td>3521</td>\n    </tr>\n    <tr>\n      <th>11</th>\n      <td>11</td>\n      <td>0248</td>\n    </tr>\n    <tr>\n      <th>12</th>\n      <td>12</td>\n      <td>4160</td>\n    </tr>\n    <tr>\n      <th>13</th>\n      <td>13</td>\n      <td>7498</td>\n    </tr>\n    <tr>\n      <th>14</th>\n      <td>14</td>\n      <td>3835</td>\n    </tr>\n  </tbody>\n</table>\n</div>"
     },
     "execution_count": 56,
     "metadata": {},
     "output_type": "execute_result"
    }
   ],
   "source": [
    "speakers"
   ],
   "metadata": {
    "collapsed": false
   }
  },
  {
   "cell_type": "code",
   "execution_count": 60,
   "outputs": [],
   "source": [
    "df_index_train_sub = df_index_train[df_index_train['speaker'].isin(speakers['speaker'])]\n",
    "df_index_train_sub = df_index_train_sub.merge(speakers, on='speaker', how='left')"
   ],
   "metadata": {
    "collapsed": false
   }
  },
  {
   "cell_type": "code",
   "execution_count": 92,
   "outputs": [
    {
     "data": {
      "text/plain": "'preprocessed/train/mfcc_len5_fft2048_mels128_mfcc17_500-999.pkl'"
     },
     "execution_count": 92,
     "metadata": {},
     "output_type": "execute_result"
    }
   ],
   "source": [
    "df_index_train.loc[500, \"pkl_file_dir\"]"
   ],
   "metadata": {
    "collapsed": false
   }
  },
  {
   "cell_type": "code",
   "execution_count": 71,
   "outputs": [
    {
     "data": {
      "text/plain": "93"
     },
     "execution_count": 71,
     "metadata": {},
     "output_type": "execute_result"
    }
   ],
   "source": [
    "len(set(df_index_train_sub['pkl_file_dir'].values))"
   ],
   "metadata": {
    "collapsed": false
   }
  },
  {
   "cell_type": "code",
   "execution_count": 148,
   "outputs": [
    {
     "data": {
      "text/plain": "100"
     },
     "execution_count": 148,
     "metadata": {},
     "output_type": "execute_result"
    }
   ],
   "source": [
    "from pathlib import Path\n",
    "files = os.listdir(TRAIN_DIR)\n",
    "len(files)"
   ],
   "metadata": {
    "collapsed": false
   }
  },
  {
   "cell_type": "code",
   "execution_count": 152,
   "outputs": [],
   "source": [
    "df_index_train['pkl_filename'] = df_index_train['pkl_file_dir'].apply(lambda x: Path(x).name)\n",
    "len(set(df_index_train['pkl_filename'].values))\n",
    "df_index_train = df_index_train.sort_values(by=['pkl_filename', 'file_index'])"
   ],
   "metadata": {
    "collapsed": false
   }
  },
  {
   "cell_type": "code",
   "execution_count": 167,
   "outputs": [
    {
     "ename": "IndexingError",
     "evalue": "Too many indexers",
     "output_type": "error",
     "traceback": [
      "\u001B[0;31m---------------------------------------------------------------------------\u001B[0m",
      "\u001B[0;31mIndexingError\u001B[0m                             Traceback (most recent call last)",
      "Cell \u001B[0;32mIn[167], line 1\u001B[0m\n\u001B[0;32m----> 1\u001B[0m \u001B[43mdf_index_train\u001B[49m\u001B[43m[\u001B[49m\u001B[38;5;124;43m\"\u001B[39;49m\u001B[38;5;124;43mpkl_file_dir\u001B[39;49m\u001B[38;5;124;43m\"\u001B[39;49m\u001B[43m]\u001B[49m\u001B[38;5;241;43m.\u001B[39;49m\u001B[43mloc\u001B[49m\u001B[43m[\u001B[49m\u001B[38;5;241;43m1\u001B[39;49m\u001B[43m,\u001B[49m\u001B[43m \u001B[49m\u001B[38;5;124;43m\"\u001B[39;49m\u001B[38;5;124;43mfile_index\u001B[39;49m\u001B[38;5;124;43m\"\u001B[39;49m\u001B[43m]\u001B[49m\n",
      "File \u001B[0;32m~/virtualenvs/mldl/lib/python3.11/site-packages/pandas/core/indexing.py:1147\u001B[0m, in \u001B[0;36m_LocationIndexer.__getitem__\u001B[0;34m(self, key)\u001B[0m\n\u001B[1;32m   1145\u001B[0m     \u001B[38;5;28;01mif\u001B[39;00m \u001B[38;5;28mself\u001B[39m\u001B[38;5;241m.\u001B[39m_is_scalar_access(key):\n\u001B[1;32m   1146\u001B[0m         \u001B[38;5;28;01mreturn\u001B[39;00m \u001B[38;5;28mself\u001B[39m\u001B[38;5;241m.\u001B[39mobj\u001B[38;5;241m.\u001B[39m_get_value(\u001B[38;5;241m*\u001B[39mkey, takeable\u001B[38;5;241m=\u001B[39m\u001B[38;5;28mself\u001B[39m\u001B[38;5;241m.\u001B[39m_takeable)\n\u001B[0;32m-> 1147\u001B[0m     \u001B[38;5;28;01mreturn\u001B[39;00m \u001B[38;5;28;43mself\u001B[39;49m\u001B[38;5;241;43m.\u001B[39;49m\u001B[43m_getitem_tuple\u001B[49m\u001B[43m(\u001B[49m\u001B[43mkey\u001B[49m\u001B[43m)\u001B[49m\n\u001B[1;32m   1148\u001B[0m \u001B[38;5;28;01melse\u001B[39;00m:\n\u001B[1;32m   1149\u001B[0m     \u001B[38;5;66;03m# we by definition only have the 0th axis\u001B[39;00m\n\u001B[1;32m   1150\u001B[0m     axis \u001B[38;5;241m=\u001B[39m \u001B[38;5;28mself\u001B[39m\u001B[38;5;241m.\u001B[39maxis \u001B[38;5;129;01mor\u001B[39;00m \u001B[38;5;241m0\u001B[39m\n",
      "File \u001B[0;32m~/virtualenvs/mldl/lib/python3.11/site-packages/pandas/core/indexing.py:1333\u001B[0m, in \u001B[0;36m_LocIndexer._getitem_tuple\u001B[0;34m(self, tup)\u001B[0m\n\u001B[1;32m   1330\u001B[0m     \u001B[38;5;28;01mreturn\u001B[39;00m \u001B[38;5;28mself\u001B[39m\u001B[38;5;241m.\u001B[39m_getitem_lowerdim(tup)\n\u001B[1;32m   1332\u001B[0m \u001B[38;5;66;03m# no multi-index, so validate all of the indexers\u001B[39;00m\n\u001B[0;32m-> 1333\u001B[0m tup \u001B[38;5;241m=\u001B[39m \u001B[38;5;28;43mself\u001B[39;49m\u001B[38;5;241;43m.\u001B[39;49m\u001B[43m_validate_tuple_indexer\u001B[49m\u001B[43m(\u001B[49m\u001B[43mtup\u001B[49m\u001B[43m)\u001B[49m\n\u001B[1;32m   1335\u001B[0m \u001B[38;5;66;03m# ugly hack for GH #836\u001B[39;00m\n\u001B[1;32m   1336\u001B[0m \u001B[38;5;28;01mif\u001B[39;00m \u001B[38;5;28mself\u001B[39m\u001B[38;5;241m.\u001B[39m_multi_take_opportunity(tup):\n",
      "File \u001B[0;32m~/virtualenvs/mldl/lib/python3.11/site-packages/pandas/core/indexing.py:936\u001B[0m, in \u001B[0;36m_LocationIndexer._validate_tuple_indexer\u001B[0;34m(self, key)\u001B[0m\n\u001B[1;32m    931\u001B[0m \u001B[38;5;129m@final\u001B[39m\n\u001B[1;32m    932\u001B[0m \u001B[38;5;28;01mdef\u001B[39;00m \u001B[38;5;21m_validate_tuple_indexer\u001B[39m(\u001B[38;5;28mself\u001B[39m, key: \u001B[38;5;28mtuple\u001B[39m) \u001B[38;5;241m-\u001B[39m\u001B[38;5;241m>\u001B[39m \u001B[38;5;28mtuple\u001B[39m:\n\u001B[1;32m    933\u001B[0m \u001B[38;5;250m    \u001B[39m\u001B[38;5;124;03m\"\"\"\u001B[39;00m\n\u001B[1;32m    934\u001B[0m \u001B[38;5;124;03m    Check the key for valid keys across my indexer.\u001B[39;00m\n\u001B[1;32m    935\u001B[0m \u001B[38;5;124;03m    \"\"\"\u001B[39;00m\n\u001B[0;32m--> 936\u001B[0m     key \u001B[38;5;241m=\u001B[39m \u001B[38;5;28;43mself\u001B[39;49m\u001B[38;5;241;43m.\u001B[39;49m\u001B[43m_validate_key_length\u001B[49m\u001B[43m(\u001B[49m\u001B[43mkey\u001B[49m\u001B[43m)\u001B[49m\n\u001B[1;32m    937\u001B[0m     key \u001B[38;5;241m=\u001B[39m \u001B[38;5;28mself\u001B[39m\u001B[38;5;241m.\u001B[39m_expand_ellipsis(key)\n\u001B[1;32m    938\u001B[0m     \u001B[38;5;28;01mfor\u001B[39;00m i, k \u001B[38;5;129;01min\u001B[39;00m \u001B[38;5;28menumerate\u001B[39m(key):\n",
      "File \u001B[0;32m~/virtualenvs/mldl/lib/python3.11/site-packages/pandas/core/indexing.py:975\u001B[0m, in \u001B[0;36m_LocationIndexer._validate_key_length\u001B[0;34m(self, key)\u001B[0m\n\u001B[1;32m    973\u001B[0m             \u001B[38;5;28;01mraise\u001B[39;00m IndexingError(_one_ellipsis_message)\n\u001B[1;32m    974\u001B[0m         \u001B[38;5;28;01mreturn\u001B[39;00m \u001B[38;5;28mself\u001B[39m\u001B[38;5;241m.\u001B[39m_validate_key_length(key)\n\u001B[0;32m--> 975\u001B[0m     \u001B[38;5;28;01mraise\u001B[39;00m IndexingError(\u001B[38;5;124m\"\u001B[39m\u001B[38;5;124mToo many indexers\u001B[39m\u001B[38;5;124m\"\u001B[39m)\n\u001B[1;32m    976\u001B[0m \u001B[38;5;28;01mreturn\u001B[39;00m key\n",
      "\u001B[0;31mIndexingError\u001B[0m: Too many indexers"
     ]
    }
   ],
   "source": [
    "df_index_train[\"pkl_file_dir\"].loc[1, \"file_index\"]\n",
    "\n"
   ],
   "metadata": {
    "collapsed": false
   }
  },
  {
   "cell_type": "code",
   "execution_count": 151,
   "outputs": [
    {
     "data": {
      "text/plain": "                                        pkl_filename  min  max\n0         mfcc_len5_fft2048_mels128_mfcc17_0-499.pkl    0  499\n1     mfcc_len5_fft2048_mels128_mfcc17_1000-1499.pkl    0  499\n2   mfcc_len5_fft2048_mels128_mfcc17_10000-10499.pkl    0  499\n3   mfcc_len5_fft2048_mels128_mfcc17_10500-10999.pkl    0  499\n4   mfcc_len5_fft2048_mels128_mfcc17_11000-11499.pkl    0  499\n..                                               ...  ...  ...\n95    mfcc_len5_fft2048_mels128_mfcc17_7500-7999.pkl    0  499\n96    mfcc_len5_fft2048_mels128_mfcc17_8000-8499.pkl    0  499\n97    mfcc_len5_fft2048_mels128_mfcc17_8500-8999.pkl    0  499\n98    mfcc_len5_fft2048_mels128_mfcc17_9000-9499.pkl    0  499\n99    mfcc_len5_fft2048_mels128_mfcc17_9500-9999.pkl    0  499\n\n[100 rows x 3 columns]",
      "text/html": "<div>\n<style scoped>\n    .dataframe tbody tr th:only-of-type {\n        vertical-align: middle;\n    }\n\n    .dataframe tbody tr th {\n        vertical-align: top;\n    }\n\n    .dataframe thead th {\n        text-align: right;\n    }\n</style>\n<table border=\"1\" class=\"dataframe\">\n  <thead>\n    <tr style=\"text-align: right;\">\n      <th></th>\n      <th>pkl_filename</th>\n      <th>min</th>\n      <th>max</th>\n    </tr>\n  </thead>\n  <tbody>\n    <tr>\n      <th>0</th>\n      <td>mfcc_len5_fft2048_mels128_mfcc17_0-499.pkl</td>\n      <td>0</td>\n      <td>499</td>\n    </tr>\n    <tr>\n      <th>1</th>\n      <td>mfcc_len5_fft2048_mels128_mfcc17_1000-1499.pkl</td>\n      <td>0</td>\n      <td>499</td>\n    </tr>\n    <tr>\n      <th>2</th>\n      <td>mfcc_len5_fft2048_mels128_mfcc17_10000-10499.pkl</td>\n      <td>0</td>\n      <td>499</td>\n    </tr>\n    <tr>\n      <th>3</th>\n      <td>mfcc_len5_fft2048_mels128_mfcc17_10500-10999.pkl</td>\n      <td>0</td>\n      <td>499</td>\n    </tr>\n    <tr>\n      <th>4</th>\n      <td>mfcc_len5_fft2048_mels128_mfcc17_11000-11499.pkl</td>\n      <td>0</td>\n      <td>499</td>\n    </tr>\n    <tr>\n      <th>...</th>\n      <td>...</td>\n      <td>...</td>\n      <td>...</td>\n    </tr>\n    <tr>\n      <th>95</th>\n      <td>mfcc_len5_fft2048_mels128_mfcc17_7500-7999.pkl</td>\n      <td>0</td>\n      <td>499</td>\n    </tr>\n    <tr>\n      <th>96</th>\n      <td>mfcc_len5_fft2048_mels128_mfcc17_8000-8499.pkl</td>\n      <td>0</td>\n      <td>499</td>\n    </tr>\n    <tr>\n      <th>97</th>\n      <td>mfcc_len5_fft2048_mels128_mfcc17_8500-8999.pkl</td>\n      <td>0</td>\n      <td>499</td>\n    </tr>\n    <tr>\n      <th>98</th>\n      <td>mfcc_len5_fft2048_mels128_mfcc17_9000-9499.pkl</td>\n      <td>0</td>\n      <td>499</td>\n    </tr>\n    <tr>\n      <th>99</th>\n      <td>mfcc_len5_fft2048_mels128_mfcc17_9500-9999.pkl</td>\n      <td>0</td>\n      <td>499</td>\n    </tr>\n  </tbody>\n</table>\n<p>100 rows × 3 columns</p>\n</div>"
     },
     "execution_count": 151,
     "metadata": {},
     "output_type": "execute_result"
    }
   ],
   "source": [
    "# load everything to X and then the same y for speaker IDS"
   ],
   "metadata": {
    "collapsed": false
   }
  },
  {
   "cell_type": "code",
   "execution_count": null,
   "outputs": [],
   "source": [
    "# Load everything to X and then the same y for speaker IDS\n",
    "X = load_train(TRAIN_DIR, files)\n"
   ],
   "metadata": {
    "collapsed": false
   }
  },
  {
   "cell_type": "code",
   "execution_count": 94,
   "outputs": [],
   "source": [
    "df_index_train_sub['pkl_filename'] = df_index_train_sub['pkl_file_dir'].apply(lambda x: Path(x).name)"
   ],
   "metadata": {
    "collapsed": false
   }
  },
  {
   "cell_type": "code",
   "execution_count": 104,
   "outputs": [
    {
     "data": {
      "text/plain": "     file_index  old_index                             origin_folder speaker  \\\n0           446        650  distant-16k/speech/train/rm4/babb/sp3521    3521   \n1           447        651  distant-16k/speech/train/rm4/babb/sp3521    3521   \n2           448        652  distant-16k/speech/train/rm4/babb/sp3521    3521   \n3           449        653  distant-16k/speech/train/rm4/babb/sp3521    3521   \n4           450        654  distant-16k/speech/train/rm4/babb/sp3521    3521   \n..          ...        ...                                       ...     ...   \n651         345      14963  distant-16k/speech/train/rm3/tele/sp6395    6395   \n652         346      14964  distant-16k/speech/train/rm3/tele/sp6395    6395   \n653         347      14965  distant-16k/speech/train/rm3/tele/sp6395    6395   \n654         348      14966  distant-16k/speech/train/rm3/tele/sp6395    6395   \n655         349      14967  distant-16k/speech/train/rm3/tele/sp6395    6395   \n\n    distractor room category  \\\n0         babb  rm4    train   \n1         babb  rm4    train   \n2         babb  rm4    train   \n3         babb  rm4    train   \n4         babb  rm4    train   \n..         ...  ...      ...   \n651       tele  rm3    train   \n652       tele  rm3    train   \n653       tele  rm3    train   \n654       tele  rm3    train   \n655       tele  rm3    train   \n\n                                              filename  \\\n0    5seconds-16k/speech/train/rm4/babb/sp3521/Lab4...   \n1    5seconds-16k/speech/train/rm4/babb/sp3521/Lab4...   \n2    5seconds-16k/speech/train/rm4/babb/sp3521/Lab4...   \n3    5seconds-16k/speech/train/rm4/babb/sp3521/Lab4...   \n4    5seconds-16k/speech/train/rm4/babb/sp3521/Lab4...   \n..                                                 ...   \n651  5seconds-16k/speech/train/rm3/tele/sp6395/Lab4...   \n652  5seconds-16k/speech/train/rm3/tele/sp6395/Lab4...   \n653  5seconds-16k/speech/train/rm3/tele/sp6395/Lab4...   \n654  5seconds-16k/speech/train/rm3/tele/sp6395/Lab4...   \n655  5seconds-16k/speech/train/rm3/tele/sp6395/Lab4...   \n\n                                          pkl_file_dir  n_samples_per_speaker  \\\n0    preprocessed/train/mfcc_len5_fft2048_mels128_m...                    256   \n1    preprocessed/train/mfcc_len5_fft2048_mels128_m...                    256   \n2    preprocessed/train/mfcc_len5_fft2048_mels128_m...                    256   \n3    preprocessed/train/mfcc_len5_fft2048_mels128_m...                    256   \n4    preprocessed/train/mfcc_len5_fft2048_mels128_m...                    256   \n..                                                 ...                    ...   \n651  preprocessed/train/mfcc_len5_fft2048_mels128_m...                    256   \n652  preprocessed/train/mfcc_len5_fft2048_mels128_m...                    256   \n653  preprocessed/train/mfcc_len5_fft2048_mels128_m...                    256   \n654  preprocessed/train/mfcc_len5_fft2048_mels128_m...                    256   \n655  preprocessed/train/mfcc_len5_fft2048_mels128_m...                    256   \n\n     label                                    pkl_filename  \n0       10      mfcc_len5_fft2048_mels128_mfcc17_0-499.pkl  \n1       10      mfcc_len5_fft2048_mels128_mfcc17_0-499.pkl  \n2       10      mfcc_len5_fft2048_mels128_mfcc17_0-499.pkl  \n3       10      mfcc_len5_fft2048_mels128_mfcc17_0-499.pkl  \n4       10      mfcc_len5_fft2048_mels128_mfcc17_0-499.pkl  \n..     ...                                             ...  \n651      1  mfcc_len5_fft2048_mels128_mfcc17_9500-9999.pkl  \n652      1  mfcc_len5_fft2048_mels128_mfcc17_9500-9999.pkl  \n653      1  mfcc_len5_fft2048_mels128_mfcc17_9500-9999.pkl  \n654      1  mfcc_len5_fft2048_mels128_mfcc17_9500-9999.pkl  \n655      1  mfcc_len5_fft2048_mels128_mfcc17_9500-9999.pkl  \n\n[3840 rows x 12 columns]",
      "text/html": "<div>\n<style scoped>\n    .dataframe tbody tr th:only-of-type {\n        vertical-align: middle;\n    }\n\n    .dataframe tbody tr th {\n        vertical-align: top;\n    }\n\n    .dataframe thead th {\n        text-align: right;\n    }\n</style>\n<table border=\"1\" class=\"dataframe\">\n  <thead>\n    <tr style=\"text-align: right;\">\n      <th></th>\n      <th>file_index</th>\n      <th>old_index</th>\n      <th>origin_folder</th>\n      <th>speaker</th>\n      <th>distractor</th>\n      <th>room</th>\n      <th>category</th>\n      <th>filename</th>\n      <th>pkl_file_dir</th>\n      <th>n_samples_per_speaker</th>\n      <th>label</th>\n      <th>pkl_filename</th>\n    </tr>\n  </thead>\n  <tbody>\n    <tr>\n      <th>0</th>\n      <td>446</td>\n      <td>650</td>\n      <td>distant-16k/speech/train/rm4/babb/sp3521</td>\n      <td>3521</td>\n      <td>babb</td>\n      <td>rm4</td>\n      <td>train</td>\n      <td>5seconds-16k/speech/train/rm4/babb/sp3521/Lab4...</td>\n      <td>preprocessed/train/mfcc_len5_fft2048_mels128_m...</td>\n      <td>256</td>\n      <td>10</td>\n      <td>mfcc_len5_fft2048_mels128_mfcc17_0-499.pkl</td>\n    </tr>\n    <tr>\n      <th>1</th>\n      <td>447</td>\n      <td>651</td>\n      <td>distant-16k/speech/train/rm4/babb/sp3521</td>\n      <td>3521</td>\n      <td>babb</td>\n      <td>rm4</td>\n      <td>train</td>\n      <td>5seconds-16k/speech/train/rm4/babb/sp3521/Lab4...</td>\n      <td>preprocessed/train/mfcc_len5_fft2048_mels128_m...</td>\n      <td>256</td>\n      <td>10</td>\n      <td>mfcc_len5_fft2048_mels128_mfcc17_0-499.pkl</td>\n    </tr>\n    <tr>\n      <th>2</th>\n      <td>448</td>\n      <td>652</td>\n      <td>distant-16k/speech/train/rm4/babb/sp3521</td>\n      <td>3521</td>\n      <td>babb</td>\n      <td>rm4</td>\n      <td>train</td>\n      <td>5seconds-16k/speech/train/rm4/babb/sp3521/Lab4...</td>\n      <td>preprocessed/train/mfcc_len5_fft2048_mels128_m...</td>\n      <td>256</td>\n      <td>10</td>\n      <td>mfcc_len5_fft2048_mels128_mfcc17_0-499.pkl</td>\n    </tr>\n    <tr>\n      <th>3</th>\n      <td>449</td>\n      <td>653</td>\n      <td>distant-16k/speech/train/rm4/babb/sp3521</td>\n      <td>3521</td>\n      <td>babb</td>\n      <td>rm4</td>\n      <td>train</td>\n      <td>5seconds-16k/speech/train/rm4/babb/sp3521/Lab4...</td>\n      <td>preprocessed/train/mfcc_len5_fft2048_mels128_m...</td>\n      <td>256</td>\n      <td>10</td>\n      <td>mfcc_len5_fft2048_mels128_mfcc17_0-499.pkl</td>\n    </tr>\n    <tr>\n      <th>4</th>\n      <td>450</td>\n      <td>654</td>\n      <td>distant-16k/speech/train/rm4/babb/sp3521</td>\n      <td>3521</td>\n      <td>babb</td>\n      <td>rm4</td>\n      <td>train</td>\n      <td>5seconds-16k/speech/train/rm4/babb/sp3521/Lab4...</td>\n      <td>preprocessed/train/mfcc_len5_fft2048_mels128_m...</td>\n      <td>256</td>\n      <td>10</td>\n      <td>mfcc_len5_fft2048_mels128_mfcc17_0-499.pkl</td>\n    </tr>\n    <tr>\n      <th>...</th>\n      <td>...</td>\n      <td>...</td>\n      <td>...</td>\n      <td>...</td>\n      <td>...</td>\n      <td>...</td>\n      <td>...</td>\n      <td>...</td>\n      <td>...</td>\n      <td>...</td>\n      <td>...</td>\n      <td>...</td>\n    </tr>\n    <tr>\n      <th>651</th>\n      <td>345</td>\n      <td>14963</td>\n      <td>distant-16k/speech/train/rm3/tele/sp6395</td>\n      <td>6395</td>\n      <td>tele</td>\n      <td>rm3</td>\n      <td>train</td>\n      <td>5seconds-16k/speech/train/rm3/tele/sp6395/Lab4...</td>\n      <td>preprocessed/train/mfcc_len5_fft2048_mels128_m...</td>\n      <td>256</td>\n      <td>1</td>\n      <td>mfcc_len5_fft2048_mels128_mfcc17_9500-9999.pkl</td>\n    </tr>\n    <tr>\n      <th>652</th>\n      <td>346</td>\n      <td>14964</td>\n      <td>distant-16k/speech/train/rm3/tele/sp6395</td>\n      <td>6395</td>\n      <td>tele</td>\n      <td>rm3</td>\n      <td>train</td>\n      <td>5seconds-16k/speech/train/rm3/tele/sp6395/Lab4...</td>\n      <td>preprocessed/train/mfcc_len5_fft2048_mels128_m...</td>\n      <td>256</td>\n      <td>1</td>\n      <td>mfcc_len5_fft2048_mels128_mfcc17_9500-9999.pkl</td>\n    </tr>\n    <tr>\n      <th>653</th>\n      <td>347</td>\n      <td>14965</td>\n      <td>distant-16k/speech/train/rm3/tele/sp6395</td>\n      <td>6395</td>\n      <td>tele</td>\n      <td>rm3</td>\n      <td>train</td>\n      <td>5seconds-16k/speech/train/rm3/tele/sp6395/Lab4...</td>\n      <td>preprocessed/train/mfcc_len5_fft2048_mels128_m...</td>\n      <td>256</td>\n      <td>1</td>\n      <td>mfcc_len5_fft2048_mels128_mfcc17_9500-9999.pkl</td>\n    </tr>\n    <tr>\n      <th>654</th>\n      <td>348</td>\n      <td>14966</td>\n      <td>distant-16k/speech/train/rm3/tele/sp6395</td>\n      <td>6395</td>\n      <td>tele</td>\n      <td>rm3</td>\n      <td>train</td>\n      <td>5seconds-16k/speech/train/rm3/tele/sp6395/Lab4...</td>\n      <td>preprocessed/train/mfcc_len5_fft2048_mels128_m...</td>\n      <td>256</td>\n      <td>1</td>\n      <td>mfcc_len5_fft2048_mels128_mfcc17_9500-9999.pkl</td>\n    </tr>\n    <tr>\n      <th>655</th>\n      <td>349</td>\n      <td>14967</td>\n      <td>distant-16k/speech/train/rm3/tele/sp6395</td>\n      <td>6395</td>\n      <td>tele</td>\n      <td>rm3</td>\n      <td>train</td>\n      <td>5seconds-16k/speech/train/rm3/tele/sp6395/Lab4...</td>\n      <td>preprocessed/train/mfcc_len5_fft2048_mels128_m...</td>\n      <td>256</td>\n      <td>1</td>\n      <td>mfcc_len5_fft2048_mels128_mfcc17_9500-9999.pkl</td>\n    </tr>\n  </tbody>\n</table>\n<p>3840 rows × 12 columns</p>\n</div>"
     },
     "execution_count": 104,
     "metadata": {},
     "output_type": "execute_result"
    }
   ],
   "source": [
    "# sort by pkl_filename and file_index\n",
    "df_index_train_sub = df_index_train_sub.sort_values(by=['pkl_filename', 'file_index'])\n",
    "df_index_train_sub"
   ],
   "metadata": {
    "collapsed": false
   }
  },
  {
   "cell_type": "code",
   "execution_count": 142,
   "outputs": [
    {
     "data": {
      "text/plain": "                                                  file_index\npkl_filename                                                \nmfcc_len5_fft2048_mels128_mfcc17_0-499.pkl                16\nmfcc_len5_fft2048_mels128_mfcc17_1000-1499.pkl            16\nmfcc_len5_fft2048_mels128_mfcc17_10000-10499.pkl          48\nmfcc_len5_fft2048_mels128_mfcc17_10500-10999.pkl          64\nmfcc_len5_fft2048_mels128_mfcc17_11000-11499.pkl          32\n...                                                      ...\nmfcc_len5_fft2048_mels128_mfcc17_7000-7499.pkl            48\nmfcc_len5_fft2048_mels128_mfcc17_7500-7999.pkl            48\nmfcc_len5_fft2048_mels128_mfcc17_8000-8499.pkl             6\nmfcc_len5_fft2048_mels128_mfcc17_8500-8999.pkl            58\nmfcc_len5_fft2048_mels128_mfcc17_9500-9999.pkl            64\n\n[93 rows x 1 columns]",
      "text/html": "<div>\n<style scoped>\n    .dataframe tbody tr th:only-of-type {\n        vertical-align: middle;\n    }\n\n    .dataframe tbody tr th {\n        vertical-align: top;\n    }\n\n    .dataframe thead th {\n        text-align: right;\n    }\n</style>\n<table border=\"1\" class=\"dataframe\">\n  <thead>\n    <tr style=\"text-align: right;\">\n      <th></th>\n      <th>file_index</th>\n    </tr>\n    <tr>\n      <th>pkl_filename</th>\n      <th></th>\n    </tr>\n  </thead>\n  <tbody>\n    <tr>\n      <th>mfcc_len5_fft2048_mels128_mfcc17_0-499.pkl</th>\n      <td>16</td>\n    </tr>\n    <tr>\n      <th>mfcc_len5_fft2048_mels128_mfcc17_1000-1499.pkl</th>\n      <td>16</td>\n    </tr>\n    <tr>\n      <th>mfcc_len5_fft2048_mels128_mfcc17_10000-10499.pkl</th>\n      <td>48</td>\n    </tr>\n    <tr>\n      <th>mfcc_len5_fft2048_mels128_mfcc17_10500-10999.pkl</th>\n      <td>64</td>\n    </tr>\n    <tr>\n      <th>mfcc_len5_fft2048_mels128_mfcc17_11000-11499.pkl</th>\n      <td>32</td>\n    </tr>\n    <tr>\n      <th>...</th>\n      <td>...</td>\n    </tr>\n    <tr>\n      <th>mfcc_len5_fft2048_mels128_mfcc17_7000-7499.pkl</th>\n      <td>48</td>\n    </tr>\n    <tr>\n      <th>mfcc_len5_fft2048_mels128_mfcc17_7500-7999.pkl</th>\n      <td>48</td>\n    </tr>\n    <tr>\n      <th>mfcc_len5_fft2048_mels128_mfcc17_8000-8499.pkl</th>\n      <td>6</td>\n    </tr>\n    <tr>\n      <th>mfcc_len5_fft2048_mels128_mfcc17_8500-8999.pkl</th>\n      <td>58</td>\n    </tr>\n    <tr>\n      <th>mfcc_len5_fft2048_mels128_mfcc17_9500-9999.pkl</th>\n      <td>64</td>\n    </tr>\n  </tbody>\n</table>\n<p>93 rows × 1 columns</p>\n</div>"
     },
     "execution_count": 142,
     "metadata": {},
     "output_type": "execute_result"
    }
   ],
   "source": [
    "df_index_train_sub.groupby(\"pkl_filename\").agg({'file_index': \"count\"})"
   ],
   "metadata": {
    "collapsed": false
   }
  },
  {
   "cell_type": "code",
   "execution_count": 117,
   "outputs": [
    {
     "data": {
      "text/plain": "                                        pkl_filename  min  max\n0         mfcc_len5_fft2048_mels128_mfcc17_0-499.pkl  446  461\n1     mfcc_len5_fft2048_mels128_mfcc17_1000-1499.pkl  290  305\n2   mfcc_len5_fft2048_mels128_mfcc17_10000-10499.pkl  148  487\n3   mfcc_len5_fft2048_mels128_mfcc17_10500-10999.pkl   20  365\n4   mfcc_len5_fft2048_mels128_mfcc17_11000-11499.pkl  200  457\n..                                               ...  ...  ...\n88    mfcc_len5_fft2048_mels128_mfcc17_7000-7499.pkl   42  347\n89    mfcc_len5_fft2048_mels128_mfcc17_7500-7999.pkl  138  265\n90    mfcc_len5_fft2048_mels128_mfcc17_8000-8499.pkl  494  499\n91    mfcc_len5_fft2048_mels128_mfcc17_8500-8999.pkl    0  441\n92    mfcc_len5_fft2048_mels128_mfcc17_9500-9999.pkl   52  349\n\n[93 rows x 3 columns]",
      "text/html": "<div>\n<style scoped>\n    .dataframe tbody tr th:only-of-type {\n        vertical-align: middle;\n    }\n\n    .dataframe tbody tr th {\n        vertical-align: top;\n    }\n\n    .dataframe thead th {\n        text-align: right;\n    }\n</style>\n<table border=\"1\" class=\"dataframe\">\n  <thead>\n    <tr style=\"text-align: right;\">\n      <th></th>\n      <th>pkl_filename</th>\n      <th>min</th>\n      <th>max</th>\n    </tr>\n  </thead>\n  <tbody>\n    <tr>\n      <th>0</th>\n      <td>mfcc_len5_fft2048_mels128_mfcc17_0-499.pkl</td>\n      <td>446</td>\n      <td>461</td>\n    </tr>\n    <tr>\n      <th>1</th>\n      <td>mfcc_len5_fft2048_mels128_mfcc17_1000-1499.pkl</td>\n      <td>290</td>\n      <td>305</td>\n    </tr>\n    <tr>\n      <th>2</th>\n      <td>mfcc_len5_fft2048_mels128_mfcc17_10000-10499.pkl</td>\n      <td>148</td>\n      <td>487</td>\n    </tr>\n    <tr>\n      <th>3</th>\n      <td>mfcc_len5_fft2048_mels128_mfcc17_10500-10999.pkl</td>\n      <td>20</td>\n      <td>365</td>\n    </tr>\n    <tr>\n      <th>4</th>\n      <td>mfcc_len5_fft2048_mels128_mfcc17_11000-11499.pkl</td>\n      <td>200</td>\n      <td>457</td>\n    </tr>\n    <tr>\n      <th>...</th>\n      <td>...</td>\n      <td>...</td>\n      <td>...</td>\n    </tr>\n    <tr>\n      <th>88</th>\n      <td>mfcc_len5_fft2048_mels128_mfcc17_7000-7499.pkl</td>\n      <td>42</td>\n      <td>347</td>\n    </tr>\n    <tr>\n      <th>89</th>\n      <td>mfcc_len5_fft2048_mels128_mfcc17_7500-7999.pkl</td>\n      <td>138</td>\n      <td>265</td>\n    </tr>\n    <tr>\n      <th>90</th>\n      <td>mfcc_len5_fft2048_mels128_mfcc17_8000-8499.pkl</td>\n      <td>494</td>\n      <td>499</td>\n    </tr>\n    <tr>\n      <th>91</th>\n      <td>mfcc_len5_fft2048_mels128_mfcc17_8500-8999.pkl</td>\n      <td>0</td>\n      <td>441</td>\n    </tr>\n    <tr>\n      <th>92</th>\n      <td>mfcc_len5_fft2048_mels128_mfcc17_9500-9999.pkl</td>\n      <td>52</td>\n      <td>349</td>\n    </tr>\n  </tbody>\n</table>\n<p>93 rows × 3 columns</p>\n</div>"
     },
     "execution_count": 117,
     "metadata": {},
     "output_type": "execute_result"
    }
   ],
   "source": [
    "# group by pkl_filename get min and mac values of file_index\n",
    "tmp = df_index_train_sub.groupby('pkl_filename').agg({'file_index': ['min', 'max']})\n",
    "tmp.columns = ['min', 'max']\n",
    "tmp = tmp.reset_index()\n",
    "tmp"
   ],
   "metadata": {
    "collapsed": false
   }
  },
  {
   "cell_type": "code",
   "execution_count": 143,
   "outputs": [],
   "source": [
    "X_ls = []\n",
    "for index, row in tmp.iterrows():\n",
    "    filename = row['pkl_filename']\n",
    "    min_index = row['min']\n",
    "    max_index = row['max']\n",
    "    x = load_pickle(os.path.join(TRAIN_DIR, filename))\n",
    "    x = x[min_index:max_index+1]\n",
    "    X_ls.append(x)\n",
    "\n",
    "X = np.concatenate(X_ls, axis=0)\n"
   ],
   "metadata": {
    "collapsed": false
   }
  },
  {
   "cell_type": "code",
   "execution_count": 144,
   "outputs": [
    {
     "data": {
      "text/plain": "(19150, 17, 216)"
     },
     "execution_count": 144,
     "metadata": {},
     "output_type": "execute_result"
    }
   ],
   "source": [
    "X.shape"
   ],
   "metadata": {
    "collapsed": false
   }
  },
  {
   "cell_type": "code",
   "execution_count": 138,
   "outputs": [
    {
     "data": {
      "text/plain": "(16, 17, 216)"
     },
     "execution_count": 138,
     "metadata": {},
     "output_type": "execute_result"
    }
   ],
   "source": [
    "X[446:461+1].shape"
   ],
   "metadata": {
    "collapsed": false
   }
  },
  {
   "cell_type": "code",
   "execution_count": 98,
   "outputs": [
    {
     "name": "stderr",
     "output_type": "stream",
     "text": [
      "100%|██████████| 100/100 [00:00<00:00, 234.61it/s]\n"
     ]
    },
    {
     "name": "stdout",
     "output_type": "stream",
     "text": [
      "Original shape:  (49664, 17, 216)\n",
      "Subset shape:  (3840, 17, 216)\n"
     ]
    }
   ],
   "source": [
    "X = load_train(TRAIN_DIR, os.listdir(TRAIN_DIR))\n",
    "print(\"Original shape: \", X.shape)\n",
    "\n",
    "# subset by file_index in df_index_train_sub\n",
    "X = X[df_index_train_sub['file_index'].values]\n",
    "print(\"Subset shape: \", X.shape)"
   ],
   "metadata": {
    "collapsed": false
   }
  },
  {
   "cell_type": "code",
   "execution_count": 101,
   "outputs": [
    {
     "data": {
      "text/plain": "array([  0,   0,   0, ..., 499, 499, 499])"
     },
     "execution_count": 101,
     "metadata": {},
     "output_type": "execute_result"
    }
   ],
   "source": [
    "df_index_train_sub['file_index'].values"
   ],
   "metadata": {
    "collapsed": false
   }
  },
  {
   "cell_type": "code",
   "execution_count": 4,
   "outputs": [
    {
     "data": {
      "text/plain": "(500, 17, 216)"
     },
     "execution_count": 4,
     "metadata": {},
     "output_type": "execute_result"
    }
   ],
   "source": [
    "\n",
    "tmp = load_pickle(TRAIN_DIR+files[5])\n",
    "tmp.shape\n"
   ],
   "metadata": {
    "collapsed": false
   }
  },
  {
   "cell_type": "code",
   "execution_count": 301,
   "outputs": [],
   "source": [
    "from util import *\n",
    "import pandas as pd\n",
    "from pathlib import Path\n",
    "\n",
    "FILE_DIR = Path(DATA_ADDRESS) / \"VOiCES_devkit\"\n",
    "TRAIN_DIR = Path(DATA_ADDRESS) / \"preprocessed/train\"\n",
    "INDEX_DIR = Path(DATA_ADDRESS) / \"preprocessed\"\n",
    "\n",
    "def prepare_index_data(path, num_classes=None):\n",
    "    \"\"\"\n",
    "    Prepare the index data\n",
    "    :param path\n",
    "    :param num_classes (optional): specify an integer to add a column to subset the data to randomly selected N\n",
    "    speakers (speakerN (0/1), speakerN_class (0-N-1)\n",
    "    :return: 2 dataframes (df_index_reference, df_files_to_load)\n",
    "    \"\"\"\n",
    "    df_index = pd.read_pickle(path)\n",
    "\n",
    "    # create a column in train for count of speakers repeats\n",
    "    df_index = df_index.merge(df_index.groupby('speaker').size().reset_index\n",
    "                                          (name='n_samples_per_speaker'), on='speaker', how='left')\n",
    "\n",
    "    # select unique speaker-pkl_filename\n",
    "    df_index['pkl_filename'] = df_index['pkl_file_dir'].apply(lambda x: Path(x).name)\n",
    "    df_index_unique = df_index[[\"file_index\", 'speaker', 'pkl_filename', 'n_samples_per_speaker']].drop_duplicates()\n",
    "\n",
    "    # make sure the pkl filenames are loaded in the same order as in df_index_train\n",
    "    df_files_to_load = df_index_unique[[\"pkl_filename\"]].drop_duplicates()\n",
    "    df_files_to_load = df_files_to_load.reset_index().sort_values(by='index').reset_index(drop=True)\n",
    "\n",
    "    df_index_reference = df_index_unique.merge(df_files_to_load, on='pkl_filename',\n",
    "                                                           how='left').sort_values \\\n",
    "        (by=['index', 'file_index']) \\\n",
    "        .reset_index(drop=True)\n",
    "\n",
    "    df_index_reference[\"speaker_full_array_index\"] = np.array(range(len(df_index_reference)))\n",
    "    df_index_reference[\"pkl_filename_index\"] = df_index_reference[\"index\"]\n",
    "    df_index_reference = df_index_reference[['file_index', 'pkl_filename', 'pkl_filename_index',\n",
    "                                             'n_samples_per_speaker', 'speaker',\n",
    "                                             'speaker_full_array_index']]\n",
    "\n",
    "\n",
    "    # prepare labels\n",
    "    speaker_map = {speaker: i for i, speaker in enumerate(df_index_reference[\"speaker\"].unique())}\n",
    "    df_index_reference['speaker_class'] = df_index_reference['speaker'].map(speaker_map)\n",
    "\n",
    "    if num_classes:\n",
    "        speakers = df_index_reference[df_index_reference['n_samples_per_speaker'] == 256]['speaker'].sample(\n",
    "            num_classes, random_state=2024).values\n",
    "\n",
    "        df_index_reference[f\"speaker{num_classes}\"] = df_index_reference['speaker'].apply(\n",
    "            lambda x: 1 if x in speakers else 0)\n",
    "\n",
    "        speaker_map = {speaker: i for i, speaker in enumerate(speakers)}\n",
    "        df_index_reference[f\"speaker{num_classes}_class\"] = df_index_reference['speaker'].map(speaker_map)\n",
    "\n",
    "    return df_index_reference, df_files_to_load\n"
   ],
   "metadata": {
    "collapsed": false
   }
  },
  {
   "cell_type": "code",
   "execution_count": 304,
   "outputs": [
    {
     "data": {
      "text/plain": "       file_index                                      pkl_filename  \\\n0               0        mfcc_len5_fft2048_mels128_mfcc17_0-499.pkl   \n1               1        mfcc_len5_fft2048_mels128_mfcc17_0-499.pkl   \n2               2        mfcc_len5_fft2048_mels128_mfcc17_0-499.pkl   \n3               3        mfcc_len5_fft2048_mels128_mfcc17_0-499.pkl   \n4               4        mfcc_len5_fft2048_mels128_mfcc17_0-499.pkl   \n...           ...                                               ...   \n49659         159  mfcc_len5_fft2048_mels128_mfcc17_49500-49663.pkl   \n49660         160  mfcc_len5_fft2048_mels128_mfcc17_49500-49663.pkl   \n49661         161  mfcc_len5_fft2048_mels128_mfcc17_49500-49663.pkl   \n49662         162  mfcc_len5_fft2048_mels128_mfcc17_49500-49663.pkl   \n49663         163  mfcc_len5_fft2048_mels128_mfcc17_49500-49663.pkl   \n\n       pkl_filename_index  n_samples_per_speaker speaker  \\\n0                       0                    256    1121   \n1                       0                    256    1121   \n2                       0                    256    1121   \n3                       0                    256    1121   \n4                       0                    256    1121   \n...                   ...                    ...     ...   \n49659               49500                    256    2764   \n49660               49500                    256    2764   \n49661               49500                    256    2764   \n49662               49500                    256    2764   \n49663               49500                    256    2764   \n\n       speaker_full_array_index  speaker_class  speaker15  speaker15_class  \n0                             0              0          0              NaN  \n1                             1              0          0              NaN  \n2                             2              0          0              NaN  \n3                             3              0          0              NaN  \n4                             4              0          0              NaN  \n...                         ...            ...        ...              ...  \n49659                     49659             28          0              NaN  \n49660                     49660             28          0              NaN  \n49661                     49661             28          0              NaN  \n49662                     49662             28          0              NaN  \n49663                     49663             28          0              NaN  \n\n[49664 rows x 9 columns]",
      "text/html": "<div>\n<style scoped>\n    .dataframe tbody tr th:only-of-type {\n        vertical-align: middle;\n    }\n\n    .dataframe tbody tr th {\n        vertical-align: top;\n    }\n\n    .dataframe thead th {\n        text-align: right;\n    }\n</style>\n<table border=\"1\" class=\"dataframe\">\n  <thead>\n    <tr style=\"text-align: right;\">\n      <th></th>\n      <th>file_index</th>\n      <th>pkl_filename</th>\n      <th>pkl_filename_index</th>\n      <th>n_samples_per_speaker</th>\n      <th>speaker</th>\n      <th>speaker_full_array_index</th>\n      <th>speaker_class</th>\n      <th>speaker15</th>\n      <th>speaker15_class</th>\n    </tr>\n  </thead>\n  <tbody>\n    <tr>\n      <th>0</th>\n      <td>0</td>\n      <td>mfcc_len5_fft2048_mels128_mfcc17_0-499.pkl</td>\n      <td>0</td>\n      <td>256</td>\n      <td>1121</td>\n      <td>0</td>\n      <td>0</td>\n      <td>0</td>\n      <td>NaN</td>\n    </tr>\n    <tr>\n      <th>1</th>\n      <td>1</td>\n      <td>mfcc_len5_fft2048_mels128_mfcc17_0-499.pkl</td>\n      <td>0</td>\n      <td>256</td>\n      <td>1121</td>\n      <td>1</td>\n      <td>0</td>\n      <td>0</td>\n      <td>NaN</td>\n    </tr>\n    <tr>\n      <th>2</th>\n      <td>2</td>\n      <td>mfcc_len5_fft2048_mels128_mfcc17_0-499.pkl</td>\n      <td>0</td>\n      <td>256</td>\n      <td>1121</td>\n      <td>2</td>\n      <td>0</td>\n      <td>0</td>\n      <td>NaN</td>\n    </tr>\n    <tr>\n      <th>3</th>\n      <td>3</td>\n      <td>mfcc_len5_fft2048_mels128_mfcc17_0-499.pkl</td>\n      <td>0</td>\n      <td>256</td>\n      <td>1121</td>\n      <td>3</td>\n      <td>0</td>\n      <td>0</td>\n      <td>NaN</td>\n    </tr>\n    <tr>\n      <th>4</th>\n      <td>4</td>\n      <td>mfcc_len5_fft2048_mels128_mfcc17_0-499.pkl</td>\n      <td>0</td>\n      <td>256</td>\n      <td>1121</td>\n      <td>4</td>\n      <td>0</td>\n      <td>0</td>\n      <td>NaN</td>\n    </tr>\n    <tr>\n      <th>...</th>\n      <td>...</td>\n      <td>...</td>\n      <td>...</td>\n      <td>...</td>\n      <td>...</td>\n      <td>...</td>\n      <td>...</td>\n      <td>...</td>\n      <td>...</td>\n    </tr>\n    <tr>\n      <th>49659</th>\n      <td>159</td>\n      <td>mfcc_len5_fft2048_mels128_mfcc17_49500-49663.pkl</td>\n      <td>49500</td>\n      <td>256</td>\n      <td>2764</td>\n      <td>49659</td>\n      <td>28</td>\n      <td>0</td>\n      <td>NaN</td>\n    </tr>\n    <tr>\n      <th>49660</th>\n      <td>160</td>\n      <td>mfcc_len5_fft2048_mels128_mfcc17_49500-49663.pkl</td>\n      <td>49500</td>\n      <td>256</td>\n      <td>2764</td>\n      <td>49660</td>\n      <td>28</td>\n      <td>0</td>\n      <td>NaN</td>\n    </tr>\n    <tr>\n      <th>49661</th>\n      <td>161</td>\n      <td>mfcc_len5_fft2048_mels128_mfcc17_49500-49663.pkl</td>\n      <td>49500</td>\n      <td>256</td>\n      <td>2764</td>\n      <td>49661</td>\n      <td>28</td>\n      <td>0</td>\n      <td>NaN</td>\n    </tr>\n    <tr>\n      <th>49662</th>\n      <td>162</td>\n      <td>mfcc_len5_fft2048_mels128_mfcc17_49500-49663.pkl</td>\n      <td>49500</td>\n      <td>256</td>\n      <td>2764</td>\n      <td>49662</td>\n      <td>28</td>\n      <td>0</td>\n      <td>NaN</td>\n    </tr>\n    <tr>\n      <th>49663</th>\n      <td>163</td>\n      <td>mfcc_len5_fft2048_mels128_mfcc17_49500-49663.pkl</td>\n      <td>49500</td>\n      <td>256</td>\n      <td>2764</td>\n      <td>49663</td>\n      <td>28</td>\n      <td>0</td>\n      <td>NaN</td>\n    </tr>\n  </tbody>\n</table>\n<p>49664 rows × 9 columns</p>\n</div>"
     },
     "execution_count": 304,
     "metadata": {},
     "output_type": "execute_result"
    }
   ],
   "source": [
    "df_index_reference, df_files_to_load = prepare_index_data(INDEX_DIR / \"df_index_train.pkl\", 15)\n",
    "df_index_reference"
   ],
   "metadata": {
    "collapsed": false
   }
  },
  {
   "cell_type": "code",
   "execution_count": 321,
   "outputs": [
    {
     "data": {
      "text/plain": "       file_index                                      pkl_filename  \\\n0               0        mfcc_len5_fft2048_mels128_mfcc17_0-499.pkl   \n1               1        mfcc_len5_fft2048_mels128_mfcc17_0-499.pkl   \n2               2        mfcc_len5_fft2048_mels128_mfcc17_0-499.pkl   \n3               3        mfcc_len5_fft2048_mels128_mfcc17_0-499.pkl   \n4               4        mfcc_len5_fft2048_mels128_mfcc17_0-499.pkl   \n...           ...                                               ...   \n49659         159  mfcc_len5_fft2048_mels128_mfcc17_49500-49663.pkl   \n49660         160  mfcc_len5_fft2048_mels128_mfcc17_49500-49663.pkl   \n49661         161  mfcc_len5_fft2048_mels128_mfcc17_49500-49663.pkl   \n49662         162  mfcc_len5_fft2048_mels128_mfcc17_49500-49663.pkl   \n49663         163  mfcc_len5_fft2048_mels128_mfcc17_49500-49663.pkl   \n\n       pkl_filename_index  n_samples_per_speaker speaker  \\\n0                       0                    256    1121   \n1                       0                    256    1121   \n2                       0                    256    1121   \n3                       0                    256    1121   \n4                       0                    256    1121   \n...                   ...                    ...     ...   \n49659               49500                    256    2764   \n49660               49500                    256    2764   \n49661               49500                    256    2764   \n49662               49500                    256    2764   \n49663               49500                    256    2764   \n\n       speaker_full_array_index  speaker_class  speaker15  speaker15_class  \n0                             0              0          0              NaN  \n1                             1              0          0              NaN  \n2                             2              0          0              NaN  \n3                             3              0          0              NaN  \n4                             4              0          0              NaN  \n...                         ...            ...        ...              ...  \n49659                     49659             28          0              NaN  \n49660                     49660             28          0              NaN  \n49661                     49661             28          0              NaN  \n49662                     49662             28          0              NaN  \n49663                     49663             28          0              NaN  \n\n[49664 rows x 9 columns]",
      "text/html": "<div>\n<style scoped>\n    .dataframe tbody tr th:only-of-type {\n        vertical-align: middle;\n    }\n\n    .dataframe tbody tr th {\n        vertical-align: top;\n    }\n\n    .dataframe thead th {\n        text-align: right;\n    }\n</style>\n<table border=\"1\" class=\"dataframe\">\n  <thead>\n    <tr style=\"text-align: right;\">\n      <th></th>\n      <th>file_index</th>\n      <th>pkl_filename</th>\n      <th>pkl_filename_index</th>\n      <th>n_samples_per_speaker</th>\n      <th>speaker</th>\n      <th>speaker_full_array_index</th>\n      <th>speaker_class</th>\n      <th>speaker15</th>\n      <th>speaker15_class</th>\n    </tr>\n  </thead>\n  <tbody>\n    <tr>\n      <th>0</th>\n      <td>0</td>\n      <td>mfcc_len5_fft2048_mels128_mfcc17_0-499.pkl</td>\n      <td>0</td>\n      <td>256</td>\n      <td>1121</td>\n      <td>0</td>\n      <td>0</td>\n      <td>0</td>\n      <td>NaN</td>\n    </tr>\n    <tr>\n      <th>1</th>\n      <td>1</td>\n      <td>mfcc_len5_fft2048_mels128_mfcc17_0-499.pkl</td>\n      <td>0</td>\n      <td>256</td>\n      <td>1121</td>\n      <td>1</td>\n      <td>0</td>\n      <td>0</td>\n      <td>NaN</td>\n    </tr>\n    <tr>\n      <th>2</th>\n      <td>2</td>\n      <td>mfcc_len5_fft2048_mels128_mfcc17_0-499.pkl</td>\n      <td>0</td>\n      <td>256</td>\n      <td>1121</td>\n      <td>2</td>\n      <td>0</td>\n      <td>0</td>\n      <td>NaN</td>\n    </tr>\n    <tr>\n      <th>3</th>\n      <td>3</td>\n      <td>mfcc_len5_fft2048_mels128_mfcc17_0-499.pkl</td>\n      <td>0</td>\n      <td>256</td>\n      <td>1121</td>\n      <td>3</td>\n      <td>0</td>\n      <td>0</td>\n      <td>NaN</td>\n    </tr>\n    <tr>\n      <th>4</th>\n      <td>4</td>\n      <td>mfcc_len5_fft2048_mels128_mfcc17_0-499.pkl</td>\n      <td>0</td>\n      <td>256</td>\n      <td>1121</td>\n      <td>4</td>\n      <td>0</td>\n      <td>0</td>\n      <td>NaN</td>\n    </tr>\n    <tr>\n      <th>...</th>\n      <td>...</td>\n      <td>...</td>\n      <td>...</td>\n      <td>...</td>\n      <td>...</td>\n      <td>...</td>\n      <td>...</td>\n      <td>...</td>\n      <td>...</td>\n    </tr>\n    <tr>\n      <th>49659</th>\n      <td>159</td>\n      <td>mfcc_len5_fft2048_mels128_mfcc17_49500-49663.pkl</td>\n      <td>49500</td>\n      <td>256</td>\n      <td>2764</td>\n      <td>49659</td>\n      <td>28</td>\n      <td>0</td>\n      <td>NaN</td>\n    </tr>\n    <tr>\n      <th>49660</th>\n      <td>160</td>\n      <td>mfcc_len5_fft2048_mels128_mfcc17_49500-49663.pkl</td>\n      <td>49500</td>\n      <td>256</td>\n      <td>2764</td>\n      <td>49660</td>\n      <td>28</td>\n      <td>0</td>\n      <td>NaN</td>\n    </tr>\n    <tr>\n      <th>49661</th>\n      <td>161</td>\n      <td>mfcc_len5_fft2048_mels128_mfcc17_49500-49663.pkl</td>\n      <td>49500</td>\n      <td>256</td>\n      <td>2764</td>\n      <td>49661</td>\n      <td>28</td>\n      <td>0</td>\n      <td>NaN</td>\n    </tr>\n    <tr>\n      <th>49662</th>\n      <td>162</td>\n      <td>mfcc_len5_fft2048_mels128_mfcc17_49500-49663.pkl</td>\n      <td>49500</td>\n      <td>256</td>\n      <td>2764</td>\n      <td>49662</td>\n      <td>28</td>\n      <td>0</td>\n      <td>NaN</td>\n    </tr>\n    <tr>\n      <th>49663</th>\n      <td>163</td>\n      <td>mfcc_len5_fft2048_mels128_mfcc17_49500-49663.pkl</td>\n      <td>49500</td>\n      <td>256</td>\n      <td>2764</td>\n      <td>49663</td>\n      <td>28</td>\n      <td>0</td>\n      <td>NaN</td>\n    </tr>\n  </tbody>\n</table>\n<p>49664 rows × 9 columns</p>\n</div>"
     },
     "execution_count": 321,
     "metadata": {},
     "output_type": "execute_result"
    }
   ],
   "source": [
    "df_index_reference"
   ],
   "metadata": {
    "collapsed": false
   }
  },
  {
   "cell_type": "code",
   "execution_count": 309,
   "outputs": [],
   "source": [
    "# subset to speaker15=1 and make sure its sorted by how files will be loaded\n",
    "df_index_reference_sub = df_index_reference[df_index_reference['speaker15']==1].sort_values(by=[\"pkl_filename_index\",\n",
    "                                                                                   \"pkl_filename\"])"
   ],
   "metadata": {
    "collapsed": false
   }
  },
  {
   "cell_type": "code",
   "execution_count": 313,
   "outputs": [
    {
     "data": {
      "text/plain": "       file_index                                      pkl_filename  \\\n446           446        mfcc_len5_fft2048_mels128_mfcc17_0-499.pkl   \n447           447        mfcc_len5_fft2048_mels128_mfcc17_0-499.pkl   \n448           448        mfcc_len5_fft2048_mels128_mfcc17_0-499.pkl   \n449           449        mfcc_len5_fft2048_mels128_mfcc17_0-499.pkl   \n450           450        mfcc_len5_fft2048_mels128_mfcc17_0-499.pkl   \n...           ...                                               ...   \n49231         231  mfcc_len5_fft2048_mels128_mfcc17_49000-49499.pkl   \n49232         232  mfcc_len5_fft2048_mels128_mfcc17_49000-49499.pkl   \n49233         233  mfcc_len5_fft2048_mels128_mfcc17_49000-49499.pkl   \n49234         234  mfcc_len5_fft2048_mels128_mfcc17_49000-49499.pkl   \n49235         235  mfcc_len5_fft2048_mels128_mfcc17_49000-49499.pkl   \n\n       pkl_filename_index  n_samples_per_speaker speaker  \\\n446                     0                    256    3521   \n447                     0                    256    3521   \n448                     0                    256    3521   \n449                     0                    256    3521   \n450                     0                    256    3521   \n...                   ...                    ...     ...   \n49231               49000                    256    5968   \n49232               49000                    256    5968   \n49233               49000                    256    5968   \n49234               49000                    256    5968   \n49235               49000                    256    5968   \n\n       speaker_full_array_index  speaker_class  speaker15  speaker15_class  \n446                         446             27          1             10.0  \n447                         447             27          1             10.0  \n448                         448             27          1             10.0  \n449                         449             27          1             10.0  \n450                         450             27          1             10.0  \n...                         ...            ...        ...              ...  \n49231                     49231             78          1              3.0  \n49232                     49232             78          1              3.0  \n49233                     49233             78          1              3.0  \n49234                     49234             78          1              3.0  \n49235                     49235             78          1              3.0  \n\n[3840 rows x 9 columns]",
      "text/html": "<div>\n<style scoped>\n    .dataframe tbody tr th:only-of-type {\n        vertical-align: middle;\n    }\n\n    .dataframe tbody tr th {\n        vertical-align: top;\n    }\n\n    .dataframe thead th {\n        text-align: right;\n    }\n</style>\n<table border=\"1\" class=\"dataframe\">\n  <thead>\n    <tr style=\"text-align: right;\">\n      <th></th>\n      <th>file_index</th>\n      <th>pkl_filename</th>\n      <th>pkl_filename_index</th>\n      <th>n_samples_per_speaker</th>\n      <th>speaker</th>\n      <th>speaker_full_array_index</th>\n      <th>speaker_class</th>\n      <th>speaker15</th>\n      <th>speaker15_class</th>\n    </tr>\n  </thead>\n  <tbody>\n    <tr>\n      <th>446</th>\n      <td>446</td>\n      <td>mfcc_len5_fft2048_mels128_mfcc17_0-499.pkl</td>\n      <td>0</td>\n      <td>256</td>\n      <td>3521</td>\n      <td>446</td>\n      <td>27</td>\n      <td>1</td>\n      <td>10.0</td>\n    </tr>\n    <tr>\n      <th>447</th>\n      <td>447</td>\n      <td>mfcc_len5_fft2048_mels128_mfcc17_0-499.pkl</td>\n      <td>0</td>\n      <td>256</td>\n      <td>3521</td>\n      <td>447</td>\n      <td>27</td>\n      <td>1</td>\n      <td>10.0</td>\n    </tr>\n    <tr>\n      <th>448</th>\n      <td>448</td>\n      <td>mfcc_len5_fft2048_mels128_mfcc17_0-499.pkl</td>\n      <td>0</td>\n      <td>256</td>\n      <td>3521</td>\n      <td>448</td>\n      <td>27</td>\n      <td>1</td>\n      <td>10.0</td>\n    </tr>\n    <tr>\n      <th>449</th>\n      <td>449</td>\n      <td>mfcc_len5_fft2048_mels128_mfcc17_0-499.pkl</td>\n      <td>0</td>\n      <td>256</td>\n      <td>3521</td>\n      <td>449</td>\n      <td>27</td>\n      <td>1</td>\n      <td>10.0</td>\n    </tr>\n    <tr>\n      <th>450</th>\n      <td>450</td>\n      <td>mfcc_len5_fft2048_mels128_mfcc17_0-499.pkl</td>\n      <td>0</td>\n      <td>256</td>\n      <td>3521</td>\n      <td>450</td>\n      <td>27</td>\n      <td>1</td>\n      <td>10.0</td>\n    </tr>\n    <tr>\n      <th>...</th>\n      <td>...</td>\n      <td>...</td>\n      <td>...</td>\n      <td>...</td>\n      <td>...</td>\n      <td>...</td>\n      <td>...</td>\n      <td>...</td>\n      <td>...</td>\n    </tr>\n    <tr>\n      <th>49231</th>\n      <td>231</td>\n      <td>mfcc_len5_fft2048_mels128_mfcc17_49000-49499.pkl</td>\n      <td>49000</td>\n      <td>256</td>\n      <td>5968</td>\n      <td>49231</td>\n      <td>78</td>\n      <td>1</td>\n      <td>3.0</td>\n    </tr>\n    <tr>\n      <th>49232</th>\n      <td>232</td>\n      <td>mfcc_len5_fft2048_mels128_mfcc17_49000-49499.pkl</td>\n      <td>49000</td>\n      <td>256</td>\n      <td>5968</td>\n      <td>49232</td>\n      <td>78</td>\n      <td>1</td>\n      <td>3.0</td>\n    </tr>\n    <tr>\n      <th>49233</th>\n      <td>233</td>\n      <td>mfcc_len5_fft2048_mels128_mfcc17_49000-49499.pkl</td>\n      <td>49000</td>\n      <td>256</td>\n      <td>5968</td>\n      <td>49233</td>\n      <td>78</td>\n      <td>1</td>\n      <td>3.0</td>\n    </tr>\n    <tr>\n      <th>49234</th>\n      <td>234</td>\n      <td>mfcc_len5_fft2048_mels128_mfcc17_49000-49499.pkl</td>\n      <td>49000</td>\n      <td>256</td>\n      <td>5968</td>\n      <td>49234</td>\n      <td>78</td>\n      <td>1</td>\n      <td>3.0</td>\n    </tr>\n    <tr>\n      <th>49235</th>\n      <td>235</td>\n      <td>mfcc_len5_fft2048_mels128_mfcc17_49000-49499.pkl</td>\n      <td>49000</td>\n      <td>256</td>\n      <td>5968</td>\n      <td>49235</td>\n      <td>78</td>\n      <td>1</td>\n      <td>3.0</td>\n    </tr>\n  </tbody>\n</table>\n<p>3840 rows × 9 columns</p>\n</div>"
     },
     "execution_count": 313,
     "metadata": {},
     "output_type": "execute_result"
    }
   ],
   "source": [
    "df_index_reference_sub"
   ],
   "metadata": {
    "collapsed": false
   }
  },
  {
   "cell_type": "code",
   "execution_count": 318,
   "outputs": [
    {
     "data": {
      "text/plain": "(3840,)"
     },
     "execution_count": 318,
     "metadata": {},
     "output_type": "execute_result"
    }
   ],
   "source": [
    "# get speaker labels\n",
    "labels = df_index_reference_sub[\"speaker\"].values\n",
    "y = df_index_reference_sub[f\"speaker{num_classes}_class\"].values\n",
    "# get speaker classes\n",
    "# df_index_reference_sub[\"speaker15_class\"].unique()"
   ],
   "metadata": {
    "collapsed": false
   }
  },
  {
   "cell_type": "code",
   "execution_count": 320,
   "outputs": [
    {
     "data": {
      "text/plain": "(3840, 17, 216)"
     },
     "execution_count": 320,
     "metadata": {},
     "output_type": "execute_result"
    }
   ],
   "source": [
    "# slice X by speaker_full_array_index\n",
    "X_sub = X[df_index_reference_sub[\"speaker_full_array_index\"].values]\n",
    "X_sub.shape"
   ],
   "metadata": {
    "collapsed": false
   }
  },
  {
   "cell_type": "code",
   "execution_count": 5,
   "outputs": [],
   "source": [
    "import librosa\n",
    "signal, sr = librosa.load(\"/Users/m243289/Documents/Drexel/Drexel2023/DSCI591/DSCI_Capstone/data/VOiCES_devkit/distant\"\n",
    "                        \"-16k\"\n",
    "             \"/distractors/rm1/babb/Lab41-SRI-VOiCES-rm1-babb-mc01-stu-clo.wav\")"
   ],
   "metadata": {
    "collapsed": false
   }
  },
  {
   "cell_type": "code",
   "execution_count": 6,
   "outputs": [
    {
     "data": {
      "text/plain": "<librosa.display.AdaptiveWaveplot at 0x12ecf8b50>"
     },
     "execution_count": 6,
     "metadata": {},
     "output_type": "execute_result"
    },
    {
     "data": {
      "text/plain": "<Figure size 640x480 with 1 Axes>",
      "image/png": "[encoded data removed]"
     },
     "metadata": {},
     "output_type": "display_data"
    }
   ],
   "source": [
    "librosa.display.waveshow(signal, sr=sr)"
   ],
   "metadata": {
    "collapsed": false
   }
  },
  {
   "cell_type": "code",
   "execution_count": 7,
   "outputs": [
    {
     "name": "stdout",
     "output_type": "stream",
     "text": [
      "22050\n",
      "(500, 17, 216)\n"
     ]
    },
    {
     "data": {
      "text/plain": "<matplotlib.collections.QuadMesh at 0x12eecfad0>"
     },
     "execution_count": 7,
     "metadata": {},
     "output_type": "execute_result"
    },
    {
     "data": {
      "text/plain": "<Figure size 640x480 with 1 Axes>",
      "image/png": "[encoded data removed]"
     },
     "metadata": {},
     "output_type": "display_data"
    }
   ],
   "source": [
    "# display MFCC tmp data with librosa\n",
    "import librosa.display\n",
    "import matplotlib.pyplot as plt\n",
    "print(sr)\n",
    "print(tmp.shape)\n",
    "librosa.display.specshow(tmp[400, :, :])"
   ],
   "metadata": {
    "collapsed": false
   }
  },
  {
   "cell_type": "code",
   "execution_count": 8,
   "outputs": [],
   "source": [
    "# labels\n",
    "import pandas as pd\n",
    "df = pd.read_pickle(DATA_ADDRESS+\"preprocessed/df_5s.pkl\")\n",
    "df[df['category']=='train']"
   ],
   "metadata": {
    "collapsed": false
   }
  },
  {
   "cell_type": "code",
   "execution_count": 9,
   "outputs": [
    {
     "name": "stdout",
     "output_type": "stream",
     "text": [
      "['5154' '5583' '5678' '3835' '5319' '0248' '1121' '0254' '1970' '0479'\n",
      " '6319' '0459' '7688' '4744' '0288']\n"
     ]
    },
    {
     "name": "stderr",
     "output_type": "stream",
     "text": [
      "/var/folders/gx/htb5vl916_j820n434lbd_2dzp39cq/T/ipykernel_14307/955314621.py:11: SettingWithCopyWarning: \n",
      "A value is trying to be set on a copy of a slice from a DataFrame.\n",
      "Try using .loc[row_indexer,col_indexer] = value instead\n",
      "\n",
      "See the caveats in the documentation: https://pandas.pydata.org/pandas-docs/stable/user_guide/indexing.html#returning-a-view-versus-a-copy\n",
      "  df_sub['label'] = df_sub['speaker'].map(speaker_to_id)\n"
     ]
    },
    {
     "data": {
      "text/plain": "                                  origin_folder speaker distractor room  \\\n494    distant-16k/speech/train/rm2/babb/sp7688    7688       babb  rm2   \n495    distant-16k/speech/train/rm2/babb/sp7688    7688       babb  rm2   \n496    distant-16k/speech/train/rm2/babb/sp7688    7688       babb  rm2   \n497    distant-16k/speech/train/rm2/babb/sp7688    7688       babb  rm2   \n498    distant-16k/speech/train/rm2/babb/sp7688    7688       babb  rm2   \n...                                         ...     ...        ...  ...   \n73869  distant-16k/speech/train/rm1/tele/sp0479    0479       tele  rm1   \n73870  distant-16k/speech/train/rm1/tele/sp0479    0479       tele  rm1   \n73871  distant-16k/speech/train/rm1/tele/sp0479    0479       tele  rm1   \n73872  distant-16k/speech/train/rm1/tele/sp0479    0479       tele  rm1   \n73873  distant-16k/speech/train/rm1/tele/sp0479    0479       tele  rm1   \n\n      category                                           filename  label  \n494      train  5seconds-16k/speech/train/rm2/babb/sp7688/Lab4...     12  \n495      train  5seconds-16k/speech/train/rm2/babb/sp7688/Lab4...     12  \n496      train  5seconds-16k/speech/train/rm2/babb/sp7688/Lab4...     12  \n497      train  5seconds-16k/speech/train/rm2/babb/sp7688/Lab4...     12  \n498      train  5seconds-16k/speech/train/rm2/babb/sp7688/Lab4...     12  \n...        ...                                                ...    ...  \n73869    train  5seconds-16k/speech/train/rm1/tele/sp0479/Lab4...      9  \n73870    train  5seconds-16k/speech/train/rm1/tele/sp0479/Lab4...      9  \n73871    train  5seconds-16k/speech/train/rm1/tele/sp0479/Lab4...      9  \n73872    train  5seconds-16k/speech/train/rm1/tele/sp0479/Lab4...      9  \n73873    train  5seconds-16k/speech/train/rm1/tele/sp0479/Lab4...      9  \n\n[3680 rows x 7 columns]",
      "text/html": "<div>\n<style scoped>\n    .dataframe tbody tr th:only-of-type {\n        vertical-align: middle;\n    }\n\n    .dataframe tbody tr th {\n        vertical-align: top;\n    }\n\n    .dataframe thead th {\n        text-align: right;\n    }\n</style>\n<table border=\"1\" class=\"dataframe\">\n  <thead>\n    <tr style=\"text-align: right;\">\n      <th></th>\n      <th>origin_folder</th>\n      <th>speaker</th>\n      <th>distractor</th>\n      <th>room</th>\n      <th>category</th>\n      <th>filename</th>\n      <th>label</th>\n    </tr>\n  </thead>\n  <tbody>\n    <tr>\n      <th>494</th>\n      <td>distant-16k/speech/train/rm2/babb/sp7688</td>\n      <td>7688</td>\n      <td>babb</td>\n      <td>rm2</td>\n      <td>train</td>\n      <td>5seconds-16k/speech/train/rm2/babb/sp7688/Lab4...</td>\n      <td>12</td>\n    </tr>\n    <tr>\n      <th>495</th>\n      <td>distant-16k/speech/train/rm2/babb/sp7688</td>\n      <td>7688</td>\n      <td>babb</td>\n      <td>rm2</td>\n      <td>train</td>\n      <td>5seconds-16k/speech/train/rm2/babb/sp7688/Lab4...</td>\n      <td>12</td>\n    </tr>\n    <tr>\n      <th>496</th>\n      <td>distant-16k/speech/train/rm2/babb/sp7688</td>\n      <td>7688</td>\n      <td>babb</td>\n      <td>rm2</td>\n      <td>train</td>\n      <td>5seconds-16k/speech/train/rm2/babb/sp7688/Lab4...</td>\n      <td>12</td>\n    </tr>\n    <tr>\n      <th>497</th>\n      <td>distant-16k/speech/train/rm2/babb/sp7688</td>\n      <td>7688</td>\n      <td>babb</td>\n      <td>rm2</td>\n      <td>train</td>\n      <td>5seconds-16k/speech/train/rm2/babb/sp7688/Lab4...</td>\n      <td>12</td>\n    </tr>\n    <tr>\n      <th>498</th>\n      <td>distant-16k/speech/train/rm2/babb/sp7688</td>\n      <td>7688</td>\n      <td>babb</td>\n      <td>rm2</td>\n      <td>train</td>\n      <td>5seconds-16k/speech/train/rm2/babb/sp7688/Lab4...</td>\n      <td>12</td>\n    </tr>\n    <tr>\n      <th>...</th>\n      <td>...</td>\n      <td>...</td>\n      <td>...</td>\n      <td>...</td>\n      <td>...</td>\n      <td>...</td>\n      <td>...</td>\n    </tr>\n    <tr>\n      <th>73869</th>\n      <td>distant-16k/speech/train/rm1/tele/sp0479</td>\n      <td>0479</td>\n      <td>tele</td>\n      <td>rm1</td>\n      <td>train</td>\n      <td>5seconds-16k/speech/train/rm1/tele/sp0479/Lab4...</td>\n      <td>9</td>\n    </tr>\n    <tr>\n      <th>73870</th>\n      <td>distant-16k/speech/train/rm1/tele/sp0479</td>\n      <td>0479</td>\n      <td>tele</td>\n      <td>rm1</td>\n      <td>train</td>\n      <td>5seconds-16k/speech/train/rm1/tele/sp0479/Lab4...</td>\n      <td>9</td>\n    </tr>\n    <tr>\n      <th>73871</th>\n      <td>distant-16k/speech/train/rm1/tele/sp0479</td>\n      <td>0479</td>\n      <td>tele</td>\n      <td>rm1</td>\n      <td>train</td>\n      <td>5seconds-16k/speech/train/rm1/tele/sp0479/Lab4...</td>\n      <td>9</td>\n    </tr>\n    <tr>\n      <th>73872</th>\n      <td>distant-16k/speech/train/rm1/tele/sp0479</td>\n      <td>0479</td>\n      <td>tele</td>\n      <td>rm1</td>\n      <td>train</td>\n      <td>5seconds-16k/speech/train/rm1/tele/sp0479/Lab4...</td>\n      <td>9</td>\n    </tr>\n    <tr>\n      <th>73873</th>\n      <td>distant-16k/speech/train/rm1/tele/sp0479</td>\n      <td>0479</td>\n      <td>tele</td>\n      <td>rm1</td>\n      <td>train</td>\n      <td>5seconds-16k/speech/train/rm1/tele/sp0479/Lab4...</td>\n      <td>9</td>\n    </tr>\n  </tbody>\n</table>\n<p>3680 rows × 7 columns</p>\n</div>"
     },
     "execution_count": 9,
     "metadata": {},
     "output_type": "execute_result"
    }
   ],
   "source": [],
   "metadata": {
    "collapsed": false
   }
  },
  {
   "cell_type": "code",
   "execution_count": 10,
   "outputs": [],
   "source": [
    "# Random seeds\n",
    "torch.manual_seed(42)\n",
    "random.seed(42)\n",
    "np.random.seed(42)\n",
    "\n",
    "# Device\n",
    "device = torch.device(\"cuda:0\" if torch.cuda.is_available() else \"cpu\")\n",
    "\n",
    "# Hyperparameters\n",
    "random_seed = 1\n",
    "learning_rate = 0.05\n",
    "num_epochs = 10\n",
    "batch_size = 32#640\n",
    "\n",
    "# Architecture\n",
    "num_classes = 200"
   ],
   "metadata": {
    "collapsed": false
   }
  },
  {
   "cell_type": "code",
   "execution_count": 12,
   "outputs": [],
   "source": [
    "X = load_train(TRAIN_DIR, os.listdir(TRAIN_DIR))\n",
    "X.shape"
   ],
   "metadata": {
    "collapsed": false
   }
  },
  {
   "cell_type": "code",
   "execution_count": 13,
   "outputs": [
    {
     "name": "stderr",
     "output_type": "stream",
     "text": [
      "100%|██████████| 10/10 [00:00<00:00, 82.32it/s]\n"
     ]
    },
    {
     "data": {
      "text/plain": "(5000, 17, 216)"
     },
     "execution_count": 13,
     "metadata": {},
     "output_type": "execute_result"
    }
   ],
   "source": [
    "y = np.array(df[df['category']=='train']['speaker']).astype('int')\n",
    "y = y[:X.shape[0]]"
   ],
   "metadata": {
    "collapsed": false
   }
  },
  {
   "cell_type": "code",
   "execution_count": 20,
   "outputs": [],
   "source": [
    "# load model with torch\n",
    "import torch\n",
    "tmp = torch.load(\"results/basecnn_15/model.pt\")"
   ],
   "metadata": {
    "collapsed": false
   }
  },
  {
   "cell_type": "code",
   "execution_count": 26,
   "outputs": [
    {
     "name": "stderr",
     "output_type": "stream",
     "text": [
      "100it [00:00, 135.66it/s]\n"
     ]
    },
    {
     "name": "stdout",
     "output_type": "stream",
     "text": [
      "X shape: (3840, 17, 216)\n",
      "y shape: (3840,)\n",
      "labels shape: (3840,)\n",
      "=====================================\n",
      "Number of unique speakers: 15\n",
      "Number of unique classes: 15\n",
      "Unique classes: [ 0.  1.  2.  3.  4.  5.  6.  7.  8.  9. 10. 11. 12. 13. 14.]\n"
     ]
    }
   ],
   "source": [
    "from data_prepare import *\n",
    "data = DataPrep(\"data/preprocessed/train\",\"data/preprocessed/df_index_train.pkl\", 15)\n",
    "data.load()\n",
    "data.get_data_info()\n",
    "X, y, labels = data.get_data(labels=True)"
   ],
   "metadata": {
    "collapsed": false
   }
  },
  {
   "cell_type": "code",
   "execution_count": 28,
   "outputs": [
    {
     "data": {
      "text/plain": "array(['3521', '3521', '3521', ..., '5968', '5968', '5968'], dtype=object)"
     },
     "execution_count": 28,
     "metadata": {},
     "output_type": "execute_result"
    }
   ],
   "source": [
    "labels"
   ],
   "metadata": {
    "collapsed": false
   }
  },
  {
   "cell_type": "code",
   "execution_count": 29,
   "outputs": [
    {
     "name": "stderr",
     "output_type": "stream",
     "text": [
      "100it [00:00, 141.88it/s]\n"
     ]
    }
   ],
   "source": [
    "from util import DATA_ADDRESS\n",
    "\n",
    "TRAIN_DIR = Path(DATA_ADDRESS) / \"preprocessed/train\"\n",
    "INDEX_PATH = Path(DATA_ADDRESS) / \"preprocessed/df_index_train.pkl\"\n",
    "\n",
    "data = DataPrep(TRAIN_DIR, INDEX_PATH, 15)\n",
    "data.load()\n"
   ],
   "metadata": {
    "collapsed": false
   }
  },
  {
   "cell_type": "code",
   "execution_count": 30,
   "outputs": [
    {
     "data": {
      "text/plain": "       file_index                                      pkl_filename  \\\n446           446        mfcc_len5_fft2048_mels128_mfcc17_0-499.pkl   \n447           447        mfcc_len5_fft2048_mels128_mfcc17_0-499.pkl   \n448           448        mfcc_len5_fft2048_mels128_mfcc17_0-499.pkl   \n449           449        mfcc_len5_fft2048_mels128_mfcc17_0-499.pkl   \n450           450        mfcc_len5_fft2048_mels128_mfcc17_0-499.pkl   \n...           ...                                               ...   \n49231         231  mfcc_len5_fft2048_mels128_mfcc17_49000-49499.pkl   \n49232         232  mfcc_len5_fft2048_mels128_mfcc17_49000-49499.pkl   \n49233         233  mfcc_len5_fft2048_mels128_mfcc17_49000-49499.pkl   \n49234         234  mfcc_len5_fft2048_mels128_mfcc17_49000-49499.pkl   \n49235         235  mfcc_len5_fft2048_mels128_mfcc17_49000-49499.pkl   \n\n       pkl_filename_index  n_samples_per_speaker speaker  \\\n446                     0                    256    3521   \n447                     0                    256    3521   \n448                     0                    256    3521   \n449                     0                    256    3521   \n450                     0                    256    3521   \n...                   ...                    ...     ...   \n49231               49000                    256    5968   \n49232               49000                    256    5968   \n49233               49000                    256    5968   \n49234               49000                    256    5968   \n49235               49000                    256    5968   \n\n       speaker_full_array_index  speaker_class  speaker15  speaker15_class  \n446                         446             27          1             10.0  \n447                         447             27          1             10.0  \n448                         448             27          1             10.0  \n449                         449             27          1             10.0  \n450                         450             27          1             10.0  \n...                         ...            ...        ...              ...  \n49231                     49231             78          1              3.0  \n49232                     49232             78          1              3.0  \n49233                     49233             78          1              3.0  \n49234                     49234             78          1              3.0  \n49235                     49235             78          1              3.0  \n\n[3840 rows x 9 columns]",
      "text/html": "<div>\n<style scoped>\n    .dataframe tbody tr th:only-of-type {\n        vertical-align: middle;\n    }\n\n    .dataframe tbody tr th {\n        vertical-align: top;\n    }\n\n    .dataframe thead th {\n        text-align: right;\n    }\n</style>\n<table border=\"1\" class=\"dataframe\">\n  <thead>\n    <tr style=\"text-align: right;\">\n      <th></th>\n      <th>file_index</th>\n      <th>pkl_filename</th>\n      <th>pkl_filename_index</th>\n      <th>n_samples_per_speaker</th>\n      <th>speaker</th>\n      <th>speaker_full_array_index</th>\n      <th>speaker_class</th>\n      <th>speaker15</th>\n      <th>speaker15_class</th>\n    </tr>\n  </thead>\n  <tbody>\n    <tr>\n      <th>446</th>\n      <td>446</td>\n      <td>mfcc_len5_fft2048_mels128_mfcc17_0-499.pkl</td>\n      <td>0</td>\n      <td>256</td>\n      <td>3521</td>\n      <td>446</td>\n      <td>27</td>\n      <td>1</td>\n      <td>10.0</td>\n    </tr>\n    <tr>\n      <th>447</th>\n      <td>447</td>\n      <td>mfcc_len5_fft2048_mels128_mfcc17_0-499.pkl</td>\n      <td>0</td>\n      <td>256</td>\n      <td>3521</td>\n      <td>447</td>\n      <td>27</td>\n      <td>1</td>\n      <td>10.0</td>\n    </tr>\n    <tr>\n      <th>448</th>\n      <td>448</td>\n      <td>mfcc_len5_fft2048_mels128_mfcc17_0-499.pkl</td>\n      <td>0</td>\n      <td>256</td>\n      <td>3521</td>\n      <td>448</td>\n      <td>27</td>\n      <td>1</td>\n      <td>10.0</td>\n    </tr>\n    <tr>\n      <th>449</th>\n      <td>449</td>\n      <td>mfcc_len5_fft2048_mels128_mfcc17_0-499.pkl</td>\n      <td>0</td>\n      <td>256</td>\n      <td>3521</td>\n      <td>449</td>\n      <td>27</td>\n      <td>1</td>\n      <td>10.0</td>\n    </tr>\n    <tr>\n      <th>450</th>\n      <td>450</td>\n      <td>mfcc_len5_fft2048_mels128_mfcc17_0-499.pkl</td>\n      <td>0</td>\n      <td>256</td>\n      <td>3521</td>\n      <td>450</td>\n      <td>27</td>\n      <td>1</td>\n      <td>10.0</td>\n    </tr>\n    <tr>\n      <th>...</th>\n      <td>...</td>\n      <td>...</td>\n      <td>...</td>\n      <td>...</td>\n      <td>...</td>\n      <td>...</td>\n      <td>...</td>\n      <td>...</td>\n      <td>...</td>\n    </tr>\n    <tr>\n      <th>49231</th>\n      <td>231</td>\n      <td>mfcc_len5_fft2048_mels128_mfcc17_49000-49499.pkl</td>\n      <td>49000</td>\n      <td>256</td>\n      <td>5968</td>\n      <td>49231</td>\n      <td>78</td>\n      <td>1</td>\n      <td>3.0</td>\n    </tr>\n    <tr>\n      <th>49232</th>\n      <td>232</td>\n      <td>mfcc_len5_fft2048_mels128_mfcc17_49000-49499.pkl</td>\n      <td>49000</td>\n      <td>256</td>\n      <td>5968</td>\n      <td>49232</td>\n      <td>78</td>\n      <td>1</td>\n      <td>3.0</td>\n    </tr>\n    <tr>\n      <th>49233</th>\n      <td>233</td>\n      <td>mfcc_len5_fft2048_mels128_mfcc17_49000-49499.pkl</td>\n      <td>49000</td>\n      <td>256</td>\n      <td>5968</td>\n      <td>49233</td>\n      <td>78</td>\n      <td>1</td>\n      <td>3.0</td>\n    </tr>\n    <tr>\n      <th>49234</th>\n      <td>234</td>\n      <td>mfcc_len5_fft2048_mels128_mfcc17_49000-49499.pkl</td>\n      <td>49000</td>\n      <td>256</td>\n      <td>5968</td>\n      <td>49234</td>\n      <td>78</td>\n      <td>1</td>\n      <td>3.0</td>\n    </tr>\n    <tr>\n      <th>49235</th>\n      <td>235</td>\n      <td>mfcc_len5_fft2048_mels128_mfcc17_49000-49499.pkl</td>\n      <td>49000</td>\n      <td>256</td>\n      <td>5968</td>\n      <td>49235</td>\n      <td>78</td>\n      <td>1</td>\n      <td>3.0</td>\n    </tr>\n  </tbody>\n</table>\n<p>3840 rows × 9 columns</p>\n</div>"
     },
     "execution_count": 30,
     "metadata": {},
     "output_type": "execute_result"
    }
   ],
   "source": [
    "data.df_index_reference"
   ],
   "metadata": {
    "collapsed": false
   }
  },
  {
   "cell_type": "code",
   "execution_count": 1,
   "outputs": [],
   "source": [
    "from util import *\n",
    "import torch\n",
    "preds, truths = load_pickle(\"results/basecnn15/predictions.pkl\")"
   ],
   "metadata": {
    "collapsed": false
   }
  },
  {
   "cell_type": "code",
   "execution_count": 2,
   "outputs": [],
   "source": [
    "model_set = torch.load(\"results/basecnn15/model.pt\")\n",
    "model = model_set[\"model\"]"
   ],
   "metadata": {
    "collapsed": false
   }
  },
  {
   "cell_type": "code",
   "execution_count": 4,
   "outputs": [
    {
     "name": "stderr",
     "output_type": "stream",
     "text": [
      "120it [00:00, 161.17it/s]\n",
      "18it [00:00, 165.38it/s]\n"
     ]
    }
   ],
   "source": [
    "pred_train, prob_train, true_train = predict(model, model_set[\"train_loader\"], get_cuda_device())\n",
    "pred_val, prob_val, true_val = predict(model, model_set[\"val_loader\"], get_cuda_device())"
   ],
   "metadata": {
    "collapsed": false
   }
  },
  {
   "cell_type": "code",
   "execution_count": 7,
   "outputs": [],
   "source": [
    "# concatenate the predictions as they are 18 arrays\n",
    "pred_train = np.concatenate(pred_train, axis=0)\n",
    "true_train = np.concatenate(true_train, axis=0)\n",
    "\n",
    "prob_train = np.concatenate(prob_train, axis=0)\n",
    "prob_val = np.concatenate(prob_val, axis=0)\n",
    "\n",
    "pred_val = np.concatenate(pred_val, axis=0)\n",
    "true_val = np.concatenate(true_val, axis=0)\n"
   ],
   "metadata": {
    "collapsed": false
   }
  },
  {
   "cell_type": "code",
   "execution_count": 15,
   "outputs": [
    {
     "data": {
      "text/plain": "1.0"
     },
     "execution_count": 15,
     "metadata": {},
     "output_type": "execute_result"
    }
   ],
   "source": [
    "# compute AUC score for predicted probabilities\n"
   ],
   "metadata": {
    "collapsed": false
   }
  },
  {
   "cell_type": "code",
   "execution_count": 23,
   "outputs": [],
   "source": [
    "# classification metrics:  accuracy, precision, recall, F1\n",
    "from sklearn.metrics import roc_auc_score\n",
    "auc_train = roc_auc_score(true_train, prob_train, average='macro', multi_class='ovr')\n",
    "auc_val = roc_auc_score(true_val, prob_val, average='macro', multi_class='ovr')\n",
    "from sklearn.metrics import accuracy_score, precision_score, recall_score, f1_score, cohen_kappa_score\n",
    "# create a table for training and validation metrics\n",
    "metrics = {\n",
    "    \"Accuracy\": [accuracy_score(true_train, pred_train), accuracy_score(true_val, pred_val)],\n",
    "    \"Precision\": [precision_score(true_train, pred_train, average='macro'), precision_score(true_val, pred_val, average='macro')],\n",
    "    \"Recall\": [recall_score(true_train, pred_train, average='macro'), recall_score(true_val, pred_val, average='macro')],\n",
    "    \"F1\": [f1_score(true_train, pred_train, average='macro'), f1_score(true_val, pred_val, average='macro')],\n",
    "    \"AUC\": [auc_train, auc_val],\n",
    "    \"Kappa\": [cohen_kappa_score(true_train, pred_train), cohen_kappa_score(true_val, pred_val)]\n",
    "}"
   ],
   "metadata": {
    "collapsed": false
   }
  },
  {
   "cell_type": "code",
   "execution_count": 24,
   "outputs": [
    {
     "data": {
      "text/plain": "            Accuracy  Precision   Recall       F1  AUC     Kappa\nTrain        0.99974   0.999741  0.99974  0.99974  1.0  0.999721\nValidation   1.00000   1.000000  1.00000  1.00000  1.0  1.000000",
      "text/html": "<div>\n<style scoped>\n    .dataframe tbody tr th:only-of-type {\n        vertical-align: middle;\n    }\n\n    .dataframe tbody tr th {\n        vertical-align: top;\n    }\n\n    .dataframe thead th {\n        text-align: right;\n    }\n</style>\n<table border=\"1\" class=\"dataframe\">\n  <thead>\n    <tr style=\"text-align: right;\">\n      <th></th>\n      <th>Accuracy</th>\n      <th>Precision</th>\n      <th>Recall</th>\n      <th>F1</th>\n      <th>AUC</th>\n      <th>Kappa</th>\n    </tr>\n  </thead>\n  <tbody>\n    <tr>\n      <th>Train</th>\n      <td>0.99974</td>\n      <td>0.999741</td>\n      <td>0.99974</td>\n      <td>0.99974</td>\n      <td>1.0</td>\n      <td>0.999721</td>\n    </tr>\n    <tr>\n      <th>Validation</th>\n      <td>1.00000</td>\n      <td>1.000000</td>\n      <td>1.00000</td>\n      <td>1.00000</td>\n      <td>1.0</td>\n      <td>1.000000</td>\n    </tr>\n  </tbody>\n</table>\n</div>"
     },
     "execution_count": 24,
     "metadata": {},
     "output_type": "execute_result"
    }
   ],
   "source": [
    "# write them as data frame to save to CSV\n",
    "import pandas as pd\n",
    "metrics_df = pd.DataFrame(metrics, index=[\"Train\", \"Validation\"])\n",
    "metrics_df"
   ],
   "metadata": {
    "collapsed": false
   }
  },
  {
   "cell_type": "code",
   "execution_count": 10,
   "outputs": [
    {
     "name": "stderr",
     "output_type": "stream",
     "text": [
      "0it [00:00, ?it/s]\n"
     ]
    },
    {
     "ename": "AttributeError",
     "evalue": "'collections.OrderedDict' object has no attribute 'forward'",
     "output_type": "error",
     "traceback": [
      "\u001B[0;31m---------------------------------------------------------------------------\u001B[0m",
      "\u001B[0;31mAttributeError\u001B[0m                            Traceback (most recent call last)",
      "Cell \u001B[0;32mIn[10], line 1\u001B[0m\n\u001B[0;32m----> 1\u001B[0m \u001B[43mpredict\u001B[49m\u001B[43m(\u001B[49m\u001B[43mmodel\u001B[49m\u001B[43m,\u001B[49m\u001B[43m \u001B[49m\u001B[43mmodel_set\u001B[49m\u001B[43m[\u001B[49m\u001B[38;5;124;43m\"\u001B[39;49m\u001B[38;5;124;43mtrain_loader\u001B[39;49m\u001B[38;5;124;43m\"\u001B[39;49m\u001B[43m]\u001B[49m\u001B[43m,\u001B[49m\u001B[43m \u001B[49m\u001B[43mdevice\u001B[49m\u001B[43m)\u001B[49m\n",
      "File \u001B[0;32m~/Documents/Drexel/Drexel2023/DSCI591/DSCI_Capstone/util.py:31\u001B[0m, in \u001B[0;36mpredict\u001B[0;34m(model, data_loader, device)\u001B[0m\n\u001B[1;32m     29\u001B[0m audio \u001B[38;5;241m=\u001B[39m audio\u001B[38;5;241m.\u001B[39mto(device)\n\u001B[1;32m     30\u001B[0m label \u001B[38;5;241m=\u001B[39m label\u001B[38;5;241m.\u001B[39mto(device)\n\u001B[0;32m---> 31\u001B[0m output \u001B[38;5;241m=\u001B[39m \u001B[43mmodel\u001B[49m\u001B[38;5;241;43m.\u001B[39;49m\u001B[43mforward\u001B[49m(audio)\n\u001B[1;32m     32\u001B[0m \u001B[38;5;66;03m# loss = criterion(output, label)\u001B[39;00m\n\u001B[1;32m     33\u001B[0m \n\u001B[1;32m     34\u001B[0m \u001B[38;5;66;03m# Get prediction with np.argmax\u001B[39;00m\n\u001B[1;32m     35\u001B[0m pred \u001B[38;5;241m=\u001B[39m output\u001B[38;5;241m.\u001B[39margmax(dim\u001B[38;5;241m=\u001B[39m\u001B[38;5;241m1\u001B[39m, keepdim\u001B[38;5;241m=\u001B[39m\u001B[38;5;28;01mTrue\u001B[39;00m)\n",
      "\u001B[0;31mAttributeError\u001B[0m: 'collections.OrderedDict' object has no attribute 'forward'"
     ]
    }
   ],
   "source": [
    "predict(model, model_set[\"train_loader\"], device)"
   ],
   "metadata": {
    "collapsed": false
   }
  },
  {
   "cell_type": "code",
   "execution_count": null,
   "outputs": [],
   "source": [
    "model_set[\"val_loader\"]"
   ],
   "metadata": {
    "collapsed": false
   }
  },
  {
   "cell_type": "code",
   "execution_count": 15,
   "outputs": [],
   "source": [
    "import torch\n",
    "from torch.utils.data import Dataset, DataLoader\n",
    "import numpy as np\n",
    "\n",
    "class VoiceDataset(Dataset):\n",
    "    def __init__(self, X, y):\n",
    "        assert len(X) == len(y), \"The lengths of X and y must match\"\n",
    "        self.X = X\n",
    "        self.y = y\n",
    "\n",
    "    def __len__(self):\n",
    "        return len(self.X)\n",
    "\n",
    "    def __getitem__(self, idx):\n",
    "        # Convert the numpy arrays to PyTorch tensors\n",
    "        sample = torch.tensor(self.X[idx], dtype=torch.float)\n",
    "        label = torch.tensor(self.y[idx], dtype=torch.long)\n",
    "        return sample, label\n",
    "\n",
    "# Assuming X and y are your data and labels loaded in memory\n",
    "# X is our features array with shape (N, 17, 216), and y is a labels array\n",
    "\n",
    "# Initialize your dataset\n",
    "dataset = VoiceDataset(X, y)\n",
    "\n",
    "# Create a DataLoader\n",
    "batch_size = 32  # Define your batch size\n",
    "shuffle = True  # Shuffle the data for training\n",
    "data_loader = DataLoader(dataset, batch_size=batch_size, shuffle=shuffle)\n",
    "#\n",
    "# # Example of iterating through the DataLoader\n",
    "# for batch_idx, (data, labels) in enumerate(data_loader):\n",
    "#     print(f\"Batch {batch_idx}: Data shape {data.shape}, Labels shape {labels.shape}\")\n",
    "#     # Here you can pass your data and labels to your model for training or inference\n"
   ],
   "metadata": {
    "collapsed": false
   }
  },
  {
   "cell_type": "code",
   "execution_count": 16,
   "outputs": [],
   "source": [
    "from models_cnn import BaseNet\n",
    "\n",
    "# Initialize the model\n",
    "model = BaseNet(num_classes=len(np.unique(y)))"
   ],
   "metadata": {
    "collapsed": false
   }
  },
  {
   "cell_type": "code",
   "execution_count": 27,
   "outputs": [
    {
     "data": {
      "text/plain": "      train_idx  speaker  label\n288         288     5789      0\n289         289     5789      0\n290         290     5789      0\n291         291     5789      0\n292         292     5789      0\n...         ...      ...    ...\n4709       4709     8677      2\n4710       4710     8677      2\n4711       4711     8677      2\n4712       4712     8677      2\n4713       4713     8677      2\n\n[640 rows x 3 columns]",
      "text/html": "<div>\n<style scoped>\n    .dataframe tbody tr th:only-of-type {\n        vertical-align: middle;\n    }\n\n    .dataframe tbody tr th {\n        vertical-align: top;\n    }\n\n    .dataframe thead th {\n        text-align: right;\n    }\n</style>\n<table border=\"1\" class=\"dataframe\">\n  <thead>\n    <tr style=\"text-align: right;\">\n      <th></th>\n      <th>train_idx</th>\n      <th>speaker</th>\n      <th>label</th>\n    </tr>\n  </thead>\n  <tbody>\n    <tr>\n      <th>288</th>\n      <td>288</td>\n      <td>5789</td>\n      <td>0</td>\n    </tr>\n    <tr>\n      <th>289</th>\n      <td>289</td>\n      <td>5789</td>\n      <td>0</td>\n    </tr>\n    <tr>\n      <th>290</th>\n      <td>290</td>\n      <td>5789</td>\n      <td>0</td>\n    </tr>\n    <tr>\n      <th>291</th>\n      <td>291</td>\n      <td>5789</td>\n      <td>0</td>\n    </tr>\n    <tr>\n      <th>292</th>\n      <td>292</td>\n      <td>5789</td>\n      <td>0</td>\n    </tr>\n    <tr>\n      <th>...</th>\n      <td>...</td>\n      <td>...</td>\n      <td>...</td>\n    </tr>\n    <tr>\n      <th>4709</th>\n      <td>4709</td>\n      <td>8677</td>\n      <td>2</td>\n    </tr>\n    <tr>\n      <th>4710</th>\n      <td>4710</td>\n      <td>8677</td>\n      <td>2</td>\n    </tr>\n    <tr>\n      <th>4711</th>\n      <td>4711</td>\n      <td>8677</td>\n      <td>2</td>\n    </tr>\n    <tr>\n      <th>4712</th>\n      <td>4712</td>\n      <td>8677</td>\n      <td>2</td>\n    </tr>\n    <tr>\n      <th>4713</th>\n      <td>4713</td>\n      <td>8677</td>\n      <td>2</td>\n    </tr>\n  </tbody>\n</table>\n<p>640 rows × 3 columns</p>\n</div>"
     },
     "execution_count": 27,
     "metadata": {},
     "output_type": "execute_result"
    }
   ],
   "source": [
    "dataset"
   ],
   "metadata": {
    "collapsed": false
   }
  },
  {
   "cell_type": "markdown",
   "source": [
    "1. Random sample of the index data (train) for 5 second samples of 15 speakers (64 samples each)\n",
    "2. Process through the preprocessing pipeline (transformation of data loader) on the fly by sample level\n",
    "3. Train a simple base CNN model architecture"
   ],
   "metadata": {
    "collapsed": false
   }
  },
  {
   "cell_type": "code",
   "execution_count": 35,
   "outputs": [
    {
     "name": "stdout",
     "output_type": "stream",
     "text": [
      "Batch 0: Data shape torch.Size([32, 17, 216]), Labels shape torch.Size([32])\n",
      "Batch 1: Data shape torch.Size([32, 17, 216]), Labels shape torch.Size([32])\n",
      "Batch 2: Data shape torch.Size([32, 17, 216]), Labels shape torch.Size([32])\n",
      "Batch 3: Data shape torch.Size([32, 17, 216]), Labels shape torch.Size([32])\n",
      "Batch 4: Data shape torch.Size([32, 17, 216]), Labels shape torch.Size([32])\n",
      "Batch 5: Data shape torch.Size([32, 17, 216]), Labels shape torch.Size([32])\n",
      "Batch 6: Data shape torch.Size([32, 17, 216]), Labels shape torch.Size([32])\n",
      "Batch 7: Data shape torch.Size([32, 17, 216]), Labels shape torch.Size([32])\n",
      "Batch 8: Data shape torch.Size([32, 17, 216]), Labels shape torch.Size([32])\n",
      "Batch 9: Data shape torch.Size([32, 17, 216]), Labels shape torch.Size([32])\n",
      "Batch 10: Data shape torch.Size([32, 17, 216]), Labels shape torch.Size([32])\n",
      "Batch 11: Data shape torch.Size([32, 17, 216]), Labels shape torch.Size([32])\n",
      "Batch 12: Data shape torch.Size([32, 17, 216]), Labels shape torch.Size([32])\n",
      "Batch 13: Data shape torch.Size([32, 17, 216]), Labels shape torch.Size([32])\n",
      "Batch 14: Data shape torch.Size([32, 17, 216]), Labels shape torch.Size([32])\n",
      "Batch 15: Data shape torch.Size([32, 17, 216]), Labels shape torch.Size([32])\n",
      "Batch 16: Data shape torch.Size([32, 17, 216]), Labels shape torch.Size([32])\n",
      "Batch 17: Data shape torch.Size([32, 17, 216]), Labels shape torch.Size([32])\n",
      "Batch 18: Data shape torch.Size([32, 17, 216]), Labels shape torch.Size([32])\n",
      "Batch 19: Data shape torch.Size([32, 17, 216]), Labels shape torch.Size([32])\n"
     ]
    }
   ],
   "source": [],
   "metadata": {
    "collapsed": false
   }
  }
 ],
 "metadata": {
  "kernelspec": {
   "display_name": "Python 3",
   "language": "python",
   "name": "python3"
  },
  "language_info": {
   "codemirror_mode": {
    "name": "ipython",
    "version": 2
   },
   "file_extension": ".py",
   "mimetype": "text/x-python",
   "name": "python",
   "nbconvert_exporter": "python",
   "pygments_lexer": "ipython2",
   "version": "2.7.6"
  }
 },
 "nbformat": 4,
 "nbformat_minor": 0
}
