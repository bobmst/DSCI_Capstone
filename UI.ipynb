{
 "cells": [
  {
   "cell_type": "code",
   "execution_count": 11,
   "metadata": {},
   "outputs": [
    {
     "name": "stdout",
     "output_type": "stream",
     "text": [
      "Name: gradio\n",
      "Version: 4.19.2\n",
      "Summary: Python library for easily interacting with trained machine learning models\n",
      "Home-page: \n",
      "Author: \n",
      "Author-email: Abubakar Abid <gradio-team@huggingface.co>, Ali Abid <gradio-team@huggingface.co>, Ali Abdalla <gradio-team@huggingface.co>, Dawood Khan <gradio-team@huggingface.co>, Ahsen Khaliq <gradio-team@huggingface.co>, Pete Allen <gradio-team@huggingface.co>, Ömer Faruk Özdemir <gradio-team@huggingface.co>, Freddy A Boulton <gradio-team@huggingface.co>, Hannah Blair <gradio-team@huggingface.co>\n",
      "License: \n",
      "Location: d:\\001drexel\\12_dsci_capstone\\dsci_capstone\\.conda\\lib\\site-packages\n",
      "Requires: aiofiles, altair, fastapi, ffmpy, gradio-client, httpx, huggingface-hub, importlib-resources, jinja2, markupsafe, matplotlib, numpy, orjson, packaging, pandas, pillow, pydantic, pydub, python-multipart, pyyaml, ruff, semantic-version, tomlkit, typer, typing-extensions, uvicorn\n",
      "Required-by: \n"
     ]
    }
   ],
   "source": [
    "!pip show gradio"
   ]
  },
  {
   "cell_type": "code",
   "execution_count": 11,
   "metadata": {},
   "outputs": [
    {
     "name": "stdout",
     "output_type": "stream",
     "text": [
      "Running on local URL:  http://127.0.0.1:7864\n",
      "\n",
      "To create a public link, set `share=True` in `launch()`.\n"
     ]
    },
    {
     "data": {
      "text/html": [
       "<div><iframe src=\"http://127.0.0.1:7864/\" width=\"100%\" height=\"500\" allow=\"autoplay; camera; microphone; clipboard-read; clipboard-write;\" frameborder=\"0\" allowfullscreen></iframe></div>"
      ],
      "text/plain": [
       "<IPython.core.display.HTML object>"
      ]
     },
     "metadata": {},
     "output_type": "display_data"
    },
    {
     "data": {
      "text/plain": []
     },
     "execution_count": 11,
     "metadata": {},
     "output_type": "execute_result"
    }
   ],
   "source": [
    "def train_model_pipeline(audio_file, denoise, save_dir, progress=gr.Progress()):\n",
    "    # Function to train the model\n",
    "    # pass\n",
    "    return \"Finished\"\n",
    "\n",
    "def fit_model_pipeline(audio_file, denoise, model_dir):\n",
    "    # Function to fit the model\n",
    "    # pass\n",
    "    return 1,0.5\n",
    "\n",
    "train_interface = gr.Interface(\n",
    "    fn=train_model_pipeline,\n",
    "    inputs=[\n",
    "        gr.Textbox(label=\"Audio File\"),\n",
    "        gr.Checkbox(label=\"Denoise\"),\n",
    "        gr.Textbox(label=\"Save Directory\"),\n",
    "    ],\n",
    "    outputs=gr.Textbox(label=\"Training Output\"),\n",
    "    title=\"Train\"\n",
    ")\n",
    "\n",
    "test_interface = gr.Interface(\n",
    "    fn=fit_model_pipeline,\n",
    "    inputs=[\n",
    "        gr.Textbox(label=\"Audio File\"),\n",
    "        gr.Checkbox(label=\"Denoise\"),\n",
    "        gr.Textbox(label=\"Model Directory\")\n",
    "    ],\n",
    "    outputs=[\n",
    "        gr.Textbox(label=\"Fit Result\"),\n",
    "        gr.Textbox(label=\"Confidence Value\")\n",
    "    ],\n",
    "    title=\"Test\"\n",
    ")\n",
    "\n",
    "status_interface = gr.Interface(\n",
    "    fn=None,\n",
    "    inputs=None,\n",
    "    outputs=[\n",
    "        gr.Textbox(label=\"Training Accuracy\"),\n",
    "        gr.Textbox(label=\"Training EER\"),\n",
    "        gr.Textbox(label=\"Length of Training Data\"),\n",
    "        gr.Textbox(label=\"Length of Test Data\")\n",
    "    ],\n",
    "    title=\"Status\"\n",
    ")\n",
    "\n",
    "tabbed_interface = gr.TabbedInterface(\n",
    "    [train_interface, test_interface, status_interface],\n",
    "    [\"Train\", \"Test\", \"Status\"]\n",
    ")\n",
    "\n",
    "tabbed_interface.launch()\n"
   ]
  }
 ],
 "metadata": {
  "kernelspec": {
   "display_name": "Python 3",
   "language": "python",
   "name": "python3"
  },
  "language_info": {
   "codemirror_mode": {
    "name": "ipython",
    "version": 3
   },
   "file_extension": ".py",
   "mimetype": "text/x-python",
   "name": "python",
   "nbconvert_exporter": "python",
   "pygments_lexer": "ipython3",
   "version": "3.10.13"
  }
 },
 "nbformat": 4,
 "nbformat_minor": 2
}
