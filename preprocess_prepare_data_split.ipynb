{
 "cells": [
  {
   "cell_type": "markdown",
   "metadata": {},
   "source": [
    "## Library imports"
   ]
  },
  {
   "cell_type": "code",
   "execution_count": 1,
   "metadata": {},
   "outputs": [],
   "source": [
    "import pandas as pd\n",
    "import numpy as np\n",
    "from sklearn import preprocessing\n",
    "import librosa\n",
    "import soundfile as sf\n",
    "import pickle\n",
    "import os\n",
    "import re"
   ]
  },
  {
   "cell_type": "code",
   "execution_count": 2,
   "metadata": {},
   "outputs": [
    {
     "data": {
      "text/plain": [
       "'./data/'"
      ]
     },
     "execution_count": 2,
     "metadata": {},
     "output_type": "execute_result"
    }
   ],
   "source": [
    "from preprocessing_pipeline import *\n",
    "from util import *\n",
    "from util import DATA_ADDRESS\n",
    "DATA_ADDRESS "
   ]
  },
  {
   "cell_type": "code",
   "execution_count": 3,
   "metadata": {},
   "outputs": [],
   "source": [
    "from tqdm import tqdm\n",
    "tqdm.pandas()"
   ]
  },
  {
   "cell_type": "code",
   "execution_count": 4,
   "metadata": {},
   "outputs": [],
   "source": [
    "FILE_DIR = DATA_ADDRESS+\"VOiCES_devkit/\"\n",
    "target_folder = \"5seconds-16k\"\n",
    "TARGET_DIR = os.path.join(DATA_ADDRESS, target_folder)"
   ]
  },
  {
   "cell_type": "markdown",
   "metadata": {},
   "source": [
    "## Read original file"
   ]
  },
  {
   "cell_type": "code",
   "execution_count": 5,
   "metadata": {},
   "outputs": [
    {
     "data": {
      "text/html": [
       "<div>\n",
       "<style scoped>\n",
       "    .dataframe tbody tr th:only-of-type {\n",
       "        vertical-align: middle;\n",
       "    }\n",
       "\n",
       "    .dataframe tbody tr th {\n",
       "        vertical-align: top;\n",
       "    }\n",
       "\n",
       "    .dataframe thead th {\n",
       "        text-align: right;\n",
       "    }\n",
       "</style>\n",
       "<table border=\"1\" class=\"dataframe\">\n",
       "  <thead>\n",
       "    <tr style=\"text-align: right;\">\n",
       "      <th></th>\n",
       "      <th>index</th>\n",
       "      <th>chapter</th>\n",
       "      <th>degrees</th>\n",
       "      <th>distractor</th>\n",
       "      <th>filename</th>\n",
       "      <th>gender</th>\n",
       "      <th>mic</th>\n",
       "      <th>query_name</th>\n",
       "      <th>room</th>\n",
       "      <th>segment</th>\n",
       "      <th>source</th>\n",
       "      <th>speaker</th>\n",
       "      <th>transcript</th>\n",
       "      <th>noisy_length</th>\n",
       "      <th>noisy_sr</th>\n",
       "      <th>noisy_time</th>\n",
       "      <th>source_length</th>\n",
       "      <th>source_sr</th>\n",
       "      <th>source_time</th>\n",
       "      <th>category</th>\n",
       "    </tr>\n",
       "  </thead>\n",
       "  <tbody>\n",
       "    <tr>\n",
       "      <th>0</th>\n",
       "      <td>0</td>\n",
       "      <td>32639</td>\n",
       "      <td>160</td>\n",
       "      <td>babb</td>\n",
       "      <td>distant-16k/speech/test/rm4/babb/sp4899/Lab41-...</td>\n",
       "      <td>F</td>\n",
       "      <td>1</td>\n",
       "      <td>Lab41-SRI-VOiCES-rm4-babb-sp4899-ch032639-sg00...</td>\n",
       "      <td>rm4</td>\n",
       "      <td>29</td>\n",
       "      <td>source-16k/test/sp4899/Lab41-SRI-VOiCES-src-sp...</td>\n",
       "      <td>4899</td>\n",
       "      <td>and i got on with the lesson very badly i am s...</td>\n",
       "      <td>255040</td>\n",
       "      <td>16000</td>\n",
       "      <td>15.940</td>\n",
       "      <td>255040</td>\n",
       "      <td>16000</td>\n",
       "      <td>15.940</td>\n",
       "      <td>test</td>\n",
       "    </tr>\n",
       "    <tr>\n",
       "      <th>1</th>\n",
       "      <td>1</td>\n",
       "      <td>32639</td>\n",
       "      <td>160</td>\n",
       "      <td>babb</td>\n",
       "      <td>distant-16k/speech/test/rm4/babb/sp4899/Lab41-...</td>\n",
       "      <td>F</td>\n",
       "      <td>5</td>\n",
       "      <td>Lab41-SRI-VOiCES-rm4-babb-sp4899-ch032639-sg00...</td>\n",
       "      <td>rm4</td>\n",
       "      <td>29</td>\n",
       "      <td>source-16k/test/sp4899/Lab41-SRI-VOiCES-src-sp...</td>\n",
       "      <td>4899</td>\n",
       "      <td>and i got on with the lesson very badly i am s...</td>\n",
       "      <td>255040</td>\n",
       "      <td>16000</td>\n",
       "      <td>15.940</td>\n",
       "      <td>255040</td>\n",
       "      <td>16000</td>\n",
       "      <td>15.940</td>\n",
       "      <td>test</td>\n",
       "    </tr>\n",
       "    <tr>\n",
       "      <th>2</th>\n",
       "      <td>2</td>\n",
       "      <td>32658</td>\n",
       "      <td>70</td>\n",
       "      <td>babb</td>\n",
       "      <td>distant-16k/speech/test/rm4/babb/sp4899/Lab41-...</td>\n",
       "      <td>F</td>\n",
       "      <td>5</td>\n",
       "      <td>Lab41-SRI-VOiCES-rm4-babb-sp4899-ch032658-sg00...</td>\n",
       "      <td>rm4</td>\n",
       "      <td>12</td>\n",
       "      <td>source-16k/test/sp4899/Lab41-SRI-VOiCES-src-sp...</td>\n",
       "      <td>4899</td>\n",
       "      <td>and ran upstairs to put away the host of littl...</td>\n",
       "      <td>258000</td>\n",
       "      <td>16000</td>\n",
       "      <td>16.125</td>\n",
       "      <td>258000</td>\n",
       "      <td>16000</td>\n",
       "      <td>16.125</td>\n",
       "      <td>test</td>\n",
       "    </tr>\n",
       "    <tr>\n",
       "      <th>3</th>\n",
       "      <td>3</td>\n",
       "      <td>32658</td>\n",
       "      <td>70</td>\n",
       "      <td>babb</td>\n",
       "      <td>distant-16k/speech/test/rm4/babb/sp4899/Lab41-...</td>\n",
       "      <td>F</td>\n",
       "      <td>1</td>\n",
       "      <td>Lab41-SRI-VOiCES-rm4-babb-sp4899-ch032658-sg00...</td>\n",
       "      <td>rm4</td>\n",
       "      <td>12</td>\n",
       "      <td>source-16k/test/sp4899/Lab41-SRI-VOiCES-src-sp...</td>\n",
       "      <td>4899</td>\n",
       "      <td>and ran upstairs to put away the host of littl...</td>\n",
       "      <td>258000</td>\n",
       "      <td>16000</td>\n",
       "      <td>16.125</td>\n",
       "      <td>258000</td>\n",
       "      <td>16000</td>\n",
       "      <td>16.125</td>\n",
       "      <td>test</td>\n",
       "    </tr>\n",
       "    <tr>\n",
       "      <th>4</th>\n",
       "      <td>4</td>\n",
       "      <td>130550</td>\n",
       "      <td>10</td>\n",
       "      <td>babb</td>\n",
       "      <td>distant-16k/speech/test/rm4/babb/sp1447/Lab41-...</td>\n",
       "      <td>F</td>\n",
       "      <td>1</td>\n",
       "      <td>Lab41-SRI-VOiCES-rm4-babb-sp1447-ch130550-sg00...</td>\n",
       "      <td>rm4</td>\n",
       "      <td>26</td>\n",
       "      <td>source-16k/test/sp1447/Lab41-SRI-VOiCES-src-sp...</td>\n",
       "      <td>1447</td>\n",
       "      <td>he was inexhaustibly voluble</td>\n",
       "      <td>58720</td>\n",
       "      <td>16000</td>\n",
       "      <td>3.670</td>\n",
       "      <td>58720</td>\n",
       "      <td>16000</td>\n",
       "      <td>3.670</td>\n",
       "      <td>test</td>\n",
       "    </tr>\n",
       "    <tr>\n",
       "      <th>...</th>\n",
       "      <td>...</td>\n",
       "      <td>...</td>\n",
       "      <td>...</td>\n",
       "      <td>...</td>\n",
       "      <td>...</td>\n",
       "      <td>...</td>\n",
       "      <td>...</td>\n",
       "      <td>...</td>\n",
       "      <td>...</td>\n",
       "      <td>...</td>\n",
       "      <td>...</td>\n",
       "      <td>...</td>\n",
       "      <td>...</td>\n",
       "      <td>...</td>\n",
       "      <td>...</td>\n",
       "      <td>...</td>\n",
       "      <td>...</td>\n",
       "      <td>...</td>\n",
       "      <td>...</td>\n",
       "      <td>...</td>\n",
       "    </tr>\n",
       "    <tr>\n",
       "      <th>19195</th>\n",
       "      <td>12795</td>\n",
       "      <td>162129</td>\n",
       "      <td>160</td>\n",
       "      <td>none</td>\n",
       "      <td>distant-16k/speech/train/rm4/none/sp2673/Lab41...</td>\n",
       "      <td>M</td>\n",
       "      <td>1</td>\n",
       "      <td>Lab41-SRI-VOiCES-rm4-none-sp2673-ch162129-sg00...</td>\n",
       "      <td>rm4</td>\n",
       "      <td>27</td>\n",
       "      <td>source-16k/train/sp2673/Lab41-SRI-VOiCES-src-s...</td>\n",
       "      <td>2673</td>\n",
       "      <td>and away with it we ought all to say if social...</td>\n",
       "      <td>239840</td>\n",
       "      <td>16000</td>\n",
       "      <td>14.990</td>\n",
       "      <td>239840</td>\n",
       "      <td>16000</td>\n",
       "      <td>14.990</td>\n",
       "      <td>train</td>\n",
       "    </tr>\n",
       "    <tr>\n",
       "      <th>19196</th>\n",
       "      <td>12796</td>\n",
       "      <td>75242</td>\n",
       "      <td>170</td>\n",
       "      <td>none</td>\n",
       "      <td>distant-16k/speech/train/rm4/none/sp1212/Lab41...</td>\n",
       "      <td>F</td>\n",
       "      <td>5</td>\n",
       "      <td>Lab41-SRI-VOiCES-rm4-none-sp1212-ch075242-sg00...</td>\n",
       "      <td>rm4</td>\n",
       "      <td>16</td>\n",
       "      <td>source-16k/train/sp1212/Lab41-SRI-VOiCES-src-s...</td>\n",
       "      <td>1212</td>\n",
       "      <td>and zip dropped from the boy's arms not into t...</td>\n",
       "      <td>269040</td>\n",
       "      <td>16000</td>\n",
       "      <td>16.815</td>\n",
       "      <td>269040</td>\n",
       "      <td>16000</td>\n",
       "      <td>16.815</td>\n",
       "      <td>train</td>\n",
       "    </tr>\n",
       "    <tr>\n",
       "      <th>19197</th>\n",
       "      <td>12797</td>\n",
       "      <td>75242</td>\n",
       "      <td>170</td>\n",
       "      <td>none</td>\n",
       "      <td>distant-16k/speech/train/rm4/none/sp1212/Lab41...</td>\n",
       "      <td>F</td>\n",
       "      <td>1</td>\n",
       "      <td>Lab41-SRI-VOiCES-rm4-none-sp1212-ch075242-sg00...</td>\n",
       "      <td>rm4</td>\n",
       "      <td>16</td>\n",
       "      <td>source-16k/train/sp1212/Lab41-SRI-VOiCES-src-s...</td>\n",
       "      <td>1212</td>\n",
       "      <td>and zip dropped from the boy's arms not into t...</td>\n",
       "      <td>269040</td>\n",
       "      <td>16000</td>\n",
       "      <td>16.815</td>\n",
       "      <td>269040</td>\n",
       "      <td>16000</td>\n",
       "      <td>16.815</td>\n",
       "      <td>train</td>\n",
       "    </tr>\n",
       "    <tr>\n",
       "      <th>19198</th>\n",
       "      <td>12798</td>\n",
       "      <td>14653</td>\n",
       "      <td>160</td>\n",
       "      <td>none</td>\n",
       "      <td>distant-16k/speech/train/rm4/none/sp1212/Lab41...</td>\n",
       "      <td>F</td>\n",
       "      <td>1</td>\n",
       "      <td>Lab41-SRI-VOiCES-rm4-none-sp1212-ch014653-sg00...</td>\n",
       "      <td>rm4</td>\n",
       "      <td>3</td>\n",
       "      <td>source-16k/train/sp1212/Lab41-SRI-VOiCES-src-s...</td>\n",
       "      <td>1212</td>\n",
       "      <td>for for the sake of my reputation i suggested ...</td>\n",
       "      <td>256080</td>\n",
       "      <td>16000</td>\n",
       "      <td>16.005</td>\n",
       "      <td>256080</td>\n",
       "      <td>16000</td>\n",
       "      <td>16.005</td>\n",
       "      <td>train</td>\n",
       "    </tr>\n",
       "    <tr>\n",
       "      <th>19199</th>\n",
       "      <td>12799</td>\n",
       "      <td>14653</td>\n",
       "      <td>160</td>\n",
       "      <td>none</td>\n",
       "      <td>distant-16k/speech/train/rm4/none/sp1212/Lab41...</td>\n",
       "      <td>F</td>\n",
       "      <td>5</td>\n",
       "      <td>Lab41-SRI-VOiCES-rm4-none-sp1212-ch014653-sg00...</td>\n",
       "      <td>rm4</td>\n",
       "      <td>3</td>\n",
       "      <td>source-16k/train/sp1212/Lab41-SRI-VOiCES-src-s...</td>\n",
       "      <td>1212</td>\n",
       "      <td>for for the sake of my reputation i suggested ...</td>\n",
       "      <td>256080</td>\n",
       "      <td>16000</td>\n",
       "      <td>16.005</td>\n",
       "      <td>256080</td>\n",
       "      <td>16000</td>\n",
       "      <td>16.005</td>\n",
       "      <td>train</td>\n",
       "    </tr>\n",
       "  </tbody>\n",
       "</table>\n",
       "<p>19200 rows × 20 columns</p>\n",
       "</div>"
      ],
      "text/plain": [
       "       index  chapter  degrees distractor  \\\n",
       "0          0    32639      160       babb   \n",
       "1          1    32639      160       babb   \n",
       "2          2    32658       70       babb   \n",
       "3          3    32658       70       babb   \n",
       "4          4   130550       10       babb   \n",
       "...      ...      ...      ...        ...   \n",
       "19195  12795   162129      160       none   \n",
       "19196  12796    75242      170       none   \n",
       "19197  12797    75242      170       none   \n",
       "19198  12798    14653      160       none   \n",
       "19199  12799    14653      160       none   \n",
       "\n",
       "                                                filename gender  mic  \\\n",
       "0      distant-16k/speech/test/rm4/babb/sp4899/Lab41-...      F    1   \n",
       "1      distant-16k/speech/test/rm4/babb/sp4899/Lab41-...      F    5   \n",
       "2      distant-16k/speech/test/rm4/babb/sp4899/Lab41-...      F    5   \n",
       "3      distant-16k/speech/test/rm4/babb/sp4899/Lab41-...      F    1   \n",
       "4      distant-16k/speech/test/rm4/babb/sp1447/Lab41-...      F    1   \n",
       "...                                                  ...    ...  ...   \n",
       "19195  distant-16k/speech/train/rm4/none/sp2673/Lab41...      M    1   \n",
       "19196  distant-16k/speech/train/rm4/none/sp1212/Lab41...      F    5   \n",
       "19197  distant-16k/speech/train/rm4/none/sp1212/Lab41...      F    1   \n",
       "19198  distant-16k/speech/train/rm4/none/sp1212/Lab41...      F    1   \n",
       "19199  distant-16k/speech/train/rm4/none/sp1212/Lab41...      F    5   \n",
       "\n",
       "                                              query_name room  segment  \\\n",
       "0      Lab41-SRI-VOiCES-rm4-babb-sp4899-ch032639-sg00...  rm4       29   \n",
       "1      Lab41-SRI-VOiCES-rm4-babb-sp4899-ch032639-sg00...  rm4       29   \n",
       "2      Lab41-SRI-VOiCES-rm4-babb-sp4899-ch032658-sg00...  rm4       12   \n",
       "3      Lab41-SRI-VOiCES-rm4-babb-sp4899-ch032658-sg00...  rm4       12   \n",
       "4      Lab41-SRI-VOiCES-rm4-babb-sp1447-ch130550-sg00...  rm4       26   \n",
       "...                                                  ...  ...      ...   \n",
       "19195  Lab41-SRI-VOiCES-rm4-none-sp2673-ch162129-sg00...  rm4       27   \n",
       "19196  Lab41-SRI-VOiCES-rm4-none-sp1212-ch075242-sg00...  rm4       16   \n",
       "19197  Lab41-SRI-VOiCES-rm4-none-sp1212-ch075242-sg00...  rm4       16   \n",
       "19198  Lab41-SRI-VOiCES-rm4-none-sp1212-ch014653-sg00...  rm4        3   \n",
       "19199  Lab41-SRI-VOiCES-rm4-none-sp1212-ch014653-sg00...  rm4        3   \n",
       "\n",
       "                                                  source  speaker  \\\n",
       "0      source-16k/test/sp4899/Lab41-SRI-VOiCES-src-sp...     4899   \n",
       "1      source-16k/test/sp4899/Lab41-SRI-VOiCES-src-sp...     4899   \n",
       "2      source-16k/test/sp4899/Lab41-SRI-VOiCES-src-sp...     4899   \n",
       "3      source-16k/test/sp4899/Lab41-SRI-VOiCES-src-sp...     4899   \n",
       "4      source-16k/test/sp1447/Lab41-SRI-VOiCES-src-sp...     1447   \n",
       "...                                                  ...      ...   \n",
       "19195  source-16k/train/sp2673/Lab41-SRI-VOiCES-src-s...     2673   \n",
       "19196  source-16k/train/sp1212/Lab41-SRI-VOiCES-src-s...     1212   \n",
       "19197  source-16k/train/sp1212/Lab41-SRI-VOiCES-src-s...     1212   \n",
       "19198  source-16k/train/sp1212/Lab41-SRI-VOiCES-src-s...     1212   \n",
       "19199  source-16k/train/sp1212/Lab41-SRI-VOiCES-src-s...     1212   \n",
       "\n",
       "                                              transcript  noisy_length  \\\n",
       "0      and i got on with the lesson very badly i am s...        255040   \n",
       "1      and i got on with the lesson very badly i am s...        255040   \n",
       "2      and ran upstairs to put away the host of littl...        258000   \n",
       "3      and ran upstairs to put away the host of littl...        258000   \n",
       "4                           he was inexhaustibly voluble         58720   \n",
       "...                                                  ...           ...   \n",
       "19195  and away with it we ought all to say if social...        239840   \n",
       "19196  and zip dropped from the boy's arms not into t...        269040   \n",
       "19197  and zip dropped from the boy's arms not into t...        269040   \n",
       "19198  for for the sake of my reputation i suggested ...        256080   \n",
       "19199  for for the sake of my reputation i suggested ...        256080   \n",
       "\n",
       "       noisy_sr  noisy_time  source_length  source_sr  source_time category  \n",
       "0         16000      15.940         255040      16000       15.940     test  \n",
       "1         16000      15.940         255040      16000       15.940     test  \n",
       "2         16000      16.125         258000      16000       16.125     test  \n",
       "3         16000      16.125         258000      16000       16.125     test  \n",
       "4         16000       3.670          58720      16000        3.670     test  \n",
       "...         ...         ...            ...        ...          ...      ...  \n",
       "19195     16000      14.990         239840      16000       14.990    train  \n",
       "19196     16000      16.815         269040      16000       16.815    train  \n",
       "19197     16000      16.815         269040      16000       16.815    train  \n",
       "19198     16000      16.005         256080      16000       16.005    train  \n",
       "19199     16000      16.005         256080      16000       16.005    train  \n",
       "\n",
       "[19200 rows x 20 columns]"
      ]
     },
     "execution_count": 5,
     "metadata": {},
     "output_type": "execute_result"
    }
   ],
   "source": [
    "df_raw = pd.read_pickle(data_address+\"df_merged.pkl\")\n",
    "df_raw"
   ]
  },
  {
   "cell_type": "code",
   "execution_count": 6,
   "metadata": {},
   "outputs": [
    {
     "name": "stdout",
     "output_type": "stream",
     "text": [
      "index                                                            0\n",
      "chapter                                                      32639\n",
      "degrees                                                        160\n",
      "distractor                                                    babb\n",
      "filename         distant-16k/speech/test/rm4/babb/sp4899/Lab41-...\n",
      "gender                                                           F\n",
      "mic                                                              1\n",
      "query_name       Lab41-SRI-VOiCES-rm4-babb-sp4899-ch032639-sg00...\n",
      "room                                                           rm4\n",
      "segment                                                         29\n",
      "source           source-16k/test/sp4899/Lab41-SRI-VOiCES-src-sp...\n",
      "speaker                                                       4899\n",
      "transcript       and i got on with the lesson very badly i am s...\n",
      "noisy_length                                                255040\n",
      "noisy_sr                                                     16000\n",
      "noisy_time                                                   15.94\n",
      "source_length                                               255040\n",
      "source_sr                                                    16000\n",
      "source_time                                                  15.94\n",
      "category                                                      test\n",
      "Name: 0, dtype: object\n"
     ]
    }
   ],
   "source": [
    "print(df_raw.iloc[0])"
   ]
  },
  {
   "cell_type": "code",
   "execution_count": 7,
   "metadata": {},
   "outputs": [
    {
     "name": "stdout",
     "output_type": "stream",
     "text": [
      "distant-16k/speech/test/rm4/babb/sp4899/Lab41-SRI-VOiCES-rm4-babb-sp4899-ch032639-sg0029-mc01-stu-clo-dg160.wav\n"
     ]
    }
   ],
   "source": [
    "print(df_raw.loc[0,'filename'])"
   ]
  },
  {
   "cell_type": "markdown",
   "metadata": {},
   "source": [
    "## Split data in 5s"
   ]
  },
  {
   "cell_type": "code",
   "execution_count": 8,
   "metadata": {},
   "outputs": [
    {
     "data": {
      "text/plain": [
       "Index(['index', 'chapter', 'degrees', 'distractor', 'filename', 'gender',\n",
       "       'mic', 'query_name', 'room', 'segment', 'source', 'speaker',\n",
       "       'transcript', 'noisy_length', 'noisy_sr', 'noisy_time', 'source_length',\n",
       "       'source_sr', 'source_time', 'category'],\n",
       "      dtype='object')"
      ]
     },
     "execution_count": 8,
     "metadata": {},
     "output_type": "execute_result"
    }
   ],
   "source": [
    "df_raw.columns"
   ]
  },
  {
   "cell_type": "code",
   "execution_count": 9,
   "metadata": {},
   "outputs": [
    {
     "data": {
      "text/html": [
       "<div>\n",
       "<style scoped>\n",
       "    .dataframe tbody tr th:only-of-type {\n",
       "        vertical-align: middle;\n",
       "    }\n",
       "\n",
       "    .dataframe tbody tr th {\n",
       "        vertical-align: top;\n",
       "    }\n",
       "\n",
       "    .dataframe thead th {\n",
       "        text-align: right;\n",
       "    }\n",
       "</style>\n",
       "<table border=\"1\" class=\"dataframe\">\n",
       "  <thead>\n",
       "    <tr style=\"text-align: right;\">\n",
       "      <th></th>\n",
       "      <th>index</th>\n",
       "      <th>chapter</th>\n",
       "      <th>degrees</th>\n",
       "      <th>distractor</th>\n",
       "      <th>filename</th>\n",
       "      <th>gender</th>\n",
       "      <th>mic</th>\n",
       "      <th>query_name</th>\n",
       "      <th>room</th>\n",
       "      <th>segment</th>\n",
       "      <th>source</th>\n",
       "      <th>speaker</th>\n",
       "      <th>transcript</th>\n",
       "      <th>noisy_length</th>\n",
       "      <th>noisy_sr</th>\n",
       "      <th>noisy_time</th>\n",
       "      <th>source_length</th>\n",
       "      <th>source_sr</th>\n",
       "      <th>source_time</th>\n",
       "      <th>category</th>\n",
       "    </tr>\n",
       "  </thead>\n",
       "  <tbody>\n",
       "    <tr>\n",
       "      <th>0</th>\n",
       "      <td>0</td>\n",
       "      <td>32639</td>\n",
       "      <td>160</td>\n",
       "      <td>babb</td>\n",
       "      <td>distant-16k/speech/test/rm4/babb/sp4899/Lab41-...</td>\n",
       "      <td>F</td>\n",
       "      <td>1</td>\n",
       "      <td>Lab41-SRI-VOiCES-rm4-babb-sp4899-ch032639-sg00...</td>\n",
       "      <td>rm4</td>\n",
       "      <td>29</td>\n",
       "      <td>source-16k/test/sp4899/Lab41-SRI-VOiCES-src-sp...</td>\n",
       "      <td>4899</td>\n",
       "      <td>and i got on with the lesson very badly i am s...</td>\n",
       "      <td>255040</td>\n",
       "      <td>16000</td>\n",
       "      <td>15.940</td>\n",
       "      <td>255040</td>\n",
       "      <td>16000</td>\n",
       "      <td>15.940</td>\n",
       "      <td>test</td>\n",
       "    </tr>\n",
       "    <tr>\n",
       "      <th>1</th>\n",
       "      <td>1</td>\n",
       "      <td>32639</td>\n",
       "      <td>160</td>\n",
       "      <td>babb</td>\n",
       "      <td>distant-16k/speech/test/rm4/babb/sp4899/Lab41-...</td>\n",
       "      <td>F</td>\n",
       "      <td>5</td>\n",
       "      <td>Lab41-SRI-VOiCES-rm4-babb-sp4899-ch032639-sg00...</td>\n",
       "      <td>rm4</td>\n",
       "      <td>29</td>\n",
       "      <td>source-16k/test/sp4899/Lab41-SRI-VOiCES-src-sp...</td>\n",
       "      <td>4899</td>\n",
       "      <td>and i got on with the lesson very badly i am s...</td>\n",
       "      <td>255040</td>\n",
       "      <td>16000</td>\n",
       "      <td>15.940</td>\n",
       "      <td>255040</td>\n",
       "      <td>16000</td>\n",
       "      <td>15.940</td>\n",
       "      <td>test</td>\n",
       "    </tr>\n",
       "    <tr>\n",
       "      <th>2</th>\n",
       "      <td>2</td>\n",
       "      <td>32658</td>\n",
       "      <td>70</td>\n",
       "      <td>babb</td>\n",
       "      <td>distant-16k/speech/test/rm4/babb/sp4899/Lab41-...</td>\n",
       "      <td>F</td>\n",
       "      <td>5</td>\n",
       "      <td>Lab41-SRI-VOiCES-rm4-babb-sp4899-ch032658-sg00...</td>\n",
       "      <td>rm4</td>\n",
       "      <td>12</td>\n",
       "      <td>source-16k/test/sp4899/Lab41-SRI-VOiCES-src-sp...</td>\n",
       "      <td>4899</td>\n",
       "      <td>and ran upstairs to put away the host of littl...</td>\n",
       "      <td>258000</td>\n",
       "      <td>16000</td>\n",
       "      <td>16.125</td>\n",
       "      <td>258000</td>\n",
       "      <td>16000</td>\n",
       "      <td>16.125</td>\n",
       "      <td>test</td>\n",
       "    </tr>\n",
       "    <tr>\n",
       "      <th>3</th>\n",
       "      <td>3</td>\n",
       "      <td>32658</td>\n",
       "      <td>70</td>\n",
       "      <td>babb</td>\n",
       "      <td>distant-16k/speech/test/rm4/babb/sp4899/Lab41-...</td>\n",
       "      <td>F</td>\n",
       "      <td>1</td>\n",
       "      <td>Lab41-SRI-VOiCES-rm4-babb-sp4899-ch032658-sg00...</td>\n",
       "      <td>rm4</td>\n",
       "      <td>12</td>\n",
       "      <td>source-16k/test/sp4899/Lab41-SRI-VOiCES-src-sp...</td>\n",
       "      <td>4899</td>\n",
       "      <td>and ran upstairs to put away the host of littl...</td>\n",
       "      <td>258000</td>\n",
       "      <td>16000</td>\n",
       "      <td>16.125</td>\n",
       "      <td>258000</td>\n",
       "      <td>16000</td>\n",
       "      <td>16.125</td>\n",
       "      <td>test</td>\n",
       "    </tr>\n",
       "    <tr>\n",
       "      <th>4</th>\n",
       "      <td>4</td>\n",
       "      <td>130550</td>\n",
       "      <td>10</td>\n",
       "      <td>babb</td>\n",
       "      <td>distant-16k/speech/test/rm4/babb/sp1447/Lab41-...</td>\n",
       "      <td>F</td>\n",
       "      <td>1</td>\n",
       "      <td>Lab41-SRI-VOiCES-rm4-babb-sp1447-ch130550-sg00...</td>\n",
       "      <td>rm4</td>\n",
       "      <td>26</td>\n",
       "      <td>source-16k/test/sp1447/Lab41-SRI-VOiCES-src-sp...</td>\n",
       "      <td>1447</td>\n",
       "      <td>he was inexhaustibly voluble</td>\n",
       "      <td>58720</td>\n",
       "      <td>16000</td>\n",
       "      <td>3.670</td>\n",
       "      <td>58720</td>\n",
       "      <td>16000</td>\n",
       "      <td>3.670</td>\n",
       "      <td>test</td>\n",
       "    </tr>\n",
       "  </tbody>\n",
       "</table>\n",
       "</div>"
      ],
      "text/plain": [
       "   index  chapter  degrees distractor  \\\n",
       "0      0    32639      160       babb   \n",
       "1      1    32639      160       babb   \n",
       "2      2    32658       70       babb   \n",
       "3      3    32658       70       babb   \n",
       "4      4   130550       10       babb   \n",
       "\n",
       "                                            filename gender  mic  \\\n",
       "0  distant-16k/speech/test/rm4/babb/sp4899/Lab41-...      F    1   \n",
       "1  distant-16k/speech/test/rm4/babb/sp4899/Lab41-...      F    5   \n",
       "2  distant-16k/speech/test/rm4/babb/sp4899/Lab41-...      F    5   \n",
       "3  distant-16k/speech/test/rm4/babb/sp4899/Lab41-...      F    1   \n",
       "4  distant-16k/speech/test/rm4/babb/sp1447/Lab41-...      F    1   \n",
       "\n",
       "                                          query_name room  segment  \\\n",
       "0  Lab41-SRI-VOiCES-rm4-babb-sp4899-ch032639-sg00...  rm4       29   \n",
       "1  Lab41-SRI-VOiCES-rm4-babb-sp4899-ch032639-sg00...  rm4       29   \n",
       "2  Lab41-SRI-VOiCES-rm4-babb-sp4899-ch032658-sg00...  rm4       12   \n",
       "3  Lab41-SRI-VOiCES-rm4-babb-sp4899-ch032658-sg00...  rm4       12   \n",
       "4  Lab41-SRI-VOiCES-rm4-babb-sp1447-ch130550-sg00...  rm4       26   \n",
       "\n",
       "                                              source  speaker  \\\n",
       "0  source-16k/test/sp4899/Lab41-SRI-VOiCES-src-sp...     4899   \n",
       "1  source-16k/test/sp4899/Lab41-SRI-VOiCES-src-sp...     4899   \n",
       "2  source-16k/test/sp4899/Lab41-SRI-VOiCES-src-sp...     4899   \n",
       "3  source-16k/test/sp4899/Lab41-SRI-VOiCES-src-sp...     4899   \n",
       "4  source-16k/test/sp1447/Lab41-SRI-VOiCES-src-sp...     1447   \n",
       "\n",
       "                                          transcript  noisy_length  noisy_sr  \\\n",
       "0  and i got on with the lesson very badly i am s...        255040     16000   \n",
       "1  and i got on with the lesson very badly i am s...        255040     16000   \n",
       "2  and ran upstairs to put away the host of littl...        258000     16000   \n",
       "3  and ran upstairs to put away the host of littl...        258000     16000   \n",
       "4                       he was inexhaustibly voluble         58720     16000   \n",
       "\n",
       "   noisy_time  source_length  source_sr  source_time category  \n",
       "0      15.940         255040      16000       15.940     test  \n",
       "1      15.940         255040      16000       15.940     test  \n",
       "2      16.125         258000      16000       16.125     test  \n",
       "3      16.125         258000      16000       16.125     test  \n",
       "4       3.670          58720      16000        3.670     test  "
      ]
     },
     "execution_count": 9,
     "metadata": {},
     "output_type": "execute_result"
    }
   ],
   "source": [
    "df_origin = df_raw.loc[:50]\n",
    "df_origin.head()"
   ]
  },
  {
   "cell_type": "code",
   "execution_count": 10,
   "metadata": {},
   "outputs": [
    {
     "name": "stderr",
     "output_type": "stream",
     "text": [
      "C:\\Users\\bobmst\\AppData\\Local\\Temp\\ipykernel_39592\\2726981345.py:1: SettingWithCopyWarning: \n",
      "A value is trying to be set on a copy of a slice from a DataFrame\n",
      "\n",
      "See the caveats in the documentation: https://pandas.pydata.org/pandas-docs/stable/user_guide/indexing.html#returning-a-view-versus-a-copy\n",
      "  df_origin.rename(columns={'filename': 'filename_origin'}, inplace=True)\n"
     ]
    }
   ],
   "source": [
    "df_origin.rename(columns={'filename': 'filename_origin'}, inplace=True)"
   ]
  },
  {
   "cell_type": "code",
   "execution_count": 11,
   "metadata": {},
   "outputs": [
    {
     "data": {
      "text/plain": [
       "{'index': 0,\n",
       " 'chapter': 32639,\n",
       " 'degrees': 160,\n",
       " 'distractor': 'babb',\n",
       " 'filename_origin': 'distant-16k/speech/test/rm4/babb/sp4899/Lab41-SRI-VOiCES-rm4-babb-sp4899-ch032639-sg0029-mc01-stu-clo-dg160.wav',\n",
       " 'gender': 'F',\n",
       " 'mic': 1,\n",
       " 'query_name': 'Lab41-SRI-VOiCES-rm4-babb-sp4899-ch032639-sg0029-mc01-stu-clo-dg160',\n",
       " 'room': 'rm4',\n",
       " 'segment': 29,\n",
       " 'source': 'source-16k/test/sp4899/Lab41-SRI-VOiCES-src-sp4899-ch032639-sg0029.wav',\n",
       " 'speaker': 4899,\n",
       " 'transcript': 'and i got on with the lesson very badly i am sure maria perry has no gift at teaching little children and i feel quite vexed and disappointed this has not been a profitable sunday and i and now going to bed cheerless and uneasy',\n",
       " 'noisy_length': 255040,\n",
       " 'noisy_sr': 16000,\n",
       " 'noisy_time': 15.94,\n",
       " 'source_length': 255040,\n",
       " 'source_sr': 16000,\n",
       " 'source_time': 15.94,\n",
       " 'category': 'test'}"
      ]
     },
     "execution_count": 11,
     "metadata": {},
     "output_type": "execute_result"
    }
   ],
   "source": [
    "dict(df_origin.iloc[0])"
   ]
  },
  {
   "cell_type": "code",
   "execution_count": 12,
   "metadata": {},
   "outputs": [
    {
     "name": "stderr",
     "output_type": "stream",
     "text": [
      "C:\\Users\\bobmst\\AppData\\Local\\Temp\\ipykernel_39592\\3844692374.py:1: SettingWithCopyWarning: \n",
      "A value is trying to be set on a copy of a slice from a DataFrame.\n",
      "Try using .loc[row_indexer,col_indexer] = value instead\n",
      "\n",
      "See the caveats in the documentation: https://pandas.pydata.org/pandas-docs/stable/user_guide/indexing.html#returning-a-view-versus-a-copy\n",
      "  df_origin['folder_origin'] = df_origin['filename_origin'].apply(lambda x: os.path.dirname(x))\n"
     ]
    },
    {
     "data": {
      "text/html": [
       "<div>\n",
       "<style scoped>\n",
       "    .dataframe tbody tr th:only-of-type {\n",
       "        vertical-align: middle;\n",
       "    }\n",
       "\n",
       "    .dataframe tbody tr th {\n",
       "        vertical-align: top;\n",
       "    }\n",
       "\n",
       "    .dataframe thead th {\n",
       "        text-align: right;\n",
       "    }\n",
       "</style>\n",
       "<table border=\"1\" class=\"dataframe\">\n",
       "  <thead>\n",
       "    <tr style=\"text-align: right;\">\n",
       "      <th></th>\n",
       "      <th>index</th>\n",
       "      <th>chapter</th>\n",
       "      <th>degrees</th>\n",
       "      <th>distractor</th>\n",
       "      <th>filename_origin</th>\n",
       "      <th>gender</th>\n",
       "      <th>mic</th>\n",
       "      <th>query_name</th>\n",
       "      <th>room</th>\n",
       "      <th>segment</th>\n",
       "      <th>...</th>\n",
       "      <th>speaker</th>\n",
       "      <th>transcript</th>\n",
       "      <th>noisy_length</th>\n",
       "      <th>noisy_sr</th>\n",
       "      <th>noisy_time</th>\n",
       "      <th>source_length</th>\n",
       "      <th>source_sr</th>\n",
       "      <th>source_time</th>\n",
       "      <th>category</th>\n",
       "      <th>folder_origin</th>\n",
       "    </tr>\n",
       "  </thead>\n",
       "  <tbody>\n",
       "    <tr>\n",
       "      <th>0</th>\n",
       "      <td>0</td>\n",
       "      <td>32639</td>\n",
       "      <td>160</td>\n",
       "      <td>babb</td>\n",
       "      <td>distant-16k/speech/test/rm4/babb/sp4899/Lab41-...</td>\n",
       "      <td>F</td>\n",
       "      <td>1</td>\n",
       "      <td>Lab41-SRI-VOiCES-rm4-babb-sp4899-ch032639-sg00...</td>\n",
       "      <td>rm4</td>\n",
       "      <td>29</td>\n",
       "      <td>...</td>\n",
       "      <td>4899</td>\n",
       "      <td>and i got on with the lesson very badly i am s...</td>\n",
       "      <td>255040</td>\n",
       "      <td>16000</td>\n",
       "      <td>15.940</td>\n",
       "      <td>255040</td>\n",
       "      <td>16000</td>\n",
       "      <td>15.940</td>\n",
       "      <td>test</td>\n",
       "      <td>distant-16k/speech/test/rm4/babb/sp4899</td>\n",
       "    </tr>\n",
       "    <tr>\n",
       "      <th>1</th>\n",
       "      <td>1</td>\n",
       "      <td>32639</td>\n",
       "      <td>160</td>\n",
       "      <td>babb</td>\n",
       "      <td>distant-16k/speech/test/rm4/babb/sp4899/Lab41-...</td>\n",
       "      <td>F</td>\n",
       "      <td>5</td>\n",
       "      <td>Lab41-SRI-VOiCES-rm4-babb-sp4899-ch032639-sg00...</td>\n",
       "      <td>rm4</td>\n",
       "      <td>29</td>\n",
       "      <td>...</td>\n",
       "      <td>4899</td>\n",
       "      <td>and i got on with the lesson very badly i am s...</td>\n",
       "      <td>255040</td>\n",
       "      <td>16000</td>\n",
       "      <td>15.940</td>\n",
       "      <td>255040</td>\n",
       "      <td>16000</td>\n",
       "      <td>15.940</td>\n",
       "      <td>test</td>\n",
       "      <td>distant-16k/speech/test/rm4/babb/sp4899</td>\n",
       "    </tr>\n",
       "    <tr>\n",
       "      <th>2</th>\n",
       "      <td>2</td>\n",
       "      <td>32658</td>\n",
       "      <td>70</td>\n",
       "      <td>babb</td>\n",
       "      <td>distant-16k/speech/test/rm4/babb/sp4899/Lab41-...</td>\n",
       "      <td>F</td>\n",
       "      <td>5</td>\n",
       "      <td>Lab41-SRI-VOiCES-rm4-babb-sp4899-ch032658-sg00...</td>\n",
       "      <td>rm4</td>\n",
       "      <td>12</td>\n",
       "      <td>...</td>\n",
       "      <td>4899</td>\n",
       "      <td>and ran upstairs to put away the host of littl...</td>\n",
       "      <td>258000</td>\n",
       "      <td>16000</td>\n",
       "      <td>16.125</td>\n",
       "      <td>258000</td>\n",
       "      <td>16000</td>\n",
       "      <td>16.125</td>\n",
       "      <td>test</td>\n",
       "      <td>distant-16k/speech/test/rm4/babb/sp4899</td>\n",
       "    </tr>\n",
       "    <tr>\n",
       "      <th>3</th>\n",
       "      <td>3</td>\n",
       "      <td>32658</td>\n",
       "      <td>70</td>\n",
       "      <td>babb</td>\n",
       "      <td>distant-16k/speech/test/rm4/babb/sp4899/Lab41-...</td>\n",
       "      <td>F</td>\n",
       "      <td>1</td>\n",
       "      <td>Lab41-SRI-VOiCES-rm4-babb-sp4899-ch032658-sg00...</td>\n",
       "      <td>rm4</td>\n",
       "      <td>12</td>\n",
       "      <td>...</td>\n",
       "      <td>4899</td>\n",
       "      <td>and ran upstairs to put away the host of littl...</td>\n",
       "      <td>258000</td>\n",
       "      <td>16000</td>\n",
       "      <td>16.125</td>\n",
       "      <td>258000</td>\n",
       "      <td>16000</td>\n",
       "      <td>16.125</td>\n",
       "      <td>test</td>\n",
       "      <td>distant-16k/speech/test/rm4/babb/sp4899</td>\n",
       "    </tr>\n",
       "    <tr>\n",
       "      <th>4</th>\n",
       "      <td>4</td>\n",
       "      <td>130550</td>\n",
       "      <td>10</td>\n",
       "      <td>babb</td>\n",
       "      <td>distant-16k/speech/test/rm4/babb/sp1447/Lab41-...</td>\n",
       "      <td>F</td>\n",
       "      <td>1</td>\n",
       "      <td>Lab41-SRI-VOiCES-rm4-babb-sp1447-ch130550-sg00...</td>\n",
       "      <td>rm4</td>\n",
       "      <td>26</td>\n",
       "      <td>...</td>\n",
       "      <td>1447</td>\n",
       "      <td>he was inexhaustibly voluble</td>\n",
       "      <td>58720</td>\n",
       "      <td>16000</td>\n",
       "      <td>3.670</td>\n",
       "      <td>58720</td>\n",
       "      <td>16000</td>\n",
       "      <td>3.670</td>\n",
       "      <td>test</td>\n",
       "      <td>distant-16k/speech/test/rm4/babb/sp1447</td>\n",
       "    </tr>\n",
       "  </tbody>\n",
       "</table>\n",
       "<p>5 rows × 21 columns</p>\n",
       "</div>"
      ],
      "text/plain": [
       "   index  chapter  degrees distractor  \\\n",
       "0      0    32639      160       babb   \n",
       "1      1    32639      160       babb   \n",
       "2      2    32658       70       babb   \n",
       "3      3    32658       70       babb   \n",
       "4      4   130550       10       babb   \n",
       "\n",
       "                                     filename_origin gender  mic  \\\n",
       "0  distant-16k/speech/test/rm4/babb/sp4899/Lab41-...      F    1   \n",
       "1  distant-16k/speech/test/rm4/babb/sp4899/Lab41-...      F    5   \n",
       "2  distant-16k/speech/test/rm4/babb/sp4899/Lab41-...      F    5   \n",
       "3  distant-16k/speech/test/rm4/babb/sp4899/Lab41-...      F    1   \n",
       "4  distant-16k/speech/test/rm4/babb/sp1447/Lab41-...      F    1   \n",
       "\n",
       "                                          query_name room  segment  ...  \\\n",
       "0  Lab41-SRI-VOiCES-rm4-babb-sp4899-ch032639-sg00...  rm4       29  ...   \n",
       "1  Lab41-SRI-VOiCES-rm4-babb-sp4899-ch032639-sg00...  rm4       29  ...   \n",
       "2  Lab41-SRI-VOiCES-rm4-babb-sp4899-ch032658-sg00...  rm4       12  ...   \n",
       "3  Lab41-SRI-VOiCES-rm4-babb-sp4899-ch032658-sg00...  rm4       12  ...   \n",
       "4  Lab41-SRI-VOiCES-rm4-babb-sp1447-ch130550-sg00...  rm4       26  ...   \n",
       "\n",
       "  speaker                                         transcript noisy_length  \\\n",
       "0    4899  and i got on with the lesson very badly i am s...       255040   \n",
       "1    4899  and i got on with the lesson very badly i am s...       255040   \n",
       "2    4899  and ran upstairs to put away the host of littl...       258000   \n",
       "3    4899  and ran upstairs to put away the host of littl...       258000   \n",
       "4    1447                       he was inexhaustibly voluble        58720   \n",
       "\n",
       "   noisy_sr  noisy_time  source_length  source_sr  source_time  category  \\\n",
       "0     16000      15.940         255040      16000       15.940      test   \n",
       "1     16000      15.940         255040      16000       15.940      test   \n",
       "2     16000      16.125         258000      16000       16.125      test   \n",
       "3     16000      16.125         258000      16000       16.125      test   \n",
       "4     16000       3.670          58720      16000        3.670      test   \n",
       "\n",
       "                             folder_origin  \n",
       "0  distant-16k/speech/test/rm4/babb/sp4899  \n",
       "1  distant-16k/speech/test/rm4/babb/sp4899  \n",
       "2  distant-16k/speech/test/rm4/babb/sp4899  \n",
       "3  distant-16k/speech/test/rm4/babb/sp4899  \n",
       "4  distant-16k/speech/test/rm4/babb/sp1447  \n",
       "\n",
       "[5 rows x 21 columns]"
      ]
     },
     "execution_count": 12,
     "metadata": {},
     "output_type": "execute_result"
    }
   ],
   "source": [
    "df_origin['folder_origin'] = df_origin['filename_origin'].apply(lambda x: os.path.dirname(x))\n",
    "df_origin.head()"
   ]
  },
  {
   "cell_type": "code",
   "execution_count": 13,
   "metadata": {},
   "outputs": [
    {
     "data": {
      "text/plain": [
       "{'distant-16k/speech/test/rm4/babb/sp0303',\n",
       " 'distant-16k/speech/test/rm4/babb/sp0606',\n",
       " 'distant-16k/speech/test/rm4/babb/sp0718',\n",
       " 'distant-16k/speech/test/rm4/babb/sp1390',\n",
       " 'distant-16k/speech/test/rm4/babb/sp1447',\n",
       " 'distant-16k/speech/test/rm4/babb/sp1482',\n",
       " 'distant-16k/speech/test/rm4/babb/sp1649',\n",
       " 'distant-16k/speech/test/rm4/babb/sp2397',\n",
       " 'distant-16k/speech/test/rm4/babb/sp2952',\n",
       " 'distant-16k/speech/test/rm4/babb/sp3070',\n",
       " 'distant-16k/speech/test/rm4/babb/sp4899',\n",
       " 'distant-16k/speech/test/rm4/babb/sp6550',\n",
       " 'distant-16k/speech/test/rm4/babb/sp8419'}"
      ]
     },
     "execution_count": 13,
     "metadata": {},
     "output_type": "execute_result"
    }
   ],
   "source": [
    "set(df_origin['filename_origin'].apply(lambda x: os.path.dirname(x)))"
   ]
  },
  {
   "cell_type": "code",
   "execution_count": 14,
   "metadata": {},
   "outputs": [],
   "source": [
    "def replace_first_folder(path, new_root):\n",
    "    parts = path.split('/')  # Split the path into parts\n",
    "    if len(parts) > 1:  # Check if there are enough parts to replace\n",
    "        parts[0] = new_root  # Replace the first part with new_root\n",
    "        return '/'.join(parts)  # Join the parts back into a path\n",
    "    else:\n",
    "        return new_root  # If there's only one part, return the new_root\n",
    "\n",
    "def read_signal(path):\n",
    "    signal, sr = librosa.load(path, sr=None)  # Load the file with its original sampling rate\n",
    "    return signal, sr\n",
    "\n",
    "def save_segment(signal, sr, start_time, end_time, save_path):\n",
    "    segment = signal[int(start_time * sr):int(end_time * sr)]\n",
    "    sf.write(save_path, segment, sr)\n",
    "\n",
    "def process_file(file_path, new_path, segment_length=5, denoise=True):\n",
    "    signal, sr = read_signal(file_path)\n",
    "    # Apply denoise before cutting the segments\n",
    "    if denoise:\n",
    "        signal = reduce_noise(signal, sr)\n",
    "    file_name = os.path.basename(file_path)\n",
    "    duration = len(signal) / sr\n",
    "    ls_file_paths = []\n",
    "\n",
    "    if duration > segment_length:\n",
    "        num_segments = int(duration // segment_length)\n",
    "        for i in range(num_segments):\n",
    "            segment_filename = f\"{os.path.splitext(file_name)[0]}_segment_{i}.wav\"\n",
    "            new_file_path = os.path.join(new_path, segment_filename)\n",
    "            save_segment(signal, sr, i * segment_length, (i + 1) * segment_length, new_file_path)\n",
    "            ls_file_paths.append(segment_filename)\n",
    "        # Handle the last segment if there is a remainder\n",
    "        if duration % segment_length > 0:\n",
    "            segment_filename = f\"{os.path.splitext(file_name)[0]}_segment_{num_segments}.wav\"\n",
    "            new_file_path = os.path.join(new_path, segment_filename)\n",
    "            save_segment(signal, sr, num_segments * segment_length, duration, new_file_path)\n",
    "            ls_file_paths.append(segment_filename)\n",
    "    else:\n",
    "        # If the file is shorter than or equal to the segment_length, copy it to the new_path\n",
    "        new_file_path = os.path.join(new_path, file_name)\n",
    "        sf.write(new_file_path, signal, sr)\n",
    "        ls_file_paths.append(file_name)\n",
    "    return ls_file_paths\n",
    "\n",
    "def process_directory(path, new_path, segment_length=5, denoise=True):\n",
    "    # Create the new_path directory if it does not exist\n",
    "    if not os.path.exists(new_path):\n",
    "        os.makedirs(new_path)\n",
    "\n",
    "    # List all .wav files in the given directory\n",
    "    files = [f for f in os.listdir(path) if os.path.isfile(os.path.join(path, f)) and f.endswith('.wav')]\n",
    "\n",
    "    ls_new_files = []\n",
    "    # Process each file\n",
    "    for file in files:\n",
    "        file_path = os.path.join(path, file)\n",
    "        ls_new_files += process_file(file_path, new_path, segment_length, denoise)\n",
    "    return ls_new_files"
   ]
  },
  {
   "cell_type": "code",
   "execution_count": 15,
   "metadata": {},
   "outputs": [
    {
     "data": {
      "text/plain": [
       "'./data/VOiCES_devkit/distant-16k/speech/test/rm4/babb/sp0303'"
      ]
     },
     "execution_count": 15,
     "metadata": {},
     "output_type": "execute_result"
    }
   ],
   "source": [
    "folder = 'distant-16k/speech/test/rm4/babb/sp0303'\n",
    "path = os.path.join(FILE_DIR, folder)\n",
    "path\n",
    "\n"
   ]
  },
  {
   "cell_type": "code",
   "execution_count": 16,
   "metadata": {},
   "outputs": [
    {
     "data": {
      "text/plain": [
       "['Lab41-SRI-VOiCES-rm4-babb-sp0303-ch123500-sg0023-mc01-stu-clo-dg090.wav',\n",
       " 'Lab41-SRI-VOiCES-rm4-babb-sp0303-ch123500-sg0023-mc05-stu-far-dg090.wav',\n",
       " 'Lab41-SRI-VOiCES-rm4-babb-sp0303-ch123507-sg0017-mc01-stu-clo-dg160.wav',\n",
       " 'Lab41-SRI-VOiCES-rm4-babb-sp0303-ch123507-sg0017-mc05-stu-far-dg160.wav']"
      ]
     },
     "execution_count": 16,
     "metadata": {},
     "output_type": "execute_result"
    }
   ],
   "source": [
    "os.listdir(path)"
   ]
  },
  {
   "cell_type": "code",
   "execution_count": 17,
   "metadata": {},
   "outputs": [
    {
     "data": {
      "text/plain": [
       "'5seconds-16k/speech/test/rm4/babb/sp0303'"
      ]
     },
     "execution_count": 17,
     "metadata": {},
     "output_type": "execute_result"
    }
   ],
   "source": [
    "replace_first_folder(folder, target_folder)"
   ]
  },
  {
   "cell_type": "code",
   "execution_count": 18,
   "metadata": {},
   "outputs": [
    {
     "name": "stdout",
     "output_type": "stream",
     "text": [
      "./data/VOiCES_devkit/5seconds-16k/speech/test/rm4/babb/sp0303\n"
     ]
    }
   ],
   "source": [
    "new_path = os.path.join(FILE_DIR, replace_first_folder(folder, target_folder))\n",
    "\n",
    "print(new_path)"
   ]
  },
  {
   "cell_type": "code",
   "execution_count": 19,
   "metadata": {},
   "outputs": [
    {
     "data": {
      "text/plain": [
       "'5seconds-16k/speech/test/rm4/babb/sp0303'"
      ]
     },
     "execution_count": 19,
     "metadata": {},
     "output_type": "execute_result"
    }
   ],
   "source": [
    "replace_first_folder(folder, target_folder)"
   ]
  },
  {
   "cell_type": "code",
   "execution_count": 20,
   "metadata": {},
   "outputs": [
    {
     "data": {
      "text/plain": [
       "['Lab41-SRI-VOiCES-rm4-babb-sp0303-ch123500-sg0023-mc01-stu-clo-dg090_segment_0.wav',\n",
       " 'Lab41-SRI-VOiCES-rm4-babb-sp0303-ch123500-sg0023-mc01-stu-clo-dg090_segment_1.wav',\n",
       " 'Lab41-SRI-VOiCES-rm4-babb-sp0303-ch123500-sg0023-mc01-stu-clo-dg090_segment_2.wav',\n",
       " 'Lab41-SRI-VOiCES-rm4-babb-sp0303-ch123500-sg0023-mc01-stu-clo-dg090_segment_3.wav',\n",
       " 'Lab41-SRI-VOiCES-rm4-babb-sp0303-ch123500-sg0023-mc05-stu-far-dg090_segment_0.wav',\n",
       " 'Lab41-SRI-VOiCES-rm4-babb-sp0303-ch123500-sg0023-mc05-stu-far-dg090_segment_1.wav',\n",
       " 'Lab41-SRI-VOiCES-rm4-babb-sp0303-ch123500-sg0023-mc05-stu-far-dg090_segment_2.wav',\n",
       " 'Lab41-SRI-VOiCES-rm4-babb-sp0303-ch123500-sg0023-mc05-stu-far-dg090_segment_3.wav',\n",
       " 'Lab41-SRI-VOiCES-rm4-babb-sp0303-ch123507-sg0017-mc01-stu-clo-dg160_segment_0.wav',\n",
       " 'Lab41-SRI-VOiCES-rm4-babb-sp0303-ch123507-sg0017-mc01-stu-clo-dg160_segment_1.wav',\n",
       " 'Lab41-SRI-VOiCES-rm4-babb-sp0303-ch123507-sg0017-mc01-stu-clo-dg160_segment_2.wav',\n",
       " 'Lab41-SRI-VOiCES-rm4-babb-sp0303-ch123507-sg0017-mc01-stu-clo-dg160_segment_3.wav',\n",
       " 'Lab41-SRI-VOiCES-rm4-babb-sp0303-ch123507-sg0017-mc05-stu-far-dg160_segment_0.wav',\n",
       " 'Lab41-SRI-VOiCES-rm4-babb-sp0303-ch123507-sg0017-mc05-stu-far-dg160_segment_1.wav',\n",
       " 'Lab41-SRI-VOiCES-rm4-babb-sp0303-ch123507-sg0017-mc05-stu-far-dg160_segment_2.wav',\n",
       " 'Lab41-SRI-VOiCES-rm4-babb-sp0303-ch123507-sg0017-mc05-stu-far-dg160_segment_3.wav']"
      ]
     },
     "execution_count": 20,
     "metadata": {},
     "output_type": "execute_result"
    }
   ],
   "source": [
    "process_directory(os.path.join(FILE_DIR,folder), new_path, segment_length=5,denoise=True)"
   ]
  },
  {
   "cell_type": "code",
   "execution_count": 22,
   "metadata": {},
   "outputs": [
    {
     "name": "stderr",
     "output_type": "stream",
     "text": [
      "100%|██████████| 4800/4800 [30:22<00:00,  2.63it/s]\n"
     ]
    }
   ],
   "source": [
    "ls_new_records = []\n",
    "\n",
    "for folder in tqdm(set(df_raw['filename'].apply(lambda x: os.path.dirname(x)))):\n",
    "    new_record = {}\n",
    "    new_record['origin_folder'] = folder\n",
    "    new_record['speaker'] = folder.split('/sp')[-1]\n",
    "    new_record['distractor'] = folder.split('/')[-2]\n",
    "    new_record['room'] = folder.split('/')[-3]\n",
    "    new_record['category'] = re.search(r'speech/([^/]*)', folder).group(1)\n",
    "    new_folder = replace_first_folder(folder,target_folder)\n",
    "    \n",
    "    old_path = os.path.join(FILE_DIR,folder)\n",
    "    new_path = os.path.join(FILE_DIR, new_folder)\n",
    "    ls_new_files = process_directory(old_path, new_path, segment_length=5, denoise=True)\n",
    "    for new_file in ls_new_files:\n",
    "        new_record['filename'] = os.path.join(new_folder,new_file).replace('\\\\','/')\n",
    "        ls_new_records.append(new_record)\n"
   ]
  },
  {
   "cell_type": "code",
   "execution_count": 23,
   "metadata": {},
   "outputs": [
    {
     "data": {
      "text/html": [
       "<div>\n",
       "<style scoped>\n",
       "    .dataframe tbody tr th:only-of-type {\n",
       "        vertical-align: middle;\n",
       "    }\n",
       "\n",
       "    .dataframe tbody tr th {\n",
       "        vertical-align: top;\n",
       "    }\n",
       "\n",
       "    .dataframe thead th {\n",
       "        text-align: right;\n",
       "    }\n",
       "</style>\n",
       "<table border=\"1\" class=\"dataframe\">\n",
       "  <thead>\n",
       "    <tr style=\"text-align: right;\">\n",
       "      <th></th>\n",
       "      <th>origin_folder</th>\n",
       "      <th>speaker</th>\n",
       "      <th>distractor</th>\n",
       "      <th>room</th>\n",
       "      <th>category</th>\n",
       "      <th>filename</th>\n",
       "    </tr>\n",
       "  </thead>\n",
       "  <tbody>\n",
       "    <tr>\n",
       "      <th>0</th>\n",
       "      <td>distant-16k/speech/test/rm2/musi/sp6643</td>\n",
       "      <td>6643</td>\n",
       "      <td>musi</td>\n",
       "      <td>rm2</td>\n",
       "      <td>test</td>\n",
       "      <td>5seconds-16k/speech/test/rm2/musi/sp6643/Lab41...</td>\n",
       "    </tr>\n",
       "    <tr>\n",
       "      <th>1</th>\n",
       "      <td>distant-16k/speech/test/rm2/musi/sp6643</td>\n",
       "      <td>6643</td>\n",
       "      <td>musi</td>\n",
       "      <td>rm2</td>\n",
       "      <td>test</td>\n",
       "      <td>5seconds-16k/speech/test/rm2/musi/sp6643/Lab41...</td>\n",
       "    </tr>\n",
       "    <tr>\n",
       "      <th>2</th>\n",
       "      <td>distant-16k/speech/test/rm2/musi/sp6643</td>\n",
       "      <td>6643</td>\n",
       "      <td>musi</td>\n",
       "      <td>rm2</td>\n",
       "      <td>test</td>\n",
       "      <td>5seconds-16k/speech/test/rm2/musi/sp6643/Lab41...</td>\n",
       "    </tr>\n",
       "    <tr>\n",
       "      <th>3</th>\n",
       "      <td>distant-16k/speech/test/rm2/musi/sp6643</td>\n",
       "      <td>6643</td>\n",
       "      <td>musi</td>\n",
       "      <td>rm2</td>\n",
       "      <td>test</td>\n",
       "      <td>5seconds-16k/speech/test/rm2/musi/sp6643/Lab41...</td>\n",
       "    </tr>\n",
       "    <tr>\n",
       "      <th>4</th>\n",
       "      <td>distant-16k/speech/test/rm2/musi/sp6643</td>\n",
       "      <td>6643</td>\n",
       "      <td>musi</td>\n",
       "      <td>rm2</td>\n",
       "      <td>test</td>\n",
       "      <td>5seconds-16k/speech/test/rm2/musi/sp6643/Lab41...</td>\n",
       "    </tr>\n",
       "    <tr>\n",
       "      <th>...</th>\n",
       "      <td>...</td>\n",
       "      <td>...</td>\n",
       "      <td>...</td>\n",
       "      <td>...</td>\n",
       "      <td>...</td>\n",
       "      <td>...</td>\n",
       "    </tr>\n",
       "    <tr>\n",
       "      <th>74459</th>\n",
       "      <td>distant-16k/speech/test/rm3/tele/sp0166</td>\n",
       "      <td>0166</td>\n",
       "      <td>tele</td>\n",
       "      <td>rm3</td>\n",
       "      <td>test</td>\n",
       "      <td>5seconds-16k/speech/test/rm3/tele/sp0166/Lab41...</td>\n",
       "    </tr>\n",
       "    <tr>\n",
       "      <th>74460</th>\n",
       "      <td>distant-16k/speech/test/rm3/tele/sp0166</td>\n",
       "      <td>0166</td>\n",
       "      <td>tele</td>\n",
       "      <td>rm3</td>\n",
       "      <td>test</td>\n",
       "      <td>5seconds-16k/speech/test/rm3/tele/sp0166/Lab41...</td>\n",
       "    </tr>\n",
       "    <tr>\n",
       "      <th>74461</th>\n",
       "      <td>distant-16k/speech/test/rm3/tele/sp0166</td>\n",
       "      <td>0166</td>\n",
       "      <td>tele</td>\n",
       "      <td>rm3</td>\n",
       "      <td>test</td>\n",
       "      <td>5seconds-16k/speech/test/rm3/tele/sp0166/Lab41...</td>\n",
       "    </tr>\n",
       "    <tr>\n",
       "      <th>74462</th>\n",
       "      <td>distant-16k/speech/test/rm3/tele/sp0166</td>\n",
       "      <td>0166</td>\n",
       "      <td>tele</td>\n",
       "      <td>rm3</td>\n",
       "      <td>test</td>\n",
       "      <td>5seconds-16k/speech/test/rm3/tele/sp0166/Lab41...</td>\n",
       "    </tr>\n",
       "    <tr>\n",
       "      <th>74463</th>\n",
       "      <td>distant-16k/speech/test/rm3/tele/sp0166</td>\n",
       "      <td>0166</td>\n",
       "      <td>tele</td>\n",
       "      <td>rm3</td>\n",
       "      <td>test</td>\n",
       "      <td>5seconds-16k/speech/test/rm3/tele/sp0166/Lab41...</td>\n",
       "    </tr>\n",
       "  </tbody>\n",
       "</table>\n",
       "<p>74464 rows × 6 columns</p>\n",
       "</div>"
      ],
      "text/plain": [
       "                                 origin_folder speaker distractor room  \\\n",
       "0      distant-16k/speech/test/rm2/musi/sp6643    6643       musi  rm2   \n",
       "1      distant-16k/speech/test/rm2/musi/sp6643    6643       musi  rm2   \n",
       "2      distant-16k/speech/test/rm2/musi/sp6643    6643       musi  rm2   \n",
       "3      distant-16k/speech/test/rm2/musi/sp6643    6643       musi  rm2   \n",
       "4      distant-16k/speech/test/rm2/musi/sp6643    6643       musi  rm2   \n",
       "...                                        ...     ...        ...  ...   \n",
       "74459  distant-16k/speech/test/rm3/tele/sp0166    0166       tele  rm3   \n",
       "74460  distant-16k/speech/test/rm3/tele/sp0166    0166       tele  rm3   \n",
       "74461  distant-16k/speech/test/rm3/tele/sp0166    0166       tele  rm3   \n",
       "74462  distant-16k/speech/test/rm3/tele/sp0166    0166       tele  rm3   \n",
       "74463  distant-16k/speech/test/rm3/tele/sp0166    0166       tele  rm3   \n",
       "\n",
       "      category                                           filename  \n",
       "0         test  5seconds-16k/speech/test/rm2/musi/sp6643/Lab41...  \n",
       "1         test  5seconds-16k/speech/test/rm2/musi/sp6643/Lab41...  \n",
       "2         test  5seconds-16k/speech/test/rm2/musi/sp6643/Lab41...  \n",
       "3         test  5seconds-16k/speech/test/rm2/musi/sp6643/Lab41...  \n",
       "4         test  5seconds-16k/speech/test/rm2/musi/sp6643/Lab41...  \n",
       "...        ...                                                ...  \n",
       "74459     test  5seconds-16k/speech/test/rm3/tele/sp0166/Lab41...  \n",
       "74460     test  5seconds-16k/speech/test/rm3/tele/sp0166/Lab41...  \n",
       "74461     test  5seconds-16k/speech/test/rm3/tele/sp0166/Lab41...  \n",
       "74462     test  5seconds-16k/speech/test/rm3/tele/sp0166/Lab41...  \n",
       "74463     test  5seconds-16k/speech/test/rm3/tele/sp0166/Lab41...  \n",
       "\n",
       "[74464 rows x 6 columns]"
      ]
     },
     "execution_count": 23,
     "metadata": {},
     "output_type": "execute_result"
    }
   ],
   "source": [
    "df_5s = pd.DataFrame(ls_new_records)\n",
    "df_5s"
   ]
  },
  {
   "cell_type": "code",
   "execution_count": 32,
   "metadata": {},
   "outputs": [],
   "source": [
    "df_5s.to_pickle(os.path.join(DATA_ADDRESS,'df_5s.pkl'))"
   ]
  },
  {
   "cell_type": "markdown",
   "metadata": {},
   "source": [
    "## Preprocess Test Data"
   ]
  },
  {
   "cell_type": "code",
   "execution_count": 24,
   "metadata": {},
   "outputs": [],
   "source": [
    "# util.py\n",
    "\n",
    "def read_signal(path):\n",
    "    signal, sr = librosa.load(path)\n",
    "    return signal, sr\n",
    "\n",
    "def save_pickle(filename,obj):\n",
    "    with open(filename, 'wb') as f:\n",
    "        pickle.dump(obj, f)\n",
    "\n",
    "def load_pickle(filename):\n",
    "    with open(filename, 'rb') as f:\n",
    "        obj = pickle.load(f)\n",
    "    return obj"
   ]
  },
  {
   "cell_type": "code",
   "execution_count": 25,
   "metadata": {},
   "outputs": [],
   "source": [
    "\n",
    "def process_audios_to_file(*,ls_files,save_dir,n_interval=1000,n_length=15, n_fft=2048, n_mels=128, n_mfcc=20, denoise=False):\n",
    "    n_count = 0\n",
    "    n_start = 0\n",
    "    ls_spectrogram = []\n",
    "    ls_mel = []\n",
    "    ls_mfcc = []\n",
    "\n",
    "    \n",
    "    for i, file_name in enumerate(tqdm(ls_files)):\n",
    "        n_count += 1\n",
    "        # print(i,file_name)\n",
    "        s,sr = read_signal(os.path.join(FILE_DIR,file_name))\n",
    "        spectrogram, melspectrogram, mfcc = process_audio(s,sr, length=n_length, n_fft=n_fft, n_mels=n_mels, n_mfcc=n_mfcc,denoise=denoise)\n",
    "        ls_spectrogram.append(spectrogram)\n",
    "        ls_mel.append(melspectrogram)\n",
    "        ls_mfcc.append(mfcc)\n",
    "\n",
    "        if n_count>= n_interval:\n",
    "            # print(str(n)+'-'+str(i))\n",
    "\n",
    "            # save to files \n",
    "            save_pickle(save_dir+f'spectrogram_len{n_length}_fft{n_fft}_mels{n_mels}_mfcc{n_mfcc}_{str(n_start)}-{str(i)}.pkl',np.array(ls_spectrogram))\n",
    "            save_pickle(save_dir+f'mel_len{n_length}_fft{n_fft}_mels{n_mels}_mfcc{n_mfcc}_{str(n_start)}-{str(i)}.pkl',np.array(ls_mel))\n",
    "            save_pickle(save_dir+f'mfcc_len{n_length}_fft{n_fft}_mels{n_mels}_mfcc{n_mfcc}_{str(n_start)}-{str(i)}.pkl',np.array(ls_mfcc))\n",
    "\n",
    "            n_start=i+1\n",
    "            # reset list\n",
    "            n_count = 0\n",
    "            ls_spectrogram.clear()\n",
    "            ls_mel.clear()\n",
    "            ls_mfcc.clear()\n",
    "    else:\n",
    "        save_pickle(save_dir+f'spectrogram_len{n_length}_fft{n_fft}_mels{n_mels}_mfcc{n_mfcc}_{str(n_start)}-{str(i)}.pkl',np.array(ls_spectrogram))\n",
    "        save_pickle(save_dir+f'mel_len{n_length}_fft{n_fft}_mels{n_mels}_mfcc{n_mfcc}_{str(n_start)}-{str(i)}.pkl',np.array(ls_mel))\n",
    "        save_pickle(save_dir+f'mfcc_len{n_length}_fft{n_fft}_mels{n_mels}_mfcc{n_mfcc}_{str(n_start)}-{str(i)}.pkl',np.array(ls_mfcc))\n",
    "\n",
    "# Be ware of the index numbers if use concurrent for loop"
   ]
  },
  {
   "cell_type": "code",
   "execution_count": 26,
   "metadata": {},
   "outputs": [],
   "source": [
    "# set parameters\n",
    "n_interval = 500\n",
    "\n",
    "n_length = 5\n",
    "n_fft = 2048\n",
    "n_mels = 128\n",
    "n_mfcc = 17\n",
    "\n"
   ]
  },
  {
   "cell_type": "code",
   "execution_count": 27,
   "metadata": {},
   "outputs": [
    {
     "name": "stderr",
     "output_type": "stream",
     "text": [
      "100%|██████████| 24800/24800 [04:05<00:00, 100.97it/s]\n"
     ]
    }
   ],
   "source": [
    "# Process test files\n",
    "save_dir = data_address+'preprocessed/test/'\n",
    "process_audios_to_file(ls_files = df_5s[df_5s['category']=='test']['filename'],\n",
    "save_dir=save_dir,\n",
    "n_interval=n_interval,n_length=n_length, n_fft=n_fft, n_mels=n_mels, n_mfcc=n_mfcc)"
   ]
  },
  {
   "cell_type": "code",
   "execution_count": 28,
   "metadata": {},
   "outputs": [
    {
     "name": "stderr",
     "output_type": "stream",
     "text": [
      "100%|██████████| 49664/49664 [08:15<00:00, 100.29it/s]\n"
     ]
    }
   ],
   "source": [
    "# Process train files\n",
    "save_dir = data_address+'preprocessed/train/'\n",
    "process_audios_to_file(ls_files = df_5s[df_5s['category']=='train']['filename'],\n",
    "save_dir=save_dir,\n",
    "n_interval=n_interval,n_length=n_length, n_fft=n_fft, n_mels=n_mels, n_mfcc=n_mfcc)"
   ]
  },
  {
   "cell_type": "markdown",
   "metadata": {},
   "source": [
    "## Check load data"
   ]
  },
  {
   "cell_type": "code",
   "execution_count": 29,
   "metadata": {},
   "outputs": [],
   "source": [
    "save_dir = data_address+'preprocessed/test/'\n",
    "data_mfcc = load_pickle(save_dir + 'mfcc_len5_fft2048_mels128_mfcc17_0-499.pkl')"
   ]
  },
  {
   "cell_type": "code",
   "execution_count": 31,
   "metadata": {},
   "outputs": [
    {
     "data": {
      "text/plain": [
       "(500, 17, 216)"
      ]
     },
     "execution_count": 31,
     "metadata": {},
     "output_type": "execute_result"
    }
   ],
   "source": [
    "data_mfcc.shape"
   ]
  },
  {
   "cell_type": "code",
   "execution_count": 33,
   "metadata": {},
   "outputs": [
    {
     "data": {
      "text/plain": [
       "(17, 216)"
      ]
     },
     "execution_count": 33,
     "metadata": {},
     "output_type": "execute_result"
    }
   ],
   "source": [
    "data_mfcc[0].shape"
   ]
  },
  {
   "cell_type": "code",
   "execution_count": 34,
   "metadata": {},
   "outputs": [],
   "source": [
    "data_mel = load_pickle(save_dir + 'mel_len5_fft2048_mels128_mfcc17_0-499.pkl')"
   ]
  },
  {
   "cell_type": "code",
   "execution_count": 35,
   "metadata": {},
   "outputs": [
    {
     "data": {
      "text/plain": [
       "(500, 128, 216)"
      ]
     },
     "execution_count": 35,
     "metadata": {},
     "output_type": "execute_result"
    }
   ],
   "source": [
    "data_mel.shape"
   ]
  },
  {
   "cell_type": "code",
   "execution_count": 36,
   "metadata": {},
   "outputs": [],
   "source": [
    "data_spec = load_pickle(save_dir + 'spectrogram_len5_fft2048_mels128_mfcc17_0-499.pkl')"
   ]
  },
  {
   "cell_type": "code",
   "execution_count": 37,
   "metadata": {},
   "outputs": [
    {
     "data": {
      "text/plain": [
       "(500, 1025, 216)"
      ]
     },
     "execution_count": 37,
     "metadata": {},
     "output_type": "execute_result"
    }
   ],
   "source": [
    "data_spec.shape"
   ]
  },
  {
   "cell_type": "code",
   "execution_count": null,
   "metadata": {},
   "outputs": [],
   "source": []
  }
 ],
 "metadata": {
  "kernelspec": {
   "display_name": "Python 3",
   "language": "python",
   "name": "python3"
  },
  "language_info": {
   "codemirror_mode": {
    "name": "ipython",
    "version": 3
   },
   "file_extension": ".py",
   "mimetype": "text/x-python",
   "name": "python",
   "nbconvert_exporter": "python",
   "pygments_lexer": "ipython3",
   "version": "3.10.13"
  }
 },
 "nbformat": 4,
 "nbformat_minor": 2
}
