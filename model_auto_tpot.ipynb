{
 "cells": [
  {
   "cell_type": "code",
   "execution_count": 11,
   "metadata": {},
   "outputs": [],
   "source": [
    "import pandas as pd\n",
    "import numpy as np\n",
    "import pickle\n",
    "\n",
    "from tqdm import tqdm\n",
    "tqdm.pandas()\n",
    "\n",
    "import os\n",
    "from pprint import pprint"
   ]
  },
  {
   "cell_type": "code",
   "execution_count": 12,
   "metadata": {},
   "outputs": [
    {
     "data": {
      "text/plain": [
       "'./data/'"
      ]
     },
     "execution_count": 12,
     "metadata": {},
     "output_type": "execute_result"
    }
   ],
   "source": [
    "from util import data_address\n",
    "data_address "
   ]
  },
  {
   "cell_type": "code",
   "execution_count": 13,
   "metadata": {},
   "outputs": [],
   "source": [
    "FILE_DIR = data_address+\"VOiCES_devkit/\"\n",
    "TRAIN_DIR = data_address+'preprocessed/train/'\n"
   ]
  },
  {
   "cell_type": "markdown",
   "metadata": {},
   "source": [
    "## Load data"
   ]
  },
  {
   "cell_type": "code",
   "execution_count": 14,
   "metadata": {},
   "outputs": [],
   "source": [
    "def read_signal(filename):\n",
    "    signal, sr = librosa.load(FILE_DIR+filename)\n",
    "    return signal, sr\n",
    "\n",
    "def load_pickle(filename):\n",
    "    with open(filename, 'rb') as f:\n",
    "        obj = pickle.load(f)\n",
    "    return obj\n",
    "    \n",
    "def load_train(train_files):\n",
    "    ls_X_trian = []\n",
    "    for train_file in tqdm(train_files):\n",
    "        file_dir = os.path.join(TRAIN_DIR, train_file)\n",
    "        ls_X_trian.append(load_pickle(file_dir))\n",
    "    return np.concatenate(ls_X_trian, axis=0)"
   ]
  },
  {
   "cell_type": "markdown",
   "metadata": {},
   "source": [
    "### X_train"
   ]
  },
  {
   "cell_type": "code",
   "execution_count": 15,
   "metadata": {},
   "outputs": [
    {
     "name": "stdout",
     "output_type": "stream",
     "text": [
      "['mel_len15_fft2048_mels128_mfcc17_0-499.pkl',\n",
      " 'mel_len15_fft2048_mels128_mfcc17_1000-1499.pkl',\n",
      " 'mel_len15_fft2048_mels128_mfcc17_10000-10499.pkl',\n",
      " 'mel_len15_fft2048_mels128_mfcc17_10500-10999.pkl',\n",
      " 'mel_len15_fft2048_mels128_mfcc17_11000-11499.pkl',\n",
      " 'mel_len15_fft2048_mels128_mfcc17_11500-11999.pkl',\n",
      " 'mel_len15_fft2048_mels128_mfcc17_12000-12499.pkl',\n",
      " 'mel_len15_fft2048_mels128_mfcc17_12500-12799.pkl',\n",
      " 'mel_len15_fft2048_mels128_mfcc17_1500-1999.pkl',\n",
      " 'mel_len15_fft2048_mels128_mfcc17_2000-2499.pkl',\n",
      " 'mel_len15_fft2048_mels128_mfcc17_2500-2999.pkl',\n",
      " 'mel_len15_fft2048_mels128_mfcc17_3000-3499.pkl',\n",
      " 'mel_len15_fft2048_mels128_mfcc17_3500-3999.pkl',\n",
      " 'mel_len15_fft2048_mels128_mfcc17_4000-4499.pkl',\n",
      " 'mel_len15_fft2048_mels128_mfcc17_4500-4999.pkl',\n",
      " 'mel_len15_fft2048_mels128_mfcc17_500-999.pkl',\n",
      " 'mel_len15_fft2048_mels128_mfcc17_5000-5499.pkl',\n",
      " 'mel_len15_fft2048_mels128_mfcc17_5500-5999.pkl',\n",
      " 'mel_len15_fft2048_mels128_mfcc17_6000-6499.pkl',\n",
      " 'mel_len15_fft2048_mels128_mfcc17_6500-6999.pkl',\n",
      " 'mel_len15_fft2048_mels128_mfcc17_7000-7499.pkl',\n",
      " 'mel_len15_fft2048_mels128_mfcc17_7500-7999.pkl',\n",
      " 'mel_len15_fft2048_mels128_mfcc17_8000-8499.pkl',\n",
      " 'mel_len15_fft2048_mels128_mfcc17_8500-8999.pkl',\n",
      " 'mel_len15_fft2048_mels128_mfcc17_9000-9499.pkl',\n",
      " 'mel_len15_fft2048_mels128_mfcc17_9500-9999.pkl',\n",
      " 'mfcc_len15_fft2048_mels128_mfcc17_0-499.pkl',\n",
      " 'mfcc_len15_fft2048_mels128_mfcc17_1000-1499.pkl',\n",
      " 'mfcc_len15_fft2048_mels128_mfcc17_10000-10499.pkl',\n",
      " 'mfcc_len15_fft2048_mels128_mfcc17_10500-10999.pkl',\n",
      " 'mfcc_len15_fft2048_mels128_mfcc17_11000-11499.pkl',\n",
      " 'mfcc_len15_fft2048_mels128_mfcc17_11500-11999.pkl',\n",
      " 'mfcc_len15_fft2048_mels128_mfcc17_12000-12499.pkl',\n",
      " 'mfcc_len15_fft2048_mels128_mfcc17_12500-12799.pkl',\n",
      " 'mfcc_len15_fft2048_mels128_mfcc17_1500-1999.pkl',\n",
      " 'mfcc_len15_fft2048_mels128_mfcc17_2000-2499.pkl',\n",
      " 'mfcc_len15_fft2048_mels128_mfcc17_2500-2999.pkl',\n",
      " 'mfcc_len15_fft2048_mels128_mfcc17_3000-3499.pkl',\n",
      " 'mfcc_len15_fft2048_mels128_mfcc17_3500-3999.pkl',\n",
      " 'mfcc_len15_fft2048_mels128_mfcc17_4000-4499.pkl',\n",
      " 'mfcc_len15_fft2048_mels128_mfcc17_4500-4999.pkl',\n",
      " 'mfcc_len15_fft2048_mels128_mfcc17_500-999.pkl',\n",
      " 'mfcc_len15_fft2048_mels128_mfcc17_5000-5499.pkl',\n",
      " 'mfcc_len15_fft2048_mels128_mfcc17_5500-5999.pkl',\n",
      " 'mfcc_len15_fft2048_mels128_mfcc17_6000-6499.pkl',\n",
      " 'mfcc_len15_fft2048_mels128_mfcc17_6500-6999.pkl',\n",
      " 'mfcc_len15_fft2048_mels128_mfcc17_7000-7499.pkl',\n",
      " 'mfcc_len15_fft2048_mels128_mfcc17_7500-7999.pkl',\n",
      " 'mfcc_len15_fft2048_mels128_mfcc17_8000-8499.pkl',\n",
      " 'mfcc_len15_fft2048_mels128_mfcc17_8500-8999.pkl',\n",
      " 'mfcc_len15_fft2048_mels128_mfcc17_9000-9499.pkl',\n",
      " 'mfcc_len15_fft2048_mels128_mfcc17_9500-9999.pkl',\n",
      " 'spectrogram_len15_fft2048_mels128_mfcc17_0-499.pkl',\n",
      " 'spectrogram_len15_fft2048_mels128_mfcc17_1000-1499.pkl',\n",
      " 'spectrogram_len15_fft2048_mels128_mfcc17_10000-10499.pkl',\n",
      " 'spectrogram_len15_fft2048_mels128_mfcc17_10500-10999.pkl',\n",
      " 'spectrogram_len15_fft2048_mels128_mfcc17_11000-11499.pkl',\n",
      " 'spectrogram_len15_fft2048_mels128_mfcc17_11500-11999.pkl',\n",
      " 'spectrogram_len15_fft2048_mels128_mfcc17_12000-12499.pkl',\n",
      " 'spectrogram_len15_fft2048_mels128_mfcc17_12500-12799.pkl',\n",
      " 'spectrogram_len15_fft2048_mels128_mfcc17_1500-1999.pkl',\n",
      " 'spectrogram_len15_fft2048_mels128_mfcc17_2000-2499.pkl',\n",
      " 'spectrogram_len15_fft2048_mels128_mfcc17_2500-2999.pkl',\n",
      " 'spectrogram_len15_fft2048_mels128_mfcc17_3000-3499.pkl',\n",
      " 'spectrogram_len15_fft2048_mels128_mfcc17_3500-3999.pkl',\n",
      " 'spectrogram_len15_fft2048_mels128_mfcc17_4000-4499.pkl',\n",
      " 'spectrogram_len15_fft2048_mels128_mfcc17_4500-4999.pkl',\n",
      " 'spectrogram_len15_fft2048_mels128_mfcc17_500-999.pkl',\n",
      " 'spectrogram_len15_fft2048_mels128_mfcc17_5000-5499.pkl',\n",
      " 'spectrogram_len15_fft2048_mels128_mfcc17_5500-5999.pkl',\n",
      " 'spectrogram_len15_fft2048_mels128_mfcc17_6000-6499.pkl',\n",
      " 'spectrogram_len15_fft2048_mels128_mfcc17_6500-6999.pkl',\n",
      " 'spectrogram_len15_fft2048_mels128_mfcc17_7000-7499.pkl',\n",
      " 'spectrogram_len15_fft2048_mels128_mfcc17_7500-7999.pkl',\n",
      " 'spectrogram_len15_fft2048_mels128_mfcc17_8000-8499.pkl',\n",
      " 'spectrogram_len15_fft2048_mels128_mfcc17_8500-8999.pkl',\n",
      " 'spectrogram_len15_fft2048_mels128_mfcc17_9000-9499.pkl',\n",
      " 'spectrogram_len15_fft2048_mels128_mfcc17_9500-9999.pkl']\n"
     ]
    }
   ],
   "source": [
    "\n",
    "file_prefix = 'mfcc_len15_fft2048_mels128_mfcc17_'\n",
    "\n",
    "# List all files in the directory\n",
    "files = os.listdir(TRAIN_DIR)\n",
    "pprint(files)\n",
    "\n"
   ]
  },
  {
   "cell_type": "code",
   "execution_count": 16,
   "metadata": {},
   "outputs": [
    {
     "name": "stdout",
     "output_type": "stream",
     "text": [
      "['mfcc_len15_fft2048_mels128_mfcc17_0-499.pkl',\n",
      " 'mfcc_len15_fft2048_mels128_mfcc17_1000-1499.pkl',\n",
      " 'mfcc_len15_fft2048_mels128_mfcc17_10000-10499.pkl',\n",
      " 'mfcc_len15_fft2048_mels128_mfcc17_10500-10999.pkl',\n",
      " 'mfcc_len15_fft2048_mels128_mfcc17_11000-11499.pkl',\n",
      " 'mfcc_len15_fft2048_mels128_mfcc17_11500-11999.pkl',\n",
      " 'mfcc_len15_fft2048_mels128_mfcc17_12000-12499.pkl',\n",
      " 'mfcc_len15_fft2048_mels128_mfcc17_12500-12799.pkl',\n",
      " 'mfcc_len15_fft2048_mels128_mfcc17_1500-1999.pkl',\n",
      " 'mfcc_len15_fft2048_mels128_mfcc17_2000-2499.pkl',\n",
      " 'mfcc_len15_fft2048_mels128_mfcc17_2500-2999.pkl',\n",
      " 'mfcc_len15_fft2048_mels128_mfcc17_3000-3499.pkl',\n",
      " 'mfcc_len15_fft2048_mels128_mfcc17_3500-3999.pkl',\n",
      " 'mfcc_len15_fft2048_mels128_mfcc17_4000-4499.pkl',\n",
      " 'mfcc_len15_fft2048_mels128_mfcc17_4500-4999.pkl',\n",
      " 'mfcc_len15_fft2048_mels128_mfcc17_500-999.pkl',\n",
      " 'mfcc_len15_fft2048_mels128_mfcc17_5000-5499.pkl',\n",
      " 'mfcc_len15_fft2048_mels128_mfcc17_5500-5999.pkl',\n",
      " 'mfcc_len15_fft2048_mels128_mfcc17_6000-6499.pkl',\n",
      " 'mfcc_len15_fft2048_mels128_mfcc17_6500-6999.pkl',\n",
      " 'mfcc_len15_fft2048_mels128_mfcc17_7000-7499.pkl',\n",
      " 'mfcc_len15_fft2048_mels128_mfcc17_7500-7999.pkl',\n",
      " 'mfcc_len15_fft2048_mels128_mfcc17_8000-8499.pkl',\n",
      " 'mfcc_len15_fft2048_mels128_mfcc17_8500-8999.pkl',\n",
      " 'mfcc_len15_fft2048_mels128_mfcc17_9000-9499.pkl',\n",
      " 'mfcc_len15_fft2048_mels128_mfcc17_9500-9999.pkl']\n"
     ]
    }
   ],
   "source": [
    "# Filter files that start with the specified prefix\n",
    "train_files_mfcc = [file for file in files if file.startswith(file_prefix)]\n",
    "pprint(train_files_mfcc)"
   ]
  },
  {
   "cell_type": "code",
   "execution_count": 17,
   "metadata": {},
   "outputs": [
    {
     "name": "stderr",
     "output_type": "stream",
     "text": [
      "100%|██████████| 26/26 [00:00<00:00, 142.80it/s]\n"
     ]
    },
    {
     "data": {
      "text/plain": [
       "(12800, 17, 646)"
      ]
     },
     "execution_count": 17,
     "metadata": {},
     "output_type": "execute_result"
    }
   ],
   "source": [
    "X = load_train(train_files_mfcc)\n",
    "X.shape"
   ]
  },
  {
   "cell_type": "markdown",
   "metadata": {},
   "source": [
    "### y_train"
   ]
  },
  {
   "cell_type": "code",
   "execution_count": 18,
   "metadata": {},
   "outputs": [
    {
     "data": {
      "text/html": [
       "<div>\n",
       "<style scoped>\n",
       "    .dataframe tbody tr th:only-of-type {\n",
       "        vertical-align: middle;\n",
       "    }\n",
       "\n",
       "    .dataframe tbody tr th {\n",
       "        vertical-align: top;\n",
       "    }\n",
       "\n",
       "    .dataframe thead th {\n",
       "        text-align: right;\n",
       "    }\n",
       "</style>\n",
       "<table border=\"1\" class=\"dataframe\">\n",
       "  <thead>\n",
       "    <tr style=\"text-align: right;\">\n",
       "      <th></th>\n",
       "      <th>index</th>\n",
       "      <th>chapter</th>\n",
       "      <th>degrees</th>\n",
       "      <th>distractor</th>\n",
       "      <th>filename</th>\n",
       "      <th>gender</th>\n",
       "      <th>mic</th>\n",
       "      <th>query_name</th>\n",
       "      <th>room</th>\n",
       "      <th>segment</th>\n",
       "      <th>source</th>\n",
       "      <th>speaker</th>\n",
       "      <th>transcript</th>\n",
       "      <th>noisy_length</th>\n",
       "      <th>noisy_sr</th>\n",
       "      <th>noisy_time</th>\n",
       "      <th>source_length</th>\n",
       "      <th>source_sr</th>\n",
       "      <th>source_time</th>\n",
       "      <th>category</th>\n",
       "    </tr>\n",
       "  </thead>\n",
       "  <tbody>\n",
       "    <tr>\n",
       "      <th>0</th>\n",
       "      <td>0</td>\n",
       "      <td>32639</td>\n",
       "      <td>160</td>\n",
       "      <td>babb</td>\n",
       "      <td>distant-16k/speech/test/rm4/babb/sp4899/Lab41-...</td>\n",
       "      <td>F</td>\n",
       "      <td>1</td>\n",
       "      <td>Lab41-SRI-VOiCES-rm4-babb-sp4899-ch032639-sg00...</td>\n",
       "      <td>rm4</td>\n",
       "      <td>29</td>\n",
       "      <td>source-16k/test/sp4899/Lab41-SRI-VOiCES-src-sp...</td>\n",
       "      <td>4899</td>\n",
       "      <td>and i got on with the lesson very badly i am s...</td>\n",
       "      <td>255040</td>\n",
       "      <td>16000</td>\n",
       "      <td>15.940</td>\n",
       "      <td>255040</td>\n",
       "      <td>16000</td>\n",
       "      <td>15.940</td>\n",
       "      <td>test</td>\n",
       "    </tr>\n",
       "    <tr>\n",
       "      <th>1</th>\n",
       "      <td>1</td>\n",
       "      <td>32639</td>\n",
       "      <td>160</td>\n",
       "      <td>babb</td>\n",
       "      <td>distant-16k/speech/test/rm4/babb/sp4899/Lab41-...</td>\n",
       "      <td>F</td>\n",
       "      <td>5</td>\n",
       "      <td>Lab41-SRI-VOiCES-rm4-babb-sp4899-ch032639-sg00...</td>\n",
       "      <td>rm4</td>\n",
       "      <td>29</td>\n",
       "      <td>source-16k/test/sp4899/Lab41-SRI-VOiCES-src-sp...</td>\n",
       "      <td>4899</td>\n",
       "      <td>and i got on with the lesson very badly i am s...</td>\n",
       "      <td>255040</td>\n",
       "      <td>16000</td>\n",
       "      <td>15.940</td>\n",
       "      <td>255040</td>\n",
       "      <td>16000</td>\n",
       "      <td>15.940</td>\n",
       "      <td>test</td>\n",
       "    </tr>\n",
       "    <tr>\n",
       "      <th>2</th>\n",
       "      <td>2</td>\n",
       "      <td>32658</td>\n",
       "      <td>70</td>\n",
       "      <td>babb</td>\n",
       "      <td>distant-16k/speech/test/rm4/babb/sp4899/Lab41-...</td>\n",
       "      <td>F</td>\n",
       "      <td>5</td>\n",
       "      <td>Lab41-SRI-VOiCES-rm4-babb-sp4899-ch032658-sg00...</td>\n",
       "      <td>rm4</td>\n",
       "      <td>12</td>\n",
       "      <td>source-16k/test/sp4899/Lab41-SRI-VOiCES-src-sp...</td>\n",
       "      <td>4899</td>\n",
       "      <td>and ran upstairs to put away the host of littl...</td>\n",
       "      <td>258000</td>\n",
       "      <td>16000</td>\n",
       "      <td>16.125</td>\n",
       "      <td>258000</td>\n",
       "      <td>16000</td>\n",
       "      <td>16.125</td>\n",
       "      <td>test</td>\n",
       "    </tr>\n",
       "    <tr>\n",
       "      <th>3</th>\n",
       "      <td>3</td>\n",
       "      <td>32658</td>\n",
       "      <td>70</td>\n",
       "      <td>babb</td>\n",
       "      <td>distant-16k/speech/test/rm4/babb/sp4899/Lab41-...</td>\n",
       "      <td>F</td>\n",
       "      <td>1</td>\n",
       "      <td>Lab41-SRI-VOiCES-rm4-babb-sp4899-ch032658-sg00...</td>\n",
       "      <td>rm4</td>\n",
       "      <td>12</td>\n",
       "      <td>source-16k/test/sp4899/Lab41-SRI-VOiCES-src-sp...</td>\n",
       "      <td>4899</td>\n",
       "      <td>and ran upstairs to put away the host of littl...</td>\n",
       "      <td>258000</td>\n",
       "      <td>16000</td>\n",
       "      <td>16.125</td>\n",
       "      <td>258000</td>\n",
       "      <td>16000</td>\n",
       "      <td>16.125</td>\n",
       "      <td>test</td>\n",
       "    </tr>\n",
       "    <tr>\n",
       "      <th>4</th>\n",
       "      <td>4</td>\n",
       "      <td>130550</td>\n",
       "      <td>10</td>\n",
       "      <td>babb</td>\n",
       "      <td>distant-16k/speech/test/rm4/babb/sp1447/Lab41-...</td>\n",
       "      <td>F</td>\n",
       "      <td>1</td>\n",
       "      <td>Lab41-SRI-VOiCES-rm4-babb-sp1447-ch130550-sg00...</td>\n",
       "      <td>rm4</td>\n",
       "      <td>26</td>\n",
       "      <td>source-16k/test/sp1447/Lab41-SRI-VOiCES-src-sp...</td>\n",
       "      <td>1447</td>\n",
       "      <td>he was inexhaustibly voluble</td>\n",
       "      <td>58720</td>\n",
       "      <td>16000</td>\n",
       "      <td>3.670</td>\n",
       "      <td>58720</td>\n",
       "      <td>16000</td>\n",
       "      <td>3.670</td>\n",
       "      <td>test</td>\n",
       "    </tr>\n",
       "    <tr>\n",
       "      <th>...</th>\n",
       "      <td>...</td>\n",
       "      <td>...</td>\n",
       "      <td>...</td>\n",
       "      <td>...</td>\n",
       "      <td>...</td>\n",
       "      <td>...</td>\n",
       "      <td>...</td>\n",
       "      <td>...</td>\n",
       "      <td>...</td>\n",
       "      <td>...</td>\n",
       "      <td>...</td>\n",
       "      <td>...</td>\n",
       "      <td>...</td>\n",
       "      <td>...</td>\n",
       "      <td>...</td>\n",
       "      <td>...</td>\n",
       "      <td>...</td>\n",
       "      <td>...</td>\n",
       "      <td>...</td>\n",
       "      <td>...</td>\n",
       "    </tr>\n",
       "    <tr>\n",
       "      <th>19195</th>\n",
       "      <td>12795</td>\n",
       "      <td>162129</td>\n",
       "      <td>160</td>\n",
       "      <td>none</td>\n",
       "      <td>distant-16k/speech/train/rm4/none/sp2673/Lab41...</td>\n",
       "      <td>M</td>\n",
       "      <td>1</td>\n",
       "      <td>Lab41-SRI-VOiCES-rm4-none-sp2673-ch162129-sg00...</td>\n",
       "      <td>rm4</td>\n",
       "      <td>27</td>\n",
       "      <td>source-16k/train/sp2673/Lab41-SRI-VOiCES-src-s...</td>\n",
       "      <td>2673</td>\n",
       "      <td>and away with it we ought all to say if social...</td>\n",
       "      <td>239840</td>\n",
       "      <td>16000</td>\n",
       "      <td>14.990</td>\n",
       "      <td>239840</td>\n",
       "      <td>16000</td>\n",
       "      <td>14.990</td>\n",
       "      <td>train</td>\n",
       "    </tr>\n",
       "    <tr>\n",
       "      <th>19196</th>\n",
       "      <td>12796</td>\n",
       "      <td>75242</td>\n",
       "      <td>170</td>\n",
       "      <td>none</td>\n",
       "      <td>distant-16k/speech/train/rm4/none/sp1212/Lab41...</td>\n",
       "      <td>F</td>\n",
       "      <td>5</td>\n",
       "      <td>Lab41-SRI-VOiCES-rm4-none-sp1212-ch075242-sg00...</td>\n",
       "      <td>rm4</td>\n",
       "      <td>16</td>\n",
       "      <td>source-16k/train/sp1212/Lab41-SRI-VOiCES-src-s...</td>\n",
       "      <td>1212</td>\n",
       "      <td>and zip dropped from the boy's arms not into t...</td>\n",
       "      <td>269040</td>\n",
       "      <td>16000</td>\n",
       "      <td>16.815</td>\n",
       "      <td>269040</td>\n",
       "      <td>16000</td>\n",
       "      <td>16.815</td>\n",
       "      <td>train</td>\n",
       "    </tr>\n",
       "    <tr>\n",
       "      <th>19197</th>\n",
       "      <td>12797</td>\n",
       "      <td>75242</td>\n",
       "      <td>170</td>\n",
       "      <td>none</td>\n",
       "      <td>distant-16k/speech/train/rm4/none/sp1212/Lab41...</td>\n",
       "      <td>F</td>\n",
       "      <td>1</td>\n",
       "      <td>Lab41-SRI-VOiCES-rm4-none-sp1212-ch075242-sg00...</td>\n",
       "      <td>rm4</td>\n",
       "      <td>16</td>\n",
       "      <td>source-16k/train/sp1212/Lab41-SRI-VOiCES-src-s...</td>\n",
       "      <td>1212</td>\n",
       "      <td>and zip dropped from the boy's arms not into t...</td>\n",
       "      <td>269040</td>\n",
       "      <td>16000</td>\n",
       "      <td>16.815</td>\n",
       "      <td>269040</td>\n",
       "      <td>16000</td>\n",
       "      <td>16.815</td>\n",
       "      <td>train</td>\n",
       "    </tr>\n",
       "    <tr>\n",
       "      <th>19198</th>\n",
       "      <td>12798</td>\n",
       "      <td>14653</td>\n",
       "      <td>160</td>\n",
       "      <td>none</td>\n",
       "      <td>distant-16k/speech/train/rm4/none/sp1212/Lab41...</td>\n",
       "      <td>F</td>\n",
       "      <td>1</td>\n",
       "      <td>Lab41-SRI-VOiCES-rm4-none-sp1212-ch014653-sg00...</td>\n",
       "      <td>rm4</td>\n",
       "      <td>3</td>\n",
       "      <td>source-16k/train/sp1212/Lab41-SRI-VOiCES-src-s...</td>\n",
       "      <td>1212</td>\n",
       "      <td>for for the sake of my reputation i suggested ...</td>\n",
       "      <td>256080</td>\n",
       "      <td>16000</td>\n",
       "      <td>16.005</td>\n",
       "      <td>256080</td>\n",
       "      <td>16000</td>\n",
       "      <td>16.005</td>\n",
       "      <td>train</td>\n",
       "    </tr>\n",
       "    <tr>\n",
       "      <th>19199</th>\n",
       "      <td>12799</td>\n",
       "      <td>14653</td>\n",
       "      <td>160</td>\n",
       "      <td>none</td>\n",
       "      <td>distant-16k/speech/train/rm4/none/sp1212/Lab41...</td>\n",
       "      <td>F</td>\n",
       "      <td>5</td>\n",
       "      <td>Lab41-SRI-VOiCES-rm4-none-sp1212-ch014653-sg00...</td>\n",
       "      <td>rm4</td>\n",
       "      <td>3</td>\n",
       "      <td>source-16k/train/sp1212/Lab41-SRI-VOiCES-src-s...</td>\n",
       "      <td>1212</td>\n",
       "      <td>for for the sake of my reputation i suggested ...</td>\n",
       "      <td>256080</td>\n",
       "      <td>16000</td>\n",
       "      <td>16.005</td>\n",
       "      <td>256080</td>\n",
       "      <td>16000</td>\n",
       "      <td>16.005</td>\n",
       "      <td>train</td>\n",
       "    </tr>\n",
       "  </tbody>\n",
       "</table>\n",
       "<p>19200 rows × 20 columns</p>\n",
       "</div>"
      ],
      "text/plain": [
       "       index  chapter  degrees distractor  \\\n",
       "0          0    32639      160       babb   \n",
       "1          1    32639      160       babb   \n",
       "2          2    32658       70       babb   \n",
       "3          3    32658       70       babb   \n",
       "4          4   130550       10       babb   \n",
       "...      ...      ...      ...        ...   \n",
       "19195  12795   162129      160       none   \n",
       "19196  12796    75242      170       none   \n",
       "19197  12797    75242      170       none   \n",
       "19198  12798    14653      160       none   \n",
       "19199  12799    14653      160       none   \n",
       "\n",
       "                                                filename gender  mic  \\\n",
       "0      distant-16k/speech/test/rm4/babb/sp4899/Lab41-...      F    1   \n",
       "1      distant-16k/speech/test/rm4/babb/sp4899/Lab41-...      F    5   \n",
       "2      distant-16k/speech/test/rm4/babb/sp4899/Lab41-...      F    5   \n",
       "3      distant-16k/speech/test/rm4/babb/sp4899/Lab41-...      F    1   \n",
       "4      distant-16k/speech/test/rm4/babb/sp1447/Lab41-...      F    1   \n",
       "...                                                  ...    ...  ...   \n",
       "19195  distant-16k/speech/train/rm4/none/sp2673/Lab41...      M    1   \n",
       "19196  distant-16k/speech/train/rm4/none/sp1212/Lab41...      F    5   \n",
       "19197  distant-16k/speech/train/rm4/none/sp1212/Lab41...      F    1   \n",
       "19198  distant-16k/speech/train/rm4/none/sp1212/Lab41...      F    1   \n",
       "19199  distant-16k/speech/train/rm4/none/sp1212/Lab41...      F    5   \n",
       "\n",
       "                                              query_name room  segment  \\\n",
       "0      Lab41-SRI-VOiCES-rm4-babb-sp4899-ch032639-sg00...  rm4       29   \n",
       "1      Lab41-SRI-VOiCES-rm4-babb-sp4899-ch032639-sg00...  rm4       29   \n",
       "2      Lab41-SRI-VOiCES-rm4-babb-sp4899-ch032658-sg00...  rm4       12   \n",
       "3      Lab41-SRI-VOiCES-rm4-babb-sp4899-ch032658-sg00...  rm4       12   \n",
       "4      Lab41-SRI-VOiCES-rm4-babb-sp1447-ch130550-sg00...  rm4       26   \n",
       "...                                                  ...  ...      ...   \n",
       "19195  Lab41-SRI-VOiCES-rm4-none-sp2673-ch162129-sg00...  rm4       27   \n",
       "19196  Lab41-SRI-VOiCES-rm4-none-sp1212-ch075242-sg00...  rm4       16   \n",
       "19197  Lab41-SRI-VOiCES-rm4-none-sp1212-ch075242-sg00...  rm4       16   \n",
       "19198  Lab41-SRI-VOiCES-rm4-none-sp1212-ch014653-sg00...  rm4        3   \n",
       "19199  Lab41-SRI-VOiCES-rm4-none-sp1212-ch014653-sg00...  rm4        3   \n",
       "\n",
       "                                                  source  speaker  \\\n",
       "0      source-16k/test/sp4899/Lab41-SRI-VOiCES-src-sp...     4899   \n",
       "1      source-16k/test/sp4899/Lab41-SRI-VOiCES-src-sp...     4899   \n",
       "2      source-16k/test/sp4899/Lab41-SRI-VOiCES-src-sp...     4899   \n",
       "3      source-16k/test/sp4899/Lab41-SRI-VOiCES-src-sp...     4899   \n",
       "4      source-16k/test/sp1447/Lab41-SRI-VOiCES-src-sp...     1447   \n",
       "...                                                  ...      ...   \n",
       "19195  source-16k/train/sp2673/Lab41-SRI-VOiCES-src-s...     2673   \n",
       "19196  source-16k/train/sp1212/Lab41-SRI-VOiCES-src-s...     1212   \n",
       "19197  source-16k/train/sp1212/Lab41-SRI-VOiCES-src-s...     1212   \n",
       "19198  source-16k/train/sp1212/Lab41-SRI-VOiCES-src-s...     1212   \n",
       "19199  source-16k/train/sp1212/Lab41-SRI-VOiCES-src-s...     1212   \n",
       "\n",
       "                                              transcript  noisy_length  \\\n",
       "0      and i got on with the lesson very badly i am s...        255040   \n",
       "1      and i got on with the lesson very badly i am s...        255040   \n",
       "2      and ran upstairs to put away the host of littl...        258000   \n",
       "3      and ran upstairs to put away the host of littl...        258000   \n",
       "4                           he was inexhaustibly voluble         58720   \n",
       "...                                                  ...           ...   \n",
       "19195  and away with it we ought all to say if social...        239840   \n",
       "19196  and zip dropped from the boy's arms not into t...        269040   \n",
       "19197  and zip dropped from the boy's arms not into t...        269040   \n",
       "19198  for for the sake of my reputation i suggested ...        256080   \n",
       "19199  for for the sake of my reputation i suggested ...        256080   \n",
       "\n",
       "       noisy_sr  noisy_time  source_length  source_sr  source_time category  \n",
       "0         16000      15.940         255040      16000       15.940     test  \n",
       "1         16000      15.940         255040      16000       15.940     test  \n",
       "2         16000      16.125         258000      16000       16.125     test  \n",
       "3         16000      16.125         258000      16000       16.125     test  \n",
       "4         16000       3.670          58720      16000        3.670     test  \n",
       "...         ...         ...            ...        ...          ...      ...  \n",
       "19195     16000      14.990         239840      16000       14.990    train  \n",
       "19196     16000      16.815         269040      16000       16.815    train  \n",
       "19197     16000      16.815         269040      16000       16.815    train  \n",
       "19198     16000      16.005         256080      16000       16.005    train  \n",
       "19199     16000      16.005         256080      16000       16.005    train  \n",
       "\n",
       "[19200 rows x 20 columns]"
      ]
     },
     "execution_count": 18,
     "metadata": {},
     "output_type": "execute_result"
    }
   ],
   "source": [
    "df_raw = pd.read_pickle(data_address+\"df_merged.pkl\")\n",
    "df_raw"
   ]
  },
  {
   "cell_type": "code",
   "execution_count": 19,
   "metadata": {},
   "outputs": [
    {
     "data": {
      "text/plain": [
       "array([  83,   83,   83, ..., 1212, 1212, 1212], dtype=int64)"
      ]
     },
     "execution_count": 19,
     "metadata": {},
     "output_type": "execute_result"
    }
   ],
   "source": [
    "y = np.array(df_raw[df_raw['category']=='train']['speaker'])\n",
    "y"
   ]
  },
  {
   "cell_type": "markdown",
   "metadata": {},
   "source": [
    "## Modeling"
   ]
  },
  {
   "cell_type": "markdown",
   "metadata": {},
   "source": [
    "### tpot"
   ]
  },
  {
   "cell_type": "markdown",
   "metadata": {},
   "source": [
    "installation"
   ]
  },
  {
   "cell_type": "code",
   "execution_count": 20,
   "metadata": {},
   "outputs": [],
   "source": [
    "# !pip3 install torch torchvision torchaudio --index-url https://download.pytorch.org/whl/cu118"
   ]
  },
  {
   "cell_type": "code",
   "execution_count": 21,
   "metadata": {},
   "outputs": [],
   "source": [
    "# pip install deap update_checker tqdm stopit xgboost"
   ]
  },
  {
   "cell_type": "code",
   "execution_count": 22,
   "metadata": {},
   "outputs": [],
   "source": [
    "# pip install dask[delayed] dask[dataframe] dask-ml fsspec>=0.3.3 distributed>=2.10.0"
   ]
  },
  {
   "cell_type": "code",
   "execution_count": 23,
   "metadata": {},
   "outputs": [],
   "source": [
    "# pip install scikit-mdr skrebate"
   ]
  },
  {
   "cell_type": "code",
   "execution_count": 24,
   "metadata": {},
   "outputs": [],
   "source": [
    "# pip install tpot"
   ]
  },
  {
   "cell_type": "code",
   "execution_count": 35,
   "metadata": {},
   "outputs": [
    {
     "data": {
      "text/plain": [
       "(12800, 10982)"
      ]
     },
     "execution_count": 35,
     "metadata": {},
     "output_type": "execute_result"
    }
   ],
   "source": [
    "# Flatten X\n",
    "X = X.reshape(X.shape[0], -1)\n",
    "X.shape"
   ]
  },
  {
   "cell_type": "code",
   "execution_count": 36,
   "metadata": {},
   "outputs": [
    {
     "name": "stdout",
     "output_type": "stream",
     "text": [
      "                                                                                     \n",
      "Generation 1 - Current best internal CV score: 0.028645833333333332\n",
      "                                                                                     \n",
      "Generation 2 - Current best internal CV score: 0.028645833333333332\n",
      "                                                                                     \n",
      "Generation 3 - Current best internal CV score: 0.028645833333333332\n",
      "                                                               \n",
      "Generation 4 - Current best internal CV score: 0.028645833333333332\n",
      "                                                               \n",
      "Generation 5 - Current best internal CV score: 0.028645833333333332\n",
      "                                                               \n",
      "Best pipeline: GaussianNB(input_matrix)\n",
      "0.026875\n"
     ]
    }
   ],
   "source": [
    "from tpot import TPOTClassifier\n",
    "from sklearn.datasets import load_digits\n",
    "from sklearn.model_selection import train_test_split\n",
    "from sklearn.metrics import make_scorer\n",
    "\n",
    "digits = load_digits()\n",
    "X_train, X_test, y_train, y_test = train_test_split(X, y,\n",
    "                                                    train_size=0.75, test_size=0.25)\n",
    "# Make a custom metric function\n",
    "def my_custom_accuracy(y_true, y_pred):\n",
    "    return float(sum(y_pred == y_true)) / len(y_true)\n",
    "\n",
    "# Make a custom a scorer from the custom metric function\n",
    "# Note: greater_is_better=False in make_scorer below would mean that the scoring function should be minimized.\n",
    "my_custom_scorer = make_scorer(my_custom_accuracy, greater_is_better=True)\n",
    "\n",
    "tpot = TPOTClassifier(generations=5, population_size=20, verbosity=2,\n",
    "                      scoring=my_custom_scorer)\n",
    "tpot.fit(X_train, y_train)\n",
    "print(tpot.score(X_test, y_test))\n",
    "tpot.export('tpot_mfcc_pipeline.py')"
   ]
  },
  {
   "cell_type": "code",
   "execution_count": 33,
   "metadata": {},
   "outputs": [
    {
     "data": {
      "text/plain": [
       "(12800, 17, 646)"
      ]
     },
     "execution_count": 33,
     "metadata": {},
     "output_type": "execute_result"
    }
   ],
   "source": [
    "X.shape"
   ]
  }
 ],
 "metadata": {
  "kernelspec": {
   "display_name": "Python 3",
   "language": "python",
   "name": "python3"
  },
  "language_info": {
   "codemirror_mode": {
    "name": "ipython",
    "version": 3
   },
   "file_extension": ".py",
   "mimetype": "text/x-python",
   "name": "python",
   "nbconvert_exporter": "python",
   "pygments_lexer": "ipython3",
   "version": "3.11.7"
  }
 },
 "nbformat": 4,
 "nbformat_minor": 2
}
