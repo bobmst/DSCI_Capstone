{
 "cells": [
  {
   "cell_type": "markdown",
   "metadata": {},
   "source": [
    "## Library imports"
   ]
  },
  {
   "cell_type": "code",
   "execution_count": 1,
   "metadata": {},
   "outputs": [],
   "source": [
    "import pandas as pd\n",
    "import numpy as np\n",
    "from sklearn import preprocessing\n",
    "import librosa\n",
    "import pickle\n",
    "\n",
    "from tqdm import tqdm\n",
    "tqdm.pandas()"
   ]
  },
  {
   "cell_type": "code",
   "execution_count": 2,
   "metadata": {},
   "outputs": [],
   "source": [
    "from preprocessing_pipeline import *"
   ]
  },
  {
   "cell_type": "code",
   "execution_count": 3,
   "metadata": {},
   "outputs": [
    {
     "data": {
      "text/plain": [
       "'./data/'"
      ]
     },
     "execution_count": 3,
     "metadata": {},
     "output_type": "execute_result"
    }
   ],
   "source": [
    "from util import data_address\n",
    "data_address "
   ]
  },
  {
   "cell_type": "code",
   "execution_count": 4,
   "metadata": {},
   "outputs": [],
   "source": [
    "FILE_DIR = data_address+\"VOiCES_devkit/\""
   ]
  },
  {
   "cell_type": "markdown",
   "metadata": {},
   "source": [
    "## Read original file"
   ]
  },
  {
   "cell_type": "code",
   "execution_count": 5,
   "metadata": {},
   "outputs": [
    {
     "data": {
      "text/html": [
       "<div>\n",
       "<style scoped>\n",
       "    .dataframe tbody tr th:only-of-type {\n",
       "        vertical-align: middle;\n",
       "    }\n",
       "\n",
       "    .dataframe tbody tr th {\n",
       "        vertical-align: top;\n",
       "    }\n",
       "\n",
       "    .dataframe thead th {\n",
       "        text-align: right;\n",
       "    }\n",
       "</style>\n",
       "<table border=\"1\" class=\"dataframe\">\n",
       "  <thead>\n",
       "    <tr style=\"text-align: right;\">\n",
       "      <th></th>\n",
       "      <th>index</th>\n",
       "      <th>chapter</th>\n",
       "      <th>degrees</th>\n",
       "      <th>distractor</th>\n",
       "      <th>filename</th>\n",
       "      <th>gender</th>\n",
       "      <th>mic</th>\n",
       "      <th>query_name</th>\n",
       "      <th>room</th>\n",
       "      <th>segment</th>\n",
       "      <th>source</th>\n",
       "      <th>speaker</th>\n",
       "      <th>transcript</th>\n",
       "      <th>noisy_length</th>\n",
       "      <th>noisy_sr</th>\n",
       "      <th>noisy_time</th>\n",
       "      <th>source_length</th>\n",
       "      <th>source_sr</th>\n",
       "      <th>source_time</th>\n",
       "      <th>category</th>\n",
       "    </tr>\n",
       "  </thead>\n",
       "  <tbody>\n",
       "    <tr>\n",
       "      <th>0</th>\n",
       "      <td>0</td>\n",
       "      <td>32639</td>\n",
       "      <td>160</td>\n",
       "      <td>babb</td>\n",
       "      <td>distant-16k/speech/test/rm4/babb/sp4899/Lab41-...</td>\n",
       "      <td>F</td>\n",
       "      <td>1</td>\n",
       "      <td>Lab41-SRI-VOiCES-rm4-babb-sp4899-ch032639-sg00...</td>\n",
       "      <td>rm4</td>\n",
       "      <td>29</td>\n",
       "      <td>source-16k/test/sp4899/Lab41-SRI-VOiCES-src-sp...</td>\n",
       "      <td>4899</td>\n",
       "      <td>and i got on with the lesson very badly i am s...</td>\n",
       "      <td>255040</td>\n",
       "      <td>16000</td>\n",
       "      <td>15.940</td>\n",
       "      <td>255040</td>\n",
       "      <td>16000</td>\n",
       "      <td>15.940</td>\n",
       "      <td>test</td>\n",
       "    </tr>\n",
       "    <tr>\n",
       "      <th>1</th>\n",
       "      <td>1</td>\n",
       "      <td>32639</td>\n",
       "      <td>160</td>\n",
       "      <td>babb</td>\n",
       "      <td>distant-16k/speech/test/rm4/babb/sp4899/Lab41-...</td>\n",
       "      <td>F</td>\n",
       "      <td>5</td>\n",
       "      <td>Lab41-SRI-VOiCES-rm4-babb-sp4899-ch032639-sg00...</td>\n",
       "      <td>rm4</td>\n",
       "      <td>29</td>\n",
       "      <td>source-16k/test/sp4899/Lab41-SRI-VOiCES-src-sp...</td>\n",
       "      <td>4899</td>\n",
       "      <td>and i got on with the lesson very badly i am s...</td>\n",
       "      <td>255040</td>\n",
       "      <td>16000</td>\n",
       "      <td>15.940</td>\n",
       "      <td>255040</td>\n",
       "      <td>16000</td>\n",
       "      <td>15.940</td>\n",
       "      <td>test</td>\n",
       "    </tr>\n",
       "    <tr>\n",
       "      <th>2</th>\n",
       "      <td>2</td>\n",
       "      <td>32658</td>\n",
       "      <td>70</td>\n",
       "      <td>babb</td>\n",
       "      <td>distant-16k/speech/test/rm4/babb/sp4899/Lab41-...</td>\n",
       "      <td>F</td>\n",
       "      <td>5</td>\n",
       "      <td>Lab41-SRI-VOiCES-rm4-babb-sp4899-ch032658-sg00...</td>\n",
       "      <td>rm4</td>\n",
       "      <td>12</td>\n",
       "      <td>source-16k/test/sp4899/Lab41-SRI-VOiCES-src-sp...</td>\n",
       "      <td>4899</td>\n",
       "      <td>and ran upstairs to put away the host of littl...</td>\n",
       "      <td>258000</td>\n",
       "      <td>16000</td>\n",
       "      <td>16.125</td>\n",
       "      <td>258000</td>\n",
       "      <td>16000</td>\n",
       "      <td>16.125</td>\n",
       "      <td>test</td>\n",
       "    </tr>\n",
       "    <tr>\n",
       "      <th>3</th>\n",
       "      <td>3</td>\n",
       "      <td>32658</td>\n",
       "      <td>70</td>\n",
       "      <td>babb</td>\n",
       "      <td>distant-16k/speech/test/rm4/babb/sp4899/Lab41-...</td>\n",
       "      <td>F</td>\n",
       "      <td>1</td>\n",
       "      <td>Lab41-SRI-VOiCES-rm4-babb-sp4899-ch032658-sg00...</td>\n",
       "      <td>rm4</td>\n",
       "      <td>12</td>\n",
       "      <td>source-16k/test/sp4899/Lab41-SRI-VOiCES-src-sp...</td>\n",
       "      <td>4899</td>\n",
       "      <td>and ran upstairs to put away the host of littl...</td>\n",
       "      <td>258000</td>\n",
       "      <td>16000</td>\n",
       "      <td>16.125</td>\n",
       "      <td>258000</td>\n",
       "      <td>16000</td>\n",
       "      <td>16.125</td>\n",
       "      <td>test</td>\n",
       "    </tr>\n",
       "    <tr>\n",
       "      <th>4</th>\n",
       "      <td>4</td>\n",
       "      <td>130550</td>\n",
       "      <td>10</td>\n",
       "      <td>babb</td>\n",
       "      <td>distant-16k/speech/test/rm4/babb/sp1447/Lab41-...</td>\n",
       "      <td>F</td>\n",
       "      <td>1</td>\n",
       "      <td>Lab41-SRI-VOiCES-rm4-babb-sp1447-ch130550-sg00...</td>\n",
       "      <td>rm4</td>\n",
       "      <td>26</td>\n",
       "      <td>source-16k/test/sp1447/Lab41-SRI-VOiCES-src-sp...</td>\n",
       "      <td>1447</td>\n",
       "      <td>he was inexhaustibly voluble</td>\n",
       "      <td>58720</td>\n",
       "      <td>16000</td>\n",
       "      <td>3.670</td>\n",
       "      <td>58720</td>\n",
       "      <td>16000</td>\n",
       "      <td>3.670</td>\n",
       "      <td>test</td>\n",
       "    </tr>\n",
       "    <tr>\n",
       "      <th>...</th>\n",
       "      <td>...</td>\n",
       "      <td>...</td>\n",
       "      <td>...</td>\n",
       "      <td>...</td>\n",
       "      <td>...</td>\n",
       "      <td>...</td>\n",
       "      <td>...</td>\n",
       "      <td>...</td>\n",
       "      <td>...</td>\n",
       "      <td>...</td>\n",
       "      <td>...</td>\n",
       "      <td>...</td>\n",
       "      <td>...</td>\n",
       "      <td>...</td>\n",
       "      <td>...</td>\n",
       "      <td>...</td>\n",
       "      <td>...</td>\n",
       "      <td>...</td>\n",
       "      <td>...</td>\n",
       "      <td>...</td>\n",
       "    </tr>\n",
       "    <tr>\n",
       "      <th>19195</th>\n",
       "      <td>12795</td>\n",
       "      <td>162129</td>\n",
       "      <td>160</td>\n",
       "      <td>none</td>\n",
       "      <td>distant-16k/speech/train/rm4/none/sp2673/Lab41...</td>\n",
       "      <td>M</td>\n",
       "      <td>1</td>\n",
       "      <td>Lab41-SRI-VOiCES-rm4-none-sp2673-ch162129-sg00...</td>\n",
       "      <td>rm4</td>\n",
       "      <td>27</td>\n",
       "      <td>source-16k/train/sp2673/Lab41-SRI-VOiCES-src-s...</td>\n",
       "      <td>2673</td>\n",
       "      <td>and away with it we ought all to say if social...</td>\n",
       "      <td>239840</td>\n",
       "      <td>16000</td>\n",
       "      <td>14.990</td>\n",
       "      <td>239840</td>\n",
       "      <td>16000</td>\n",
       "      <td>14.990</td>\n",
       "      <td>train</td>\n",
       "    </tr>\n",
       "    <tr>\n",
       "      <th>19196</th>\n",
       "      <td>12796</td>\n",
       "      <td>75242</td>\n",
       "      <td>170</td>\n",
       "      <td>none</td>\n",
       "      <td>distant-16k/speech/train/rm4/none/sp1212/Lab41...</td>\n",
       "      <td>F</td>\n",
       "      <td>5</td>\n",
       "      <td>Lab41-SRI-VOiCES-rm4-none-sp1212-ch075242-sg00...</td>\n",
       "      <td>rm4</td>\n",
       "      <td>16</td>\n",
       "      <td>source-16k/train/sp1212/Lab41-SRI-VOiCES-src-s...</td>\n",
       "      <td>1212</td>\n",
       "      <td>and zip dropped from the boy's arms not into t...</td>\n",
       "      <td>269040</td>\n",
       "      <td>16000</td>\n",
       "      <td>16.815</td>\n",
       "      <td>269040</td>\n",
       "      <td>16000</td>\n",
       "      <td>16.815</td>\n",
       "      <td>train</td>\n",
       "    </tr>\n",
       "    <tr>\n",
       "      <th>19197</th>\n",
       "      <td>12797</td>\n",
       "      <td>75242</td>\n",
       "      <td>170</td>\n",
       "      <td>none</td>\n",
       "      <td>distant-16k/speech/train/rm4/none/sp1212/Lab41...</td>\n",
       "      <td>F</td>\n",
       "      <td>1</td>\n",
       "      <td>Lab41-SRI-VOiCES-rm4-none-sp1212-ch075242-sg00...</td>\n",
       "      <td>rm4</td>\n",
       "      <td>16</td>\n",
       "      <td>source-16k/train/sp1212/Lab41-SRI-VOiCES-src-s...</td>\n",
       "      <td>1212</td>\n",
       "      <td>and zip dropped from the boy's arms not into t...</td>\n",
       "      <td>269040</td>\n",
       "      <td>16000</td>\n",
       "      <td>16.815</td>\n",
       "      <td>269040</td>\n",
       "      <td>16000</td>\n",
       "      <td>16.815</td>\n",
       "      <td>train</td>\n",
       "    </tr>\n",
       "    <tr>\n",
       "      <th>19198</th>\n",
       "      <td>12798</td>\n",
       "      <td>14653</td>\n",
       "      <td>160</td>\n",
       "      <td>none</td>\n",
       "      <td>distant-16k/speech/train/rm4/none/sp1212/Lab41...</td>\n",
       "      <td>F</td>\n",
       "      <td>1</td>\n",
       "      <td>Lab41-SRI-VOiCES-rm4-none-sp1212-ch014653-sg00...</td>\n",
       "      <td>rm4</td>\n",
       "      <td>3</td>\n",
       "      <td>source-16k/train/sp1212/Lab41-SRI-VOiCES-src-s...</td>\n",
       "      <td>1212</td>\n",
       "      <td>for for the sake of my reputation i suggested ...</td>\n",
       "      <td>256080</td>\n",
       "      <td>16000</td>\n",
       "      <td>16.005</td>\n",
       "      <td>256080</td>\n",
       "      <td>16000</td>\n",
       "      <td>16.005</td>\n",
       "      <td>train</td>\n",
       "    </tr>\n",
       "    <tr>\n",
       "      <th>19199</th>\n",
       "      <td>12799</td>\n",
       "      <td>14653</td>\n",
       "      <td>160</td>\n",
       "      <td>none</td>\n",
       "      <td>distant-16k/speech/train/rm4/none/sp1212/Lab41...</td>\n",
       "      <td>F</td>\n",
       "      <td>5</td>\n",
       "      <td>Lab41-SRI-VOiCES-rm4-none-sp1212-ch014653-sg00...</td>\n",
       "      <td>rm4</td>\n",
       "      <td>3</td>\n",
       "      <td>source-16k/train/sp1212/Lab41-SRI-VOiCES-src-s...</td>\n",
       "      <td>1212</td>\n",
       "      <td>for for the sake of my reputation i suggested ...</td>\n",
       "      <td>256080</td>\n",
       "      <td>16000</td>\n",
       "      <td>16.005</td>\n",
       "      <td>256080</td>\n",
       "      <td>16000</td>\n",
       "      <td>16.005</td>\n",
       "      <td>train</td>\n",
       "    </tr>\n",
       "  </tbody>\n",
       "</table>\n",
       "<p>19200 rows × 20 columns</p>\n",
       "</div>"
      ],
      "text/plain": [
       "       index  chapter  degrees distractor  \\\n",
       "0          0    32639      160       babb   \n",
       "1          1    32639      160       babb   \n",
       "2          2    32658       70       babb   \n",
       "3          3    32658       70       babb   \n",
       "4          4   130550       10       babb   \n",
       "...      ...      ...      ...        ...   \n",
       "19195  12795   162129      160       none   \n",
       "19196  12796    75242      170       none   \n",
       "19197  12797    75242      170       none   \n",
       "19198  12798    14653      160       none   \n",
       "19199  12799    14653      160       none   \n",
       "\n",
       "                                                filename gender  mic  \\\n",
       "0      distant-16k/speech/test/rm4/babb/sp4899/Lab41-...      F    1   \n",
       "1      distant-16k/speech/test/rm4/babb/sp4899/Lab41-...      F    5   \n",
       "2      distant-16k/speech/test/rm4/babb/sp4899/Lab41-...      F    5   \n",
       "3      distant-16k/speech/test/rm4/babb/sp4899/Lab41-...      F    1   \n",
       "4      distant-16k/speech/test/rm4/babb/sp1447/Lab41-...      F    1   \n",
       "...                                                  ...    ...  ...   \n",
       "19195  distant-16k/speech/train/rm4/none/sp2673/Lab41...      M    1   \n",
       "19196  distant-16k/speech/train/rm4/none/sp1212/Lab41...      F    5   \n",
       "19197  distant-16k/speech/train/rm4/none/sp1212/Lab41...      F    1   \n",
       "19198  distant-16k/speech/train/rm4/none/sp1212/Lab41...      F    1   \n",
       "19199  distant-16k/speech/train/rm4/none/sp1212/Lab41...      F    5   \n",
       "\n",
       "                                              query_name room  segment  \\\n",
       "0      Lab41-SRI-VOiCES-rm4-babb-sp4899-ch032639-sg00...  rm4       29   \n",
       "1      Lab41-SRI-VOiCES-rm4-babb-sp4899-ch032639-sg00...  rm4       29   \n",
       "2      Lab41-SRI-VOiCES-rm4-babb-sp4899-ch032658-sg00...  rm4       12   \n",
       "3      Lab41-SRI-VOiCES-rm4-babb-sp4899-ch032658-sg00...  rm4       12   \n",
       "4      Lab41-SRI-VOiCES-rm4-babb-sp1447-ch130550-sg00...  rm4       26   \n",
       "...                                                  ...  ...      ...   \n",
       "19195  Lab41-SRI-VOiCES-rm4-none-sp2673-ch162129-sg00...  rm4       27   \n",
       "19196  Lab41-SRI-VOiCES-rm4-none-sp1212-ch075242-sg00...  rm4       16   \n",
       "19197  Lab41-SRI-VOiCES-rm4-none-sp1212-ch075242-sg00...  rm4       16   \n",
       "19198  Lab41-SRI-VOiCES-rm4-none-sp1212-ch014653-sg00...  rm4        3   \n",
       "19199  Lab41-SRI-VOiCES-rm4-none-sp1212-ch014653-sg00...  rm4        3   \n",
       "\n",
       "                                                  source  speaker  \\\n",
       "0      source-16k/test/sp4899/Lab41-SRI-VOiCES-src-sp...     4899   \n",
       "1      source-16k/test/sp4899/Lab41-SRI-VOiCES-src-sp...     4899   \n",
       "2      source-16k/test/sp4899/Lab41-SRI-VOiCES-src-sp...     4899   \n",
       "3      source-16k/test/sp4899/Lab41-SRI-VOiCES-src-sp...     4899   \n",
       "4      source-16k/test/sp1447/Lab41-SRI-VOiCES-src-sp...     1447   \n",
       "...                                                  ...      ...   \n",
       "19195  source-16k/train/sp2673/Lab41-SRI-VOiCES-src-s...     2673   \n",
       "19196  source-16k/train/sp1212/Lab41-SRI-VOiCES-src-s...     1212   \n",
       "19197  source-16k/train/sp1212/Lab41-SRI-VOiCES-src-s...     1212   \n",
       "19198  source-16k/train/sp1212/Lab41-SRI-VOiCES-src-s...     1212   \n",
       "19199  source-16k/train/sp1212/Lab41-SRI-VOiCES-src-s...     1212   \n",
       "\n",
       "                                              transcript  noisy_length  \\\n",
       "0      and i got on with the lesson very badly i am s...        255040   \n",
       "1      and i got on with the lesson very badly i am s...        255040   \n",
       "2      and ran upstairs to put away the host of littl...        258000   \n",
       "3      and ran upstairs to put away the host of littl...        258000   \n",
       "4                           he was inexhaustibly voluble         58720   \n",
       "...                                                  ...           ...   \n",
       "19195  and away with it we ought all to say if social...        239840   \n",
       "19196  and zip dropped from the boy's arms not into t...        269040   \n",
       "19197  and zip dropped from the boy's arms not into t...        269040   \n",
       "19198  for for the sake of my reputation i suggested ...        256080   \n",
       "19199  for for the sake of my reputation i suggested ...        256080   \n",
       "\n",
       "       noisy_sr  noisy_time  source_length  source_sr  source_time category  \n",
       "0         16000      15.940         255040      16000       15.940     test  \n",
       "1         16000      15.940         255040      16000       15.940     test  \n",
       "2         16000      16.125         258000      16000       16.125     test  \n",
       "3         16000      16.125         258000      16000       16.125     test  \n",
       "4         16000       3.670          58720      16000        3.670     test  \n",
       "...         ...         ...            ...        ...          ...      ...  \n",
       "19195     16000      14.990         239840      16000       14.990    train  \n",
       "19196     16000      16.815         269040      16000       16.815    train  \n",
       "19197     16000      16.815         269040      16000       16.815    train  \n",
       "19198     16000      16.005         256080      16000       16.005    train  \n",
       "19199     16000      16.005         256080      16000       16.005    train  \n",
       "\n",
       "[19200 rows x 20 columns]"
      ]
     },
     "execution_count": 5,
     "metadata": {},
     "output_type": "execute_result"
    }
   ],
   "source": [
    "df_raw = pd.read_pickle(data_address+\"df_merged.pkl\")\n",
    "df_raw"
   ]
  },
  {
   "cell_type": "markdown",
   "metadata": {},
   "source": [
    "## Preprocess Test Data"
   ]
  },
  {
   "cell_type": "code",
   "execution_count": 5,
   "metadata": {},
   "outputs": [],
   "source": [
    "# .py\n",
    "\n",
    "def read_signal(filename):\n",
    "    signal, sr = librosa.load(FILE_DIR+filename)\n",
    "    return signal, sr\n",
    "\n",
    "def save_pickle(filename,obj):\n",
    "    with open(filename, 'wb') as f:\n",
    "        pickle.dump(obj, f)\n",
    "\n",
    "def load_pickle(filename):\n",
    "    with open(filename, 'rb') as f:\n",
    "        obj = pickle.load(f)\n",
    "    return obj"
   ]
  },
  {
   "cell_type": "code",
   "execution_count": 8,
   "metadata": {},
   "outputs": [],
   "source": [
    "# s,sr = read_signal(ls_files[0])\n",
    "# process_audio(s,sr)\n"
   ]
  },
  {
   "cell_type": "code",
   "execution_count": null,
   "metadata": {},
   "outputs": [
    {
     "data": {
      "text/plain": [
       "0     distant-16k/speech/test/rm4/babb/sp4899/Lab41-...\n",
       "1     distant-16k/speech/test/rm4/babb/sp4899/Lab41-...\n",
       "2     distant-16k/speech/test/rm4/babb/sp4899/Lab41-...\n",
       "3     distant-16k/speech/test/rm4/babb/sp4899/Lab41-...\n",
       "4     distant-16k/speech/test/rm4/babb/sp1447/Lab41-...\n",
       "5     distant-16k/speech/test/rm4/babb/sp1447/Lab41-...\n",
       "6     distant-16k/speech/test/rm4/babb/sp1447/Lab41-...\n",
       "7     distant-16k/speech/test/rm4/babb/sp1447/Lab41-...\n",
       "8     distant-16k/speech/test/rm4/babb/sp0718/Lab41-...\n",
       "9     distant-16k/speech/test/rm4/babb/sp0718/Lab41-...\n",
       "10    distant-16k/speech/test/rm4/babb/sp0718/Lab41-...\n",
       "11    distant-16k/speech/test/rm4/babb/sp0718/Lab41-...\n",
       "12    distant-16k/speech/test/rm4/babb/sp1390/Lab41-...\n",
       "13    distant-16k/speech/test/rm4/babb/sp1390/Lab41-...\n",
       "14    distant-16k/speech/test/rm4/babb/sp1390/Lab41-...\n",
       "15    distant-16k/speech/test/rm4/babb/sp1390/Lab41-...\n",
       "16    distant-16k/speech/test/rm4/babb/sp3070/Lab41-...\n",
       "17    distant-16k/speech/test/rm4/babb/sp3070/Lab41-...\n",
       "18    distant-16k/speech/test/rm4/babb/sp3070/Lab41-...\n",
       "19    distant-16k/speech/test/rm4/babb/sp3070/Lab41-...\n",
       "Name: filename, dtype: object"
      ]
     },
     "execution_count": 14,
     "metadata": {},
     "output_type": "execute_result"
    }
   ],
   "source": [
    "# ls_files = df_raw[df_raw['category']=='test']['filename'][:20]\n",
    "# ls_files"
   ]
  },
  {
   "cell_type": "code",
   "execution_count": 41,
   "metadata": {},
   "outputs": [],
   "source": [
    "\n",
    "def process_audios_to_file(*,ls_files,save_dir,n_interval=1000,n_length=15, n_fft=2048, n_mels=128, n_mfcc=20):\n",
    "    n_count = 0\n",
    "    n_start = 0\n",
    "    ls_spectrogram = []\n",
    "    ls_mel = []\n",
    "    ls_mfcc = []\n",
    "\n",
    "    \n",
    "    for i, file_name in enumerate(tqdm(ls_files)):\n",
    "        n_count += 1\n",
    "        # print(i,file_name)\n",
    "        s,sr = read_signal(file_name)\n",
    "        spectrogram, melspectrogram, mfcc = process_audio(s,sr, length=n_length, n_fft=n_fft, n_mels=n_mels, n_mfcc=n_mfcc)\n",
    "        ls_spectrogram.append(spectrogram)\n",
    "        ls_mel.append(melspectrogram)\n",
    "        ls_mfcc.append(mfcc)\n",
    "\n",
    "        if n_count>= n_interval:\n",
    "            # print(str(n)+'-'+str(i))\n",
    "\n",
    "            # save to files \n",
    "            save_pickle(save_dir+f'spectrogram_len{n_length}_fft{n_fft}_mels{n_mels}_mfcc{n_mfcc}_{str(n_start)}-{str(i)}.pkl',np.array(ls_spectrogram))\n",
    "            save_pickle(save_dir+f'mel_len{n_length}_fft{n_fft}_mels{n_mels}_mfcc{n_mfcc}_{str(n_start)}-{str(i)}.pkl',np.array(ls_mel))\n",
    "            save_pickle(save_dir+f'mfcc_len{n_length}_fft{n_fft}_mels{n_mels}_mfcc{n_mfcc}_{str(n_start)}-{str(i)}.pkl',np.array(ls_mfcc))\n",
    "\n",
    "            n_start=i+1\n",
    "            # reset list\n",
    "            n_count = 0\n",
    "            ls_spectrogram.clear()\n",
    "            ls_mel.clear()\n",
    "            ls_mfcc.clear()\n",
    "    else:\n",
    "        save_pickle(save_dir+f'spectrogram_len{n_length}_fft{n_fft}_mels{n_mels}_mfcc{n_mfcc}_{str(n_start)}-{str(i)}.pkl',np.array(ls_spectrogram))\n",
    "        save_pickle(save_dir+f'mel_len{n_length}_fft{n_fft}_mels{n_mels}_mfcc{n_mfcc}_{str(n_start)}-{str(i)}.pkl',np.array(ls_mel))\n",
    "        save_pickle(save_dir+f'mfcc_len{n_length}_fft{n_fft}_mels{n_mels}_mfcc{n_mfcc}_{str(n_start)}-{str(i)}.pkl',np.array(ls_mfcc))\n",
    "\n"
   ]
  },
  {
   "cell_type": "code",
   "execution_count": 45,
   "metadata": {},
   "outputs": [],
   "source": [
    "# set parameters\n",
    "n_interval = 500\n",
    "\n",
    "n_length = 15\n",
    "n_fft = 2048\n",
    "n_mels = 128\n",
    "n_mfcc = 17\n",
    "\n"
   ]
  },
  {
   "cell_type": "code",
   "execution_count": 46,
   "metadata": {},
   "outputs": [
    {
     "name": "stderr",
     "output_type": "stream",
     "text": [
      "100%|██████████| 6400/6400 [19:17<00:00,  5.53it/s]  \n"
     ]
    }
   ],
   "source": [
    "# Process test files\n",
    "save_dir = data_address+'preprocessed/test/'\n",
    "process_audios_to_file(ls_files = df_raw[df_raw['category']=='test']['filename'],\n",
    "save_dir=save_dir,\n",
    "n_interval=n_interval,n_length=n_length, n_fft=n_fft, n_mels=n_mels, n_mfcc=n_mfcc)"
   ]
  },
  {
   "cell_type": "code",
   "execution_count": 47,
   "metadata": {},
   "outputs": [
    {
     "name": "stderr",
     "output_type": "stream",
     "text": [
      "100%|██████████| 12800/12800 [40:46<00:00,  5.23it/s] \n"
     ]
    }
   ],
   "source": [
    "# Process train files\n",
    "save_dir = data_address+'preprocessed/train/'\n",
    "process_audios_to_file(ls_files = df_raw[df_raw['category']=='train']['filename'],\n",
    "save_dir=save_dir,\n",
    "n_interval=n_interval,n_length=n_length, n_fft=n_fft, n_mels=n_mels, n_mfcc=n_mfcc)"
   ]
  },
  {
   "cell_type": "markdown",
   "metadata": {},
   "source": [
    "## Check load data"
   ]
  },
  {
   "cell_type": "code",
   "execution_count": 7,
   "metadata": {},
   "outputs": [],
   "source": [
    "save_dir = data_address+'preprocessed/test/'\n",
    "data_mfcc = load_pickle(save_dir + 'mfcc_len15_fft2048_mels128_mfcc17_0-499.pkl')"
   ]
  },
  {
   "cell_type": "code",
   "execution_count": 8,
   "metadata": {},
   "outputs": [
    {
     "data": {
      "text/plain": [
       "(500, 17, 646)"
      ]
     },
     "execution_count": 8,
     "metadata": {},
     "output_type": "execute_result"
    }
   ],
   "source": [
    ".shapedata_mfcc"
   ]
  },
  {
   "cell_type": "code",
   "execution_count": 10,
   "metadata": {},
   "outputs": [
    {
     "data": {
      "text/plain": [
       "(17, 646)"
      ]
     },
     "execution_count": 10,
     "metadata": {},
     "output_type": "execute_result"
    }
   ],
   "source": [
    "data_mfcc[0].shape"
   ]
  },
  {
   "cell_type": "code",
   "execution_count": 11,
   "metadata": {},
   "outputs": [],
   "source": [
    "data_mel = load_pickle(save_dir + 'mel_len15_fft2048_mels128_mfcc17_0-499.pkl')"
   ]
  },
  {
   "cell_type": "code",
   "execution_count": 13,
   "metadata": {},
   "outputs": [
    {
     "data": {
      "text/plain": [
       "(500, 128, 646)"
      ]
     },
     "execution_count": 13,
     "metadata": {},
     "output_type": "execute_result"
    }
   ],
   "source": [
    "data_mel.shape"
   ]
  },
  {
   "cell_type": "code",
   "execution_count": 14,
   "metadata": {},
   "outputs": [],
   "source": [
    "data_spec = load_pickle(save_dir + 'spectrogram_len15_fft2048_mels128_mfcc17_0-499.pkl')"
   ]
  },
  {
   "cell_type": "code",
   "execution_count": 15,
   "metadata": {},
   "outputs": [
    {
     "data": {
      "text/plain": [
       "(500, 1025, 646)"
      ]
     },
     "execution_count": 15,
     "metadata": {},
     "output_type": "execute_result"
    }
   ],
   "source": [
    "data_spec.shape"
   ]
  }
 ],
 "metadata": {
  "kernelspec": {
   "display_name": "Python 3",
   "language": "python",
   "name": "python3"
  },
  "language_info": {
   "codemirror_mode": {
    "name": "ipython",
    "version": 3
   },
   "file_extension": ".py",
   "mimetype": "text/x-python",
   "name": "python",
   "nbconvert_exporter": "python",
   "pygments_lexer": "ipython3",
   "version": "3.10.13"
  }
 },
 "nbformat": 4,
 "nbformat_minor": 2
}
